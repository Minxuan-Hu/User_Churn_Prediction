{
  "cells": [
    {
      "cell_type": "markdown",
      "metadata": {
        "id": "R88Ms0MTi0Ma"
      },
      "source": [
        "# User Churn Prediction in Music Streaming Service"
      ]
    },
    {
      "cell_type": "markdown",
      "metadata": {
        "id": "WA6lL1fni0Mb"
      },
      "source": [
        "In this project, we use supervised learning models to identify users who are likely to churn in the future after his/her subscription expires. Furthermore, we will analyze top factors that influence user retention."
      ]
    },
    {
      "cell_type": "markdown",
      "metadata": {
        "id": "bO94-bXZi0Md"
      },
      "source": [
        "## Contents"
      ]
    },
    {
      "cell_type": "markdown",
      "metadata": {
        "id": "SIvRSRqAi0Md"
      },
      "source": [
        "\n",
        "* [Part 1: Data Exploration](#Part-1:-Data-Exploration)\n",
        "* [Part 2: Feature Preprocessing](#Part-2:-Feature-Preprocessing)\n",
        "* [Part 3: Model Training and Results Evaluation](#Part-3:-Model-Training-and-Result-Evaluation)"
      ]
    },
    {
      "cell_type": "markdown",
      "metadata": {
        "id": "TUoI2S7Bi6iR"
      },
      "source": [
        "# Part 0: Data Collection\n"
      ]
    },
    {
      "cell_type": "code",
      "execution_count": null,
      "metadata": {
        "colab": {
          "base_uri": "https://localhost:8080/",
          "height": 224
        },
        "id": "nK7A1qhYSDxM",
        "outputId": "671c4218-ef04-4e37-b5be-23913a1e0ed6"
      },
      "outputs": [
        {
          "data": {
            "text/html": [
              "<div>\n",
              "<style scoped>\n",
              "    .dataframe tbody tr th:only-of-type {\n",
              "        vertical-align: middle;\n",
              "    }\n",
              "\n",
              "    .dataframe tbody tr th {\n",
              "        vertical-align: top;\n",
              "    }\n",
              "\n",
              "    .dataframe thead th {\n",
              "        text-align: right;\n",
              "    }\n",
              "</style>\n",
              "<table border=\"1\" class=\"dataframe\">\n",
              "  <thead>\n",
              "    <tr style=\"text-align: right;\">\n",
              "      <th></th>\n",
              "      <th>msno</th>\n",
              "      <th>city</th>\n",
              "      <th>bd</th>\n",
              "      <th>gender</th>\n",
              "      <th>registered_via</th>\n",
              "      <th>registration_init_time</th>\n",
              "    </tr>\n",
              "  </thead>\n",
              "  <tbody>\n",
              "    <tr>\n",
              "      <th>0</th>\n",
              "      <td>Rb9UwLQTrxzBVwCB6+bCcSQWZ9JiNLC9dXtM1oEsZA8=</td>\n",
              "      <td>1</td>\n",
              "      <td>0</td>\n",
              "      <td>NaN</td>\n",
              "      <td>11</td>\n",
              "      <td>20110911</td>\n",
              "    </tr>\n",
              "    <tr>\n",
              "      <th>1</th>\n",
              "      <td>+tJonkh+O1CA796Fm5X60UMOtB6POHAwPjbTRVl/EuU=</td>\n",
              "      <td>1</td>\n",
              "      <td>0</td>\n",
              "      <td>NaN</td>\n",
              "      <td>7</td>\n",
              "      <td>20110914</td>\n",
              "    </tr>\n",
              "    <tr>\n",
              "      <th>2</th>\n",
              "      <td>cV358ssn7a0f7jZOwGNWS07wCKVqxyiImJUX6xcIwKw=</td>\n",
              "      <td>1</td>\n",
              "      <td>0</td>\n",
              "      <td>NaN</td>\n",
              "      <td>11</td>\n",
              "      <td>20110915</td>\n",
              "    </tr>\n",
              "    <tr>\n",
              "      <th>3</th>\n",
              "      <td>9bzDeJP6sQodK73K5CBlJ6fgIQzPeLnRl0p5B77XP+g=</td>\n",
              "      <td>1</td>\n",
              "      <td>0</td>\n",
              "      <td>NaN</td>\n",
              "      <td>11</td>\n",
              "      <td>20110915</td>\n",
              "    </tr>\n",
              "    <tr>\n",
              "      <th>4</th>\n",
              "      <td>WFLY3s7z4EZsieHCt63XrsdtfTEmJ+2PnnKLH5GY4Tk=</td>\n",
              "      <td>6</td>\n",
              "      <td>32</td>\n",
              "      <td>female</td>\n",
              "      <td>9</td>\n",
              "      <td>20110915</td>\n",
              "    </tr>\n",
              "  </tbody>\n",
              "</table>\n",
              "</div>"
            ],
            "text/plain": [
              "                                           msno  city  bd  gender  \\\n",
              "0  Rb9UwLQTrxzBVwCB6+bCcSQWZ9JiNLC9dXtM1oEsZA8=     1   0     NaN   \n",
              "1  +tJonkh+O1CA796Fm5X60UMOtB6POHAwPjbTRVl/EuU=     1   0     NaN   \n",
              "2  cV358ssn7a0f7jZOwGNWS07wCKVqxyiImJUX6xcIwKw=     1   0     NaN   \n",
              "3  9bzDeJP6sQodK73K5CBlJ6fgIQzPeLnRl0p5B77XP+g=     1   0     NaN   \n",
              "4  WFLY3s7z4EZsieHCt63XrsdtfTEmJ+2PnnKLH5GY4Tk=     6  32  female   \n",
              "\n",
              "   registered_via  registration_init_time  \n",
              "0              11                20110911  \n",
              "1               7                20110914  \n",
              "2              11                20110915  \n",
              "3              11                20110915  \n",
              "4               9                20110915  "
            ]
          },
          "execution_count": 1,
          "metadata": {},
          "output_type": "execute_result"
        }
      ],
      "source": [
        "# google datasset search\n",
        "# https://datasetsearch.research.google.com/\n",
        "import pandas as pd\n",
        "pd.set_option('display.max_columns', None)\n",
        "\n",
        "members = pd.read_csv('members.csv')\n",
        "members.head()"
      ]
    },
    {
      "cell_type": "code",
      "execution_count": null,
      "metadata": {
        "id": "gIgXtdGfGHP0",
        "outputId": "f3254a6a-9851-497e-894c-f88f6f0b5d96"
      },
      "outputs": [
        {
          "name": "stdout",
          "output_type": "stream",
          "text": [
            "<class 'pandas.core.frame.DataFrame'>\n",
            "RangeIndex: 6769473 entries, 0 to 6769472\n",
            "Data columns (total 6 columns):\n",
            " #   Column                  Dtype \n",
            "---  ------                  ----- \n",
            " 0   msno                    object\n",
            " 1   city                    int64 \n",
            " 2   bd                      int64 \n",
            " 3   gender                  object\n",
            " 4   registered_via          int64 \n",
            " 5   registration_init_time  int64 \n",
            "dtypes: int64(4), object(2)\n",
            "memory usage: 309.9+ MB\n"
          ]
        }
      ],
      "source": [
        "members.info()"
      ]
    },
    {
      "cell_type": "code",
      "execution_count": null,
      "metadata": {
        "id": "eVJ7dmJ2GHP0",
        "outputId": "df973a8d-e617-436c-b2f6-b25ff85bec9d"
      },
      "outputs": [
        {
          "data": {
            "text/plain": [
              "msno                      6769473\n",
              "city                           21\n",
              "bd                            386\n",
              "gender                          2\n",
              "registered_via                 18\n",
              "registration_init_time       4782\n",
              "dtype: int64"
            ]
          },
          "execution_count": 3,
          "metadata": {},
          "output_type": "execute_result"
        }
      ],
      "source": [
        "members.nunique()"
      ]
    },
    {
      "cell_type": "code",
      "execution_count": null,
      "metadata": {
        "id": "eeNrYi9QGHP1",
        "outputId": "b9f3657a-2e20-41a2-ea49-a2e0a3a1d8d8"
      },
      "outputs": [
        {
          "data": {
            "text/html": [
              "<div>\n",
              "<style scoped>\n",
              "    .dataframe tbody tr th:only-of-type {\n",
              "        vertical-align: middle;\n",
              "    }\n",
              "\n",
              "    .dataframe tbody tr th {\n",
              "        vertical-align: top;\n",
              "    }\n",
              "\n",
              "    .dataframe thead th {\n",
              "        text-align: right;\n",
              "    }\n",
              "</style>\n",
              "<table border=\"1\" class=\"dataframe\">\n",
              "  <thead>\n",
              "    <tr style=\"text-align: right;\">\n",
              "      <th></th>\n",
              "      <th>msno</th>\n",
              "      <th>payment_method_id</th>\n",
              "      <th>payment_plan_days</th>\n",
              "      <th>plan_list_price</th>\n",
              "      <th>actual_amount_paid</th>\n",
              "      <th>is_auto_renew</th>\n",
              "      <th>transaction_date</th>\n",
              "      <th>membership_expire_date</th>\n",
              "      <th>is_cancel</th>\n",
              "    </tr>\n",
              "  </thead>\n",
              "  <tbody>\n",
              "    <tr>\n",
              "      <th>0</th>\n",
              "      <td>++6eU4LsQ3UQ20ILS7d99XK8WbiVgbyYL4FUgzZR134=</td>\n",
              "      <td>32</td>\n",
              "      <td>90</td>\n",
              "      <td>298</td>\n",
              "      <td>298</td>\n",
              "      <td>0</td>\n",
              "      <td>20170131</td>\n",
              "      <td>20170504</td>\n",
              "      <td>0</td>\n",
              "    </tr>\n",
              "    <tr>\n",
              "      <th>1</th>\n",
              "      <td>++lvGPJOinuin/8esghpnqdljm6NXS8m8Zwchc7gOeA=</td>\n",
              "      <td>41</td>\n",
              "      <td>30</td>\n",
              "      <td>149</td>\n",
              "      <td>149</td>\n",
              "      <td>1</td>\n",
              "      <td>20150809</td>\n",
              "      <td>20190412</td>\n",
              "      <td>0</td>\n",
              "    </tr>\n",
              "    <tr>\n",
              "      <th>2</th>\n",
              "      <td>+/GXNtXWQVfKrEDqYAzcSw2xSPYMKWNj22m+5XkVQZc=</td>\n",
              "      <td>36</td>\n",
              "      <td>30</td>\n",
              "      <td>180</td>\n",
              "      <td>180</td>\n",
              "      <td>1</td>\n",
              "      <td>20170303</td>\n",
              "      <td>20170422</td>\n",
              "      <td>0</td>\n",
              "    </tr>\n",
              "    <tr>\n",
              "      <th>3</th>\n",
              "      <td>+/w1UrZwyka4C9oNH3+Q8fUf3fD8R3EwWrx57ODIsqk=</td>\n",
              "      <td>36</td>\n",
              "      <td>30</td>\n",
              "      <td>180</td>\n",
              "      <td>180</td>\n",
              "      <td>1</td>\n",
              "      <td>20170329</td>\n",
              "      <td>20170331</td>\n",
              "      <td>1</td>\n",
              "    </tr>\n",
              "    <tr>\n",
              "      <th>4</th>\n",
              "      <td>+00PGzKTYqtnb65mPKPyeHXcZEwqiEzktpQksaaSC3c=</td>\n",
              "      <td>41</td>\n",
              "      <td>30</td>\n",
              "      <td>99</td>\n",
              "      <td>99</td>\n",
              "      <td>1</td>\n",
              "      <td>20170323</td>\n",
              "      <td>20170423</td>\n",
              "      <td>0</td>\n",
              "    </tr>\n",
              "  </tbody>\n",
              "</table>\n",
              "</div>"
            ],
            "text/plain": [
              "                                           msno  payment_method_id  \\\n",
              "0  ++6eU4LsQ3UQ20ILS7d99XK8WbiVgbyYL4FUgzZR134=                 32   \n",
              "1  ++lvGPJOinuin/8esghpnqdljm6NXS8m8Zwchc7gOeA=                 41   \n",
              "2  +/GXNtXWQVfKrEDqYAzcSw2xSPYMKWNj22m+5XkVQZc=                 36   \n",
              "3  +/w1UrZwyka4C9oNH3+Q8fUf3fD8R3EwWrx57ODIsqk=                 36   \n",
              "4  +00PGzKTYqtnb65mPKPyeHXcZEwqiEzktpQksaaSC3c=                 41   \n",
              "\n",
              "   payment_plan_days  plan_list_price  actual_amount_paid  is_auto_renew  \\\n",
              "0                 90              298                 298              0   \n",
              "1                 30              149                 149              1   \n",
              "2                 30              180                 180              1   \n",
              "3                 30              180                 180              1   \n",
              "4                 30               99                  99              1   \n",
              "\n",
              "   transaction_date  membership_expire_date  is_cancel  \n",
              "0          20170131                20170504          0  \n",
              "1          20150809                20190412          0  \n",
              "2          20170303                20170422          0  \n",
              "3          20170329                20170331          1  \n",
              "4          20170323                20170423          0  "
            ]
          },
          "execution_count": 4,
          "metadata": {},
          "output_type": "execute_result"
        }
      ],
      "source": [
        "transactions = pd.read_csv('transactions.csv')\n",
        "transactions.head()"
      ]
    },
    {
      "cell_type": "code",
      "execution_count": null,
      "metadata": {
        "id": "TxpuJguWGHP2",
        "outputId": "28509e2e-caa7-4bae-ef99-bbb3ec6decd0"
      },
      "outputs": [
        {
          "name": "stdout",
          "output_type": "stream",
          "text": [
            "<class 'pandas.core.frame.DataFrame'>\n",
            "RangeIndex: 1431009 entries, 0 to 1431008\n",
            "Data columns (total 9 columns):\n",
            " #   Column                  Non-Null Count    Dtype \n",
            "---  ------                  --------------    ----- \n",
            " 0   msno                    1431009 non-null  object\n",
            " 1   payment_method_id       1431009 non-null  int64 \n",
            " 2   payment_plan_days       1431009 non-null  int64 \n",
            " 3   plan_list_price         1431009 non-null  int64 \n",
            " 4   actual_amount_paid      1431009 non-null  int64 \n",
            " 5   is_auto_renew           1431009 non-null  int64 \n",
            " 6   transaction_date        1431009 non-null  int64 \n",
            " 7   membership_expire_date  1431009 non-null  int64 \n",
            " 8   is_cancel               1431009 non-null  int64 \n",
            "dtypes: int64(8), object(1)\n",
            "memory usage: 98.3+ MB\n"
          ]
        }
      ],
      "source": [
        "transactions.info()"
      ]
    },
    {
      "cell_type": "code",
      "execution_count": null,
      "metadata": {
        "id": "R1ItCL3cGHP2",
        "outputId": "4efe6115-7370-4cb0-a197-5703b7c2a446"
      },
      "outputs": [
        {
          "data": {
            "text/plain": [
              "msno                      1197050\n",
              "payment_method_id              37\n",
              "payment_plan_days              31\n",
              "plan_list_price                48\n",
              "actual_amount_paid             53\n",
              "is_auto_renew                   2\n",
              "transaction_date              820\n",
              "membership_expire_date       1960\n",
              "is_cancel                       2\n",
              "dtype: int64"
            ]
          },
          "execution_count": 6,
          "metadata": {},
          "output_type": "execute_result"
        }
      ],
      "source": [
        "transactions.nunique()"
      ]
    },
    {
      "cell_type": "code",
      "execution_count": null,
      "metadata": {
        "id": "_iiLo0vgGHP2"
      },
      "outputs": [],
      "source": [
        "transactions = transactions.groupby(\"msno\").max(\"transaction_date\").reset_index()"
      ]
    },
    {
      "cell_type": "code",
      "execution_count": null,
      "metadata": {
        "id": "W-AMCWLCGHP2"
      },
      "outputs": [],
      "source": [
        "user_logs = pd.read_csv('user_logs.csv')\n",
        "user_logs.head()"
      ]
    },
    {
      "cell_type": "code",
      "execution_count": null,
      "metadata": {
        "id": "rBFWO32ZGHP2"
      },
      "outputs": [],
      "source": [
        "user_logs.info()"
      ]
    },
    {
      "cell_type": "code",
      "execution_count": null,
      "metadata": {
        "id": "iysNXX5yGHP3"
      },
      "outputs": [],
      "source": [
        "user_logs.nunique()"
      ]
    },
    {
      "cell_type": "code",
      "execution_count": null,
      "metadata": {
        "id": "TiKoudJBGHP3"
      },
      "outputs": [],
      "source": [
        "user_logs = user_logs.drop(\"date\", axis=1)"
      ]
    },
    {
      "cell_type": "code",
      "execution_count": null,
      "metadata": {
        "id": "9agymjJUGHP3"
      },
      "outputs": [],
      "source": [
        "user_logs = user_logs.groupby(\"msno\").mean().reset_index()"
      ]
    },
    {
      "cell_type": "code",
      "execution_count": null,
      "metadata": {
        "id": "MmkyRprwGHP3"
      },
      "outputs": [],
      "source": [
        "user_logs.head()"
      ]
    },
    {
      "cell_type": "code",
      "execution_count": null,
      "metadata": {
        "id": "DxSsBf8JGHP3"
      },
      "outputs": [],
      "source": [
        "train = pd.read_csv('train.csv')\n",
        "train.head()"
      ]
    },
    {
      "cell_type": "code",
      "execution_count": null,
      "metadata": {
        "id": "wVhCAz0VGHP4"
      },
      "outputs": [],
      "source": [
        "train.info()"
      ]
    },
    {
      "cell_type": "code",
      "execution_count": null,
      "metadata": {
        "id": "toHeEUWaGHP4"
      },
      "outputs": [],
      "source": [
        "train.nunique()"
      ]
    },
    {
      "cell_type": "code",
      "execution_count": null,
      "metadata": {
        "id": "JvFRTTpPGHP4"
      },
      "outputs": [],
      "source": [
        "data = pd.merge(members, user_logs, how=\"inner\", on=[\"msno\"])"
      ]
    },
    {
      "cell_type": "code",
      "execution_count": null,
      "metadata": {
        "id": "3nk7izK7GHP4"
      },
      "outputs": [],
      "source": [
        "data = pd.merge(data, transactions, how=\"inner\", on=[\"msno\"])"
      ]
    },
    {
      "cell_type": "code",
      "execution_count": null,
      "metadata": {
        "id": "olwSjMKaGHP4"
      },
      "outputs": [],
      "source": [
        "data = pd.merge(data, train, how=\"inner\", on=[\"msno\"])"
      ]
    },
    {
      "cell_type": "code",
      "execution_count": null,
      "metadata": {
        "id": "M4Ie2CvZGHP4"
      },
      "outputs": [],
      "source": [
        "data.head()"
      ]
    },
    {
      "cell_type": "code",
      "execution_count": null,
      "metadata": {
        "id": "8g-oRAdwGHP4"
      },
      "outputs": [],
      "source": [
        "data.to_csv('user_churn.csv', index=False)"
      ]
    },
    {
      "cell_type": "markdown",
      "metadata": {
        "id": "a6bG_gAPi0Me"
      },
      "source": [
        "# Part 1: Data Exploration"
      ]
    },
    {
      "cell_type": "markdown",
      "metadata": {
        "id": "bspx2K6fi0Me"
      },
      "source": [
        "### Part 1.1: Understand the Raw Dataset"
      ]
    },
    {
      "cell_type": "code",
      "source": [
        "from google.colab import drive\n",
        "drive.mount('/content/drive')"
      ],
      "metadata": {
        "colab": {
          "base_uri": "https://localhost:8080/"
        },
        "id": "RAhyetGaGVqQ",
        "outputId": "15870d4f-8eef-470c-90d7-e7f115362113"
      },
      "execution_count": null,
      "outputs": [
        {
          "output_type": "stream",
          "name": "stdout",
          "text": [
            "Mounted at /content/drive\n"
          ]
        }
      ]
    },
    {
      "cell_type": "code",
      "execution_count": null,
      "metadata": {
        "id": "kuTHKjk-i0Mf"
      },
      "outputs": [],
      "source": [
        "import pandas as pd\n",
        "import numpy as np\n",
        "\n",
        "data = pd.read_csv('/content/drive/My Drive/Project_LO/User_Churn/user_churn.csv', parse_dates=['registration_init_time', 'transaction_date', 'membership_expire_date'])"
      ]
    },
    {
      "cell_type": "code",
      "execution_count": null,
      "metadata": {
        "colab": {
          "base_uri": "https://localhost:8080/",
          "height": 300
        },
        "id": "hHNZRs2Ti0Mi",
        "outputId": "b6799d5f-5996-4afc-ea14-05871b3c9cd1",
        "scrolled": true
      },
      "outputs": [
        {
          "output_type": "execute_result",
          "data": {
            "text/plain": [
              "                                           msno  city  bd  gender  \\\n",
              "0  +tJonkh+O1CA796Fm5X60UMOtB6POHAwPjbTRVl/EuU=     1   0     NaN   \n",
              "1  yLkV2gbZ4GLFwqTOXLVHz0VGrMYcgBGgKZ3kj9RiYu8=     4  30    male   \n",
              "2  I0yFvqMoNkM8ZNHb617e1RBzIS/YRKemHO7Wj13EtA0=    13  63    male   \n",
              "3  OoDwiKZM+ZGr9P3fRivavgOtglTEaNfWJO4KaJcTTts=     1   0     NaN   \n",
              "4  4De1jAxNRABoyRBDZ82U0yEmzYkqeOugRGVNIf92Xb8=     4  28  female   \n",
              "\n",
              "   registered_via registration_init_time    num_25    num_50    num_75  \\\n",
              "0               7             2011-09-14  9.233333  2.600000  2.300000   \n",
              "1               9             2011-09-16  2.333333  1.333333  1.000000   \n",
              "2               9             2011-09-18  4.277778  1.722222  0.722222   \n",
              "3               7             2011-09-18  1.000000  0.666667  0.333333   \n",
              "4               9             2011-09-20  1.200000  0.100000  0.200000   \n",
              "\n",
              "    num_985  ...    total_secs  payment_method_id  payment_plan_days  \\\n",
              "0  1.866667  ...  11951.799833                 41                 30   \n",
              "1  1.833333  ...  20611.449000                 39                 30   \n",
              "2  1.444444  ...   4469.457500                 40                 30   \n",
              "3  0.333333  ...   2871.130667                 41                 30   \n",
              "4  0.200000  ...   2249.476400                 36                 30   \n",
              "\n",
              "   plan_list_price  actual_amount_paid  is_auto_renew  transaction_date  \\\n",
              "0              129                 129              1        2017-03-27   \n",
              "1              149                 149              1        2017-03-31   \n",
              "2              149                 149              1        2017-03-27   \n",
              "3              149                 149              1        2017-03-26   \n",
              "4              180                 180              1        2017-03-03   \n",
              "\n",
              "   membership_expire_date is_cancel is_churn  \n",
              "0              2017-04-28         0        0  \n",
              "1              2017-05-17         0        0  \n",
              "2              2017-04-26         0        0  \n",
              "3              2017-04-27         0        1  \n",
              "4              2017-04-02         0        0  \n",
              "\n",
              "[5 rows x 22 columns]"
            ],
            "text/html": [
              "\n",
              "  <div id=\"df-fc006d26-308f-4872-a719-cf5635215af8\">\n",
              "    <div class=\"colab-df-container\">\n",
              "      <div>\n",
              "<style scoped>\n",
              "    .dataframe tbody tr th:only-of-type {\n",
              "        vertical-align: middle;\n",
              "    }\n",
              "\n",
              "    .dataframe tbody tr th {\n",
              "        vertical-align: top;\n",
              "    }\n",
              "\n",
              "    .dataframe thead th {\n",
              "        text-align: right;\n",
              "    }\n",
              "</style>\n",
              "<table border=\"1\" class=\"dataframe\">\n",
              "  <thead>\n",
              "    <tr style=\"text-align: right;\">\n",
              "      <th></th>\n",
              "      <th>msno</th>\n",
              "      <th>city</th>\n",
              "      <th>bd</th>\n",
              "      <th>gender</th>\n",
              "      <th>registered_via</th>\n",
              "      <th>registration_init_time</th>\n",
              "      <th>num_25</th>\n",
              "      <th>num_50</th>\n",
              "      <th>num_75</th>\n",
              "      <th>num_985</th>\n",
              "      <th>...</th>\n",
              "      <th>total_secs</th>\n",
              "      <th>payment_method_id</th>\n",
              "      <th>payment_plan_days</th>\n",
              "      <th>plan_list_price</th>\n",
              "      <th>actual_amount_paid</th>\n",
              "      <th>is_auto_renew</th>\n",
              "      <th>transaction_date</th>\n",
              "      <th>membership_expire_date</th>\n",
              "      <th>is_cancel</th>\n",
              "      <th>is_churn</th>\n",
              "    </tr>\n",
              "  </thead>\n",
              "  <tbody>\n",
              "    <tr>\n",
              "      <th>0</th>\n",
              "      <td>+tJonkh+O1CA796Fm5X60UMOtB6POHAwPjbTRVl/EuU=</td>\n",
              "      <td>1</td>\n",
              "      <td>0</td>\n",
              "      <td>NaN</td>\n",
              "      <td>7</td>\n",
              "      <td>2011-09-14</td>\n",
              "      <td>9.233333</td>\n",
              "      <td>2.600000</td>\n",
              "      <td>2.300000</td>\n",
              "      <td>1.866667</td>\n",
              "      <td>...</td>\n",
              "      <td>11951.799833</td>\n",
              "      <td>41</td>\n",
              "      <td>30</td>\n",
              "      <td>129</td>\n",
              "      <td>129</td>\n",
              "      <td>1</td>\n",
              "      <td>2017-03-27</td>\n",
              "      <td>2017-04-28</td>\n",
              "      <td>0</td>\n",
              "      <td>0</td>\n",
              "    </tr>\n",
              "    <tr>\n",
              "      <th>1</th>\n",
              "      <td>yLkV2gbZ4GLFwqTOXLVHz0VGrMYcgBGgKZ3kj9RiYu8=</td>\n",
              "      <td>4</td>\n",
              "      <td>30</td>\n",
              "      <td>male</td>\n",
              "      <td>9</td>\n",
              "      <td>2011-09-16</td>\n",
              "      <td>2.333333</td>\n",
              "      <td>1.333333</td>\n",
              "      <td>1.000000</td>\n",
              "      <td>1.833333</td>\n",
              "      <td>...</td>\n",
              "      <td>20611.449000</td>\n",
              "      <td>39</td>\n",
              "      <td>30</td>\n",
              "      <td>149</td>\n",
              "      <td>149</td>\n",
              "      <td>1</td>\n",
              "      <td>2017-03-31</td>\n",
              "      <td>2017-05-17</td>\n",
              "      <td>0</td>\n",
              "      <td>0</td>\n",
              "    </tr>\n",
              "    <tr>\n",
              "      <th>2</th>\n",
              "      <td>I0yFvqMoNkM8ZNHb617e1RBzIS/YRKemHO7Wj13EtA0=</td>\n",
              "      <td>13</td>\n",
              "      <td>63</td>\n",
              "      <td>male</td>\n",
              "      <td>9</td>\n",
              "      <td>2011-09-18</td>\n",
              "      <td>4.277778</td>\n",
              "      <td>1.722222</td>\n",
              "      <td>0.722222</td>\n",
              "      <td>1.444444</td>\n",
              "      <td>...</td>\n",
              "      <td>4469.457500</td>\n",
              "      <td>40</td>\n",
              "      <td>30</td>\n",
              "      <td>149</td>\n",
              "      <td>149</td>\n",
              "      <td>1</td>\n",
              "      <td>2017-03-27</td>\n",
              "      <td>2017-04-26</td>\n",
              "      <td>0</td>\n",
              "      <td>0</td>\n",
              "    </tr>\n",
              "    <tr>\n",
              "      <th>3</th>\n",
              "      <td>OoDwiKZM+ZGr9P3fRivavgOtglTEaNfWJO4KaJcTTts=</td>\n",
              "      <td>1</td>\n",
              "      <td>0</td>\n",
              "      <td>NaN</td>\n",
              "      <td>7</td>\n",
              "      <td>2011-09-18</td>\n",
              "      <td>1.000000</td>\n",
              "      <td>0.666667</td>\n",
              "      <td>0.333333</td>\n",
              "      <td>0.333333</td>\n",
              "      <td>...</td>\n",
              "      <td>2871.130667</td>\n",
              "      <td>41</td>\n",
              "      <td>30</td>\n",
              "      <td>149</td>\n",
              "      <td>149</td>\n",
              "      <td>1</td>\n",
              "      <td>2017-03-26</td>\n",
              "      <td>2017-04-27</td>\n",
              "      <td>0</td>\n",
              "      <td>1</td>\n",
              "    </tr>\n",
              "    <tr>\n",
              "      <th>4</th>\n",
              "      <td>4De1jAxNRABoyRBDZ82U0yEmzYkqeOugRGVNIf92Xb8=</td>\n",
              "      <td>4</td>\n",
              "      <td>28</td>\n",
              "      <td>female</td>\n",
              "      <td>9</td>\n",
              "      <td>2011-09-20</td>\n",
              "      <td>1.200000</td>\n",
              "      <td>0.100000</td>\n",
              "      <td>0.200000</td>\n",
              "      <td>0.200000</td>\n",
              "      <td>...</td>\n",
              "      <td>2249.476400</td>\n",
              "      <td>36</td>\n",
              "      <td>30</td>\n",
              "      <td>180</td>\n",
              "      <td>180</td>\n",
              "      <td>1</td>\n",
              "      <td>2017-03-03</td>\n",
              "      <td>2017-04-02</td>\n",
              "      <td>0</td>\n",
              "      <td>0</td>\n",
              "    </tr>\n",
              "  </tbody>\n",
              "</table>\n",
              "<p>5 rows × 22 columns</p>\n",
              "</div>\n",
              "      <button class=\"colab-df-convert\" onclick=\"convertToInteractive('df-fc006d26-308f-4872-a719-cf5635215af8')\"\n",
              "              title=\"Convert this dataframe to an interactive table.\"\n",
              "              style=\"display:none;\">\n",
              "        \n",
              "  <svg xmlns=\"http://www.w3.org/2000/svg\" height=\"24px\"viewBox=\"0 0 24 24\"\n",
              "       width=\"24px\">\n",
              "    <path d=\"M0 0h24v24H0V0z\" fill=\"none\"/>\n",
              "    <path d=\"M18.56 5.44l.94 2.06.94-2.06 2.06-.94-2.06-.94-.94-2.06-.94 2.06-2.06.94zm-11 1L8.5 8.5l.94-2.06 2.06-.94-2.06-.94L8.5 2.5l-.94 2.06-2.06.94zm10 10l.94 2.06.94-2.06 2.06-.94-2.06-.94-.94-2.06-.94 2.06-2.06.94z\"/><path d=\"M17.41 7.96l-1.37-1.37c-.4-.4-.92-.59-1.43-.59-.52 0-1.04.2-1.43.59L10.3 9.45l-7.72 7.72c-.78.78-.78 2.05 0 2.83L4 21.41c.39.39.9.59 1.41.59.51 0 1.02-.2 1.41-.59l7.78-7.78 2.81-2.81c.8-.78.8-2.07 0-2.86zM5.41 20L4 18.59l7.72-7.72 1.47 1.35L5.41 20z\"/>\n",
              "  </svg>\n",
              "      </button>\n",
              "      \n",
              "  <style>\n",
              "    .colab-df-container {\n",
              "      display:flex;\n",
              "      flex-wrap:wrap;\n",
              "      gap: 12px;\n",
              "    }\n",
              "\n",
              "    .colab-df-convert {\n",
              "      background-color: #E8F0FE;\n",
              "      border: none;\n",
              "      border-radius: 50%;\n",
              "      cursor: pointer;\n",
              "      display: none;\n",
              "      fill: #1967D2;\n",
              "      height: 32px;\n",
              "      padding: 0 0 0 0;\n",
              "      width: 32px;\n",
              "    }\n",
              "\n",
              "    .colab-df-convert:hover {\n",
              "      background-color: #E2EBFA;\n",
              "      box-shadow: 0px 1px 2px rgba(60, 64, 67, 0.3), 0px 1px 3px 1px rgba(60, 64, 67, 0.15);\n",
              "      fill: #174EA6;\n",
              "    }\n",
              "\n",
              "    [theme=dark] .colab-df-convert {\n",
              "      background-color: #3B4455;\n",
              "      fill: #D2E3FC;\n",
              "    }\n",
              "\n",
              "    [theme=dark] .colab-df-convert:hover {\n",
              "      background-color: #434B5C;\n",
              "      box-shadow: 0px 1px 3px 1px rgba(0, 0, 0, 0.15);\n",
              "      filter: drop-shadow(0px 1px 2px rgba(0, 0, 0, 0.3));\n",
              "      fill: #FFFFFF;\n",
              "    }\n",
              "  </style>\n",
              "\n",
              "      <script>\n",
              "        const buttonEl =\n",
              "          document.querySelector('#df-fc006d26-308f-4872-a719-cf5635215af8 button.colab-df-convert');\n",
              "        buttonEl.style.display =\n",
              "          google.colab.kernel.accessAllowed ? 'block' : 'none';\n",
              "\n",
              "        async function convertToInteractive(key) {\n",
              "          const element = document.querySelector('#df-fc006d26-308f-4872-a719-cf5635215af8');\n",
              "          const dataTable =\n",
              "            await google.colab.kernel.invokeFunction('convertToInteractive',\n",
              "                                                     [key], {});\n",
              "          if (!dataTable) return;\n",
              "\n",
              "          const docLinkHtml = 'Like what you see? Visit the ' +\n",
              "            '<a target=\"_blank\" href=https://colab.research.google.com/notebooks/data_table.ipynb>data table notebook</a>'\n",
              "            + ' to learn more about interactive tables.';\n",
              "          element.innerHTML = '';\n",
              "          dataTable['output_type'] = 'display_data';\n",
              "          await google.colab.output.renderOutput(dataTable, element);\n",
              "          const docLink = document.createElement('div');\n",
              "          docLink.innerHTML = docLinkHtml;\n",
              "          element.appendChild(docLink);\n",
              "        }\n",
              "      </script>\n",
              "    </div>\n",
              "  </div>\n",
              "  "
            ]
          },
          "metadata": {},
          "execution_count": 4
        }
      ],
      "source": [
        "data.head()"
      ]
    },
    {
      "cell_type": "code",
      "execution_count": null,
      "metadata": {
        "colab": {
          "base_uri": "https://localhost:8080/"
        },
        "id": "ht5YOBdx8NLV",
        "outputId": "dcfe1424-8ef7-46e9-d131-06fee7d94064"
      },
      "outputs": [
        {
          "output_type": "stream",
          "name": "stdout",
          "text": [
            "<class 'pandas.core.frame.DataFrame'>\n",
            "RangeIndex: 725722 entries, 0 to 725721\n",
            "Data columns (total 22 columns):\n",
            " #   Column                  Non-Null Count   Dtype         \n",
            "---  ------                  --------------   -----         \n",
            " 0   msno                    725722 non-null  object        \n",
            " 1   city                    725722 non-null  int64         \n",
            " 2   bd                      725722 non-null  int64         \n",
            " 3   gender                  343915 non-null  object        \n",
            " 4   registered_via          725722 non-null  int64         \n",
            " 5   registration_init_time  725722 non-null  datetime64[ns]\n",
            " 6   num_25                  725722 non-null  float64       \n",
            " 7   num_50                  725722 non-null  float64       \n",
            " 8   num_75                  725722 non-null  float64       \n",
            " 9   num_985                 725722 non-null  float64       \n",
            " 10  num_100                 725722 non-null  float64       \n",
            " 11  num_unq                 725722 non-null  float64       \n",
            " 12  total_secs              725722 non-null  float64       \n",
            " 13  payment_method_id       725722 non-null  int64         \n",
            " 14  payment_plan_days       725722 non-null  int64         \n",
            " 15  plan_list_price         725722 non-null  int64         \n",
            " 16  actual_amount_paid      725722 non-null  int64         \n",
            " 17  is_auto_renew           725722 non-null  int64         \n",
            " 18  transaction_date        725722 non-null  datetime64[ns]\n",
            " 19  membership_expire_date  725722 non-null  datetime64[ns]\n",
            " 20  is_cancel               725722 non-null  int64         \n",
            " 21  is_churn                725722 non-null  int64         \n",
            "dtypes: datetime64[ns](3), float64(7), int64(10), object(2)\n",
            "memory usage: 121.8+ MB\n"
          ]
        }
      ],
      "source": [
        "# check data info\n",
        "data.info()\n",
        "# remove missing values"
      ]
    },
    {
      "cell_type": "code",
      "execution_count": null,
      "metadata": {
        "colab": {
          "base_uri": "https://localhost:8080/"
        },
        "id": "ZASeB8_089yA",
        "outputId": "53a15cf4-7a1a-460e-83de-19ec3db3713a",
        "scrolled": true
      },
      "outputs": [
        {
          "output_type": "execute_result",
          "data": {
            "text/plain": [
              "msno                      725722\n",
              "city                          21\n",
              "bd                           217\n",
              "gender                         2\n",
              "registered_via                 5\n",
              "registration_init_time      4748\n",
              "num_25                     12840\n",
              "num_50                      4431\n",
              "num_75                      2576\n",
              "num_985                     3558\n",
              "num_100                    37586\n",
              "num_unq                    31806\n",
              "total_secs                724214\n",
              "payment_method_id             33\n",
              "payment_plan_days             28\n",
              "plan_list_price               42\n",
              "actual_amount_paid            42\n",
              "is_auto_renew                  2\n",
              "transaction_date             356\n",
              "membership_expire_date       988\n",
              "is_cancel                      2\n",
              "is_churn                       2\n",
              "dtype: int64"
            ]
          },
          "metadata": {},
          "execution_count": 6
        }
      ],
      "source": [
        "# check the unique values for each column\n",
        "# it depends\n",
        "data.nunique()"
      ]
    },
    {
      "cell_type": "markdown",
      "metadata": {
        "id": "SsAbAjhvi0Mx"
      },
      "source": [
        "### Part 1.2:  Understand the features"
      ]
    },
    {
      "cell_type": "code",
      "execution_count": null,
      "metadata": {
        "colab": {
          "base_uri": "https://localhost:8080/"
        },
        "id": "_t1xsBp--_0K",
        "outputId": "5299373f-45d1-4e10-bbd7-703d311cad78"
      },
      "outputs": [
        {
          "output_type": "execute_result",
          "data": {
            "text/plain": [
              "msno                           0\n",
              "city                           0\n",
              "bd                             0\n",
              "gender                    381807\n",
              "registered_via                 0\n",
              "registration_init_time         0\n",
              "num_25                         0\n",
              "num_50                         0\n",
              "num_75                         0\n",
              "num_985                        0\n",
              "num_100                        0\n",
              "num_unq                        0\n",
              "total_secs                     0\n",
              "payment_method_id              0\n",
              "payment_plan_days              0\n",
              "plan_list_price                0\n",
              "actual_amount_paid             0\n",
              "is_auto_renew                  0\n",
              "transaction_date               0\n",
              "membership_expire_date         0\n",
              "is_cancel                      0\n",
              "is_churn                       0\n",
              "dtype: int64"
            ]
          },
          "metadata": {},
          "execution_count": 7
        }
      ],
      "source": [
        "# check missing values\n",
        "data.isnull().sum()"
      ]
    },
    {
      "cell_type": "code",
      "execution_count": null,
      "metadata": {
        "id": "-oZxXdKaGHP5"
      },
      "outputs": [],
      "source": [
        "# remove missing values\n",
        "data.dropna(inplace=True)"
      ]
    },
    {
      "cell_type": "code",
      "execution_count": null,
      "metadata": {
        "id": "OL55qfKwGHP5",
        "outputId": "5868e0c6-08c6-4e74-f56d-cee6e7b57fbc",
        "colab": {
          "base_uri": "https://localhost:8080/"
        }
      },
      "outputs": [
        {
          "output_type": "stream",
          "name": "stdout",
          "text": [
            "<class 'pandas.core.frame.DataFrame'>\n",
            "Int64Index: 343915 entries, 1 to 725720\n",
            "Data columns (total 22 columns):\n",
            " #   Column                  Non-Null Count   Dtype         \n",
            "---  ------                  --------------   -----         \n",
            " 0   msno                    343915 non-null  object        \n",
            " 1   city                    343915 non-null  int64         \n",
            " 2   bd                      343915 non-null  int64         \n",
            " 3   gender                  343915 non-null  object        \n",
            " 4   registered_via          343915 non-null  int64         \n",
            " 5   registration_init_time  343915 non-null  datetime64[ns]\n",
            " 6   num_25                  343915 non-null  float64       \n",
            " 7   num_50                  343915 non-null  float64       \n",
            " 8   num_75                  343915 non-null  float64       \n",
            " 9   num_985                 343915 non-null  float64       \n",
            " 10  num_100                 343915 non-null  float64       \n",
            " 11  num_unq                 343915 non-null  float64       \n",
            " 12  total_secs              343915 non-null  float64       \n",
            " 13  payment_method_id       343915 non-null  int64         \n",
            " 14  payment_plan_days       343915 non-null  int64         \n",
            " 15  plan_list_price         343915 non-null  int64         \n",
            " 16  actual_amount_paid      343915 non-null  int64         \n",
            " 17  is_auto_renew           343915 non-null  int64         \n",
            " 18  transaction_date        343915 non-null  datetime64[ns]\n",
            " 19  membership_expire_date  343915 non-null  datetime64[ns]\n",
            " 20  is_cancel               343915 non-null  int64         \n",
            " 21  is_churn                343915 non-null  int64         \n",
            "dtypes: datetime64[ns](3), float64(7), int64(10), object(2)\n",
            "memory usage: 60.3+ MB\n"
          ]
        }
      ],
      "source": [
        "data.info()"
      ]
    },
    {
      "cell_type": "code",
      "execution_count": null,
      "metadata": {
        "id": "_1LM5HFGGHP5"
      },
      "outputs": [],
      "source": [
        "# transform dates into numerical variables\n",
        "from dateutil import parser\n",
        "\n",
        "data['today'] = parser.parse('2017-09-18')\n",
        "data['registration_init_time'] = (data['today'] - data['registration_init_time']).dt.days\n",
        "data['transaction_date'] = (data['today'] - data['transaction_date']).dt.days\n",
        "data['membership_expire_date'] = (data['membership_expire_date'] - data['today']).dt.days"
      ]
    },
    {
      "cell_type": "code",
      "execution_count": null,
      "metadata": {
        "id": "1-6qsyLaGHP6",
        "outputId": "39408e6f-74d6-4723-a86e-074516213a07",
        "colab": {
          "base_uri": "https://localhost:8080/",
          "height": 386
        }
      },
      "outputs": [
        {
          "output_type": "execute_result",
          "data": {
            "text/plain": [
              "                                           msno  city  bd  gender  \\\n",
              "1  yLkV2gbZ4GLFwqTOXLVHz0VGrMYcgBGgKZ3kj9RiYu8=     4  30    male   \n",
              "2  I0yFvqMoNkM8ZNHb617e1RBzIS/YRKemHO7Wj13EtA0=    13  63    male   \n",
              "4  4De1jAxNRABoyRBDZ82U0yEmzYkqeOugRGVNIf92Xb8=     4  28  female   \n",
              "5  GqYHRxlZChiZvB1uzR410wcQzuxqZNZci4AzOTzkAao=     5  27    male   \n",
              "6  Z6WIOK9vXy+e2XDBiioNAxuZ0ScXSU/Ebq4tUwqVSrE=    22  38  female   \n",
              "\n",
              "   registered_via  registration_init_time     num_25    num_50    num_75  \\\n",
              "1               9                    2194   2.333333  1.333333  1.000000   \n",
              "2               9                    2192   4.277778  1.722222  0.722222   \n",
              "4               9                    2190   1.200000  0.100000  0.200000   \n",
              "5               9                    2183  10.043478  2.695652  1.130435   \n",
              "6               9                    2181   1.666667  0.333333  0.333333   \n",
              "\n",
              "    num_985  ...  payment_method_id  payment_plan_days  plan_list_price  \\\n",
              "1  1.833333  ...                 39                 30              149   \n",
              "2  1.444444  ...                 40                 30              149   \n",
              "4  0.200000  ...                 36                 30              180   \n",
              "5  0.956522  ...                 39                 30              149   \n",
              "6  0.333333  ...                 40                 30              149   \n",
              "\n",
              "   actual_amount_paid  is_auto_renew  transaction_date  \\\n",
              "1                 149              1               171   \n",
              "2                 149              1               175   \n",
              "4                 180              1               199   \n",
              "5                 149              1               171   \n",
              "6                 149              1               191   \n",
              "\n",
              "   membership_expire_date  is_cancel  is_churn      today  \n",
              "1                    -124          0         0 2017-09-18  \n",
              "2                    -145          0         0 2017-09-18  \n",
              "4                    -169          0         0 2017-09-18  \n",
              "5                    -110          0         0 2017-09-18  \n",
              "6                    -161          0         0 2017-09-18  \n",
              "\n",
              "[5 rows x 23 columns]"
            ],
            "text/html": [
              "\n",
              "  <div id=\"df-157d6de3-9602-4af4-adec-998b2ecce243\">\n",
              "    <div class=\"colab-df-container\">\n",
              "      <div>\n",
              "<style scoped>\n",
              "    .dataframe tbody tr th:only-of-type {\n",
              "        vertical-align: middle;\n",
              "    }\n",
              "\n",
              "    .dataframe tbody tr th {\n",
              "        vertical-align: top;\n",
              "    }\n",
              "\n",
              "    .dataframe thead th {\n",
              "        text-align: right;\n",
              "    }\n",
              "</style>\n",
              "<table border=\"1\" class=\"dataframe\">\n",
              "  <thead>\n",
              "    <tr style=\"text-align: right;\">\n",
              "      <th></th>\n",
              "      <th>msno</th>\n",
              "      <th>city</th>\n",
              "      <th>bd</th>\n",
              "      <th>gender</th>\n",
              "      <th>registered_via</th>\n",
              "      <th>registration_init_time</th>\n",
              "      <th>num_25</th>\n",
              "      <th>num_50</th>\n",
              "      <th>num_75</th>\n",
              "      <th>num_985</th>\n",
              "      <th>...</th>\n",
              "      <th>payment_method_id</th>\n",
              "      <th>payment_plan_days</th>\n",
              "      <th>plan_list_price</th>\n",
              "      <th>actual_amount_paid</th>\n",
              "      <th>is_auto_renew</th>\n",
              "      <th>transaction_date</th>\n",
              "      <th>membership_expire_date</th>\n",
              "      <th>is_cancel</th>\n",
              "      <th>is_churn</th>\n",
              "      <th>today</th>\n",
              "    </tr>\n",
              "  </thead>\n",
              "  <tbody>\n",
              "    <tr>\n",
              "      <th>1</th>\n",
              "      <td>yLkV2gbZ4GLFwqTOXLVHz0VGrMYcgBGgKZ3kj9RiYu8=</td>\n",
              "      <td>4</td>\n",
              "      <td>30</td>\n",
              "      <td>male</td>\n",
              "      <td>9</td>\n",
              "      <td>2194</td>\n",
              "      <td>2.333333</td>\n",
              "      <td>1.333333</td>\n",
              "      <td>1.000000</td>\n",
              "      <td>1.833333</td>\n",
              "      <td>...</td>\n",
              "      <td>39</td>\n",
              "      <td>30</td>\n",
              "      <td>149</td>\n",
              "      <td>149</td>\n",
              "      <td>1</td>\n",
              "      <td>171</td>\n",
              "      <td>-124</td>\n",
              "      <td>0</td>\n",
              "      <td>0</td>\n",
              "      <td>2017-09-18</td>\n",
              "    </tr>\n",
              "    <tr>\n",
              "      <th>2</th>\n",
              "      <td>I0yFvqMoNkM8ZNHb617e1RBzIS/YRKemHO7Wj13EtA0=</td>\n",
              "      <td>13</td>\n",
              "      <td>63</td>\n",
              "      <td>male</td>\n",
              "      <td>9</td>\n",
              "      <td>2192</td>\n",
              "      <td>4.277778</td>\n",
              "      <td>1.722222</td>\n",
              "      <td>0.722222</td>\n",
              "      <td>1.444444</td>\n",
              "      <td>...</td>\n",
              "      <td>40</td>\n",
              "      <td>30</td>\n",
              "      <td>149</td>\n",
              "      <td>149</td>\n",
              "      <td>1</td>\n",
              "      <td>175</td>\n",
              "      <td>-145</td>\n",
              "      <td>0</td>\n",
              "      <td>0</td>\n",
              "      <td>2017-09-18</td>\n",
              "    </tr>\n",
              "    <tr>\n",
              "      <th>4</th>\n",
              "      <td>4De1jAxNRABoyRBDZ82U0yEmzYkqeOugRGVNIf92Xb8=</td>\n",
              "      <td>4</td>\n",
              "      <td>28</td>\n",
              "      <td>female</td>\n",
              "      <td>9</td>\n",
              "      <td>2190</td>\n",
              "      <td>1.200000</td>\n",
              "      <td>0.100000</td>\n",
              "      <td>0.200000</td>\n",
              "      <td>0.200000</td>\n",
              "      <td>...</td>\n",
              "      <td>36</td>\n",
              "      <td>30</td>\n",
              "      <td>180</td>\n",
              "      <td>180</td>\n",
              "      <td>1</td>\n",
              "      <td>199</td>\n",
              "      <td>-169</td>\n",
              "      <td>0</td>\n",
              "      <td>0</td>\n",
              "      <td>2017-09-18</td>\n",
              "    </tr>\n",
              "    <tr>\n",
              "      <th>5</th>\n",
              "      <td>GqYHRxlZChiZvB1uzR410wcQzuxqZNZci4AzOTzkAao=</td>\n",
              "      <td>5</td>\n",
              "      <td>27</td>\n",
              "      <td>male</td>\n",
              "      <td>9</td>\n",
              "      <td>2183</td>\n",
              "      <td>10.043478</td>\n",
              "      <td>2.695652</td>\n",
              "      <td>1.130435</td>\n",
              "      <td>0.956522</td>\n",
              "      <td>...</td>\n",
              "      <td>39</td>\n",
              "      <td>30</td>\n",
              "      <td>149</td>\n",
              "      <td>149</td>\n",
              "      <td>1</td>\n",
              "      <td>171</td>\n",
              "      <td>-110</td>\n",
              "      <td>0</td>\n",
              "      <td>0</td>\n",
              "      <td>2017-09-18</td>\n",
              "    </tr>\n",
              "    <tr>\n",
              "      <th>6</th>\n",
              "      <td>Z6WIOK9vXy+e2XDBiioNAxuZ0ScXSU/Ebq4tUwqVSrE=</td>\n",
              "      <td>22</td>\n",
              "      <td>38</td>\n",
              "      <td>female</td>\n",
              "      <td>9</td>\n",
              "      <td>2181</td>\n",
              "      <td>1.666667</td>\n",
              "      <td>0.333333</td>\n",
              "      <td>0.333333</td>\n",
              "      <td>0.333333</td>\n",
              "      <td>...</td>\n",
              "      <td>40</td>\n",
              "      <td>30</td>\n",
              "      <td>149</td>\n",
              "      <td>149</td>\n",
              "      <td>1</td>\n",
              "      <td>191</td>\n",
              "      <td>-161</td>\n",
              "      <td>0</td>\n",
              "      <td>0</td>\n",
              "      <td>2017-09-18</td>\n",
              "    </tr>\n",
              "  </tbody>\n",
              "</table>\n",
              "<p>5 rows × 23 columns</p>\n",
              "</div>\n",
              "      <button class=\"colab-df-convert\" onclick=\"convertToInteractive('df-157d6de3-9602-4af4-adec-998b2ecce243')\"\n",
              "              title=\"Convert this dataframe to an interactive table.\"\n",
              "              style=\"display:none;\">\n",
              "        \n",
              "  <svg xmlns=\"http://www.w3.org/2000/svg\" height=\"24px\"viewBox=\"0 0 24 24\"\n",
              "       width=\"24px\">\n",
              "    <path d=\"M0 0h24v24H0V0z\" fill=\"none\"/>\n",
              "    <path d=\"M18.56 5.44l.94 2.06.94-2.06 2.06-.94-2.06-.94-.94-2.06-.94 2.06-2.06.94zm-11 1L8.5 8.5l.94-2.06 2.06-.94-2.06-.94L8.5 2.5l-.94 2.06-2.06.94zm10 10l.94 2.06.94-2.06 2.06-.94-2.06-.94-.94-2.06-.94 2.06-2.06.94z\"/><path d=\"M17.41 7.96l-1.37-1.37c-.4-.4-.92-.59-1.43-.59-.52 0-1.04.2-1.43.59L10.3 9.45l-7.72 7.72c-.78.78-.78 2.05 0 2.83L4 21.41c.39.39.9.59 1.41.59.51 0 1.02-.2 1.41-.59l7.78-7.78 2.81-2.81c.8-.78.8-2.07 0-2.86zM5.41 20L4 18.59l7.72-7.72 1.47 1.35L5.41 20z\"/>\n",
              "  </svg>\n",
              "      </button>\n",
              "      \n",
              "  <style>\n",
              "    .colab-df-container {\n",
              "      display:flex;\n",
              "      flex-wrap:wrap;\n",
              "      gap: 12px;\n",
              "    }\n",
              "\n",
              "    .colab-df-convert {\n",
              "      background-color: #E8F0FE;\n",
              "      border: none;\n",
              "      border-radius: 50%;\n",
              "      cursor: pointer;\n",
              "      display: none;\n",
              "      fill: #1967D2;\n",
              "      height: 32px;\n",
              "      padding: 0 0 0 0;\n",
              "      width: 32px;\n",
              "    }\n",
              "\n",
              "    .colab-df-convert:hover {\n",
              "      background-color: #E2EBFA;\n",
              "      box-shadow: 0px 1px 2px rgba(60, 64, 67, 0.3), 0px 1px 3px 1px rgba(60, 64, 67, 0.15);\n",
              "      fill: #174EA6;\n",
              "    }\n",
              "\n",
              "    [theme=dark] .colab-df-convert {\n",
              "      background-color: #3B4455;\n",
              "      fill: #D2E3FC;\n",
              "    }\n",
              "\n",
              "    [theme=dark] .colab-df-convert:hover {\n",
              "      background-color: #434B5C;\n",
              "      box-shadow: 0px 1px 3px 1px rgba(0, 0, 0, 0.15);\n",
              "      filter: drop-shadow(0px 1px 2px rgba(0, 0, 0, 0.3));\n",
              "      fill: #FFFFFF;\n",
              "    }\n",
              "  </style>\n",
              "\n",
              "      <script>\n",
              "        const buttonEl =\n",
              "          document.querySelector('#df-157d6de3-9602-4af4-adec-998b2ecce243 button.colab-df-convert');\n",
              "        buttonEl.style.display =\n",
              "          google.colab.kernel.accessAllowed ? 'block' : 'none';\n",
              "\n",
              "        async function convertToInteractive(key) {\n",
              "          const element = document.querySelector('#df-157d6de3-9602-4af4-adec-998b2ecce243');\n",
              "          const dataTable =\n",
              "            await google.colab.kernel.invokeFunction('convertToInteractive',\n",
              "                                                     [key], {});\n",
              "          if (!dataTable) return;\n",
              "\n",
              "          const docLinkHtml = 'Like what you see? Visit the ' +\n",
              "            '<a target=\"_blank\" href=https://colab.research.google.com/notebooks/data_table.ipynb>data table notebook</a>'\n",
              "            + ' to learn more about interactive tables.';\n",
              "          element.innerHTML = '';\n",
              "          dataTable['output_type'] = 'display_data';\n",
              "          await google.colab.output.renderOutput(dataTable, element);\n",
              "          const docLink = document.createElement('div');\n",
              "          docLink.innerHTML = docLinkHtml;\n",
              "          element.appendChild(docLink);\n",
              "        }\n",
              "      </script>\n",
              "    </div>\n",
              "  </div>\n",
              "  "
            ]
          },
          "metadata": {},
          "execution_count": 11
        }
      ],
      "source": [
        "data.head()"
      ]
    },
    {
      "cell_type": "code",
      "execution_count": null,
      "metadata": {
        "id": "BIqBIpOt_COM"
      },
      "outputs": [],
      "source": [
        "# split the features into numerical variables and categorical variables for further analysis\n",
        "num_cols = [\"bd\", \"registration_init_time\", \"num_25\", \"num_50\", \"num_75\", \"num_985\", \n",
        "            \"num_100\", \"num_unq\", \"total_secs\", \"payment_plan_days\", \"plan_list_price\",\n",
        "           \"actual_amount_paid\", \"transaction_date\", \"membership_expire_date\"]\n",
        "cat_cols = [\"city\", \"gender\", \"registered_via\", \"payment_method_id\", \"is_auto_renew\", \"is_cancel\"]"
      ]
    },
    {
      "cell_type": "code",
      "execution_count": null,
      "metadata": {
        "id": "dA-b-LLcGHP6",
        "outputId": "027ea6de-070e-4452-ac91-154f60edcdf5",
        "colab": {
          "base_uri": "https://localhost:8080/",
          "height": 364
        }
      },
      "outputs": [
        {
          "output_type": "execute_result",
          "data": {
            "text/plain": [
              "                  bd  registration_init_time         num_25         num_50  \\\n",
              "count  343915.000000           343915.000000  343915.000000  343915.000000   \n",
              "mean       29.215771             2030.370472       5.573039       1.401805   \n",
              "std        19.567801             1257.737728       6.845898       1.918922   \n",
              "min     -3152.000000              172.000000       0.000000       0.000000   \n",
              "25%        23.000000              982.000000       1.846154       0.500000   \n",
              "50%        28.000000             1801.000000       3.650000       0.964286   \n",
              "75%        34.000000             2916.000000       6.880000       1.733333   \n",
              "max      1820.000000             4924.000000     442.000000     452.000000   \n",
              "\n",
              "              num_75        num_985        num_100        num_unq  \\\n",
              "count  343915.000000  343915.000000  343915.000000  343915.000000   \n",
              "mean        0.861499       0.973342      28.163303      27.204745   \n",
              "std         0.956588       1.643803      29.992743      21.919123   \n",
              "min         0.000000       0.000000       0.000000       1.000000   \n",
              "25%         0.333333       0.333333      11.909091      13.583333   \n",
              "50%         0.647059       0.666667      19.666667      21.428571   \n",
              "75%         1.100000       1.181818      33.000000      33.483871   \n",
              "max       149.000000     189.538462    1028.000000     591.000000   \n",
              "\n",
              "          total_secs  payment_plan_days  plan_list_price  actual_amount_paid  \\\n",
              "count  343915.000000      343915.000000    343915.000000       343915.000000   \n",
              "mean     7353.425765          38.479854       181.672605          181.374645   \n",
              "std      7125.865503          48.840089       199.943018          200.087254   \n",
              "min         0.035000           1.000000         0.000000            0.000000   \n",
              "25%      3307.096357          30.000000       149.000000          149.000000   \n",
              "50%      5298.389700          30.000000       149.000000          149.000000   \n",
              "75%      8694.215362          30.000000       149.000000          149.000000   \n",
              "max    261927.342000         450.000000      2000.000000         2000.000000   \n",
              "\n",
              "       transaction_date  membership_expire_date  \n",
              "count     343915.000000           343915.000000  \n",
              "mean         182.925624             -138.613602  \n",
              "std           14.463044               58.093508  \n",
              "min          171.000000             -202.000000  \n",
              "25%          171.000000             -160.000000  \n",
              "50%          181.000000             -149.000000  \n",
              "75%          191.000000             -141.000000  \n",
              "max          984.000000             1789.000000  "
            ],
            "text/html": [
              "\n",
              "  <div id=\"df-0ea84891-8e4c-4f6b-9a60-fbe727076c15\">\n",
              "    <div class=\"colab-df-container\">\n",
              "      <div>\n",
              "<style scoped>\n",
              "    .dataframe tbody tr th:only-of-type {\n",
              "        vertical-align: middle;\n",
              "    }\n",
              "\n",
              "    .dataframe tbody tr th {\n",
              "        vertical-align: top;\n",
              "    }\n",
              "\n",
              "    .dataframe thead th {\n",
              "        text-align: right;\n",
              "    }\n",
              "</style>\n",
              "<table border=\"1\" class=\"dataframe\">\n",
              "  <thead>\n",
              "    <tr style=\"text-align: right;\">\n",
              "      <th></th>\n",
              "      <th>bd</th>\n",
              "      <th>registration_init_time</th>\n",
              "      <th>num_25</th>\n",
              "      <th>num_50</th>\n",
              "      <th>num_75</th>\n",
              "      <th>num_985</th>\n",
              "      <th>num_100</th>\n",
              "      <th>num_unq</th>\n",
              "      <th>total_secs</th>\n",
              "      <th>payment_plan_days</th>\n",
              "      <th>plan_list_price</th>\n",
              "      <th>actual_amount_paid</th>\n",
              "      <th>transaction_date</th>\n",
              "      <th>membership_expire_date</th>\n",
              "    </tr>\n",
              "  </thead>\n",
              "  <tbody>\n",
              "    <tr>\n",
              "      <th>count</th>\n",
              "      <td>343915.000000</td>\n",
              "      <td>343915.000000</td>\n",
              "      <td>343915.000000</td>\n",
              "      <td>343915.000000</td>\n",
              "      <td>343915.000000</td>\n",
              "      <td>343915.000000</td>\n",
              "      <td>343915.000000</td>\n",
              "      <td>343915.000000</td>\n",
              "      <td>343915.000000</td>\n",
              "      <td>343915.000000</td>\n",
              "      <td>343915.000000</td>\n",
              "      <td>343915.000000</td>\n",
              "      <td>343915.000000</td>\n",
              "      <td>343915.000000</td>\n",
              "    </tr>\n",
              "    <tr>\n",
              "      <th>mean</th>\n",
              "      <td>29.215771</td>\n",
              "      <td>2030.370472</td>\n",
              "      <td>5.573039</td>\n",
              "      <td>1.401805</td>\n",
              "      <td>0.861499</td>\n",
              "      <td>0.973342</td>\n",
              "      <td>28.163303</td>\n",
              "      <td>27.204745</td>\n",
              "      <td>7353.425765</td>\n",
              "      <td>38.479854</td>\n",
              "      <td>181.672605</td>\n",
              "      <td>181.374645</td>\n",
              "      <td>182.925624</td>\n",
              "      <td>-138.613602</td>\n",
              "    </tr>\n",
              "    <tr>\n",
              "      <th>std</th>\n",
              "      <td>19.567801</td>\n",
              "      <td>1257.737728</td>\n",
              "      <td>6.845898</td>\n",
              "      <td>1.918922</td>\n",
              "      <td>0.956588</td>\n",
              "      <td>1.643803</td>\n",
              "      <td>29.992743</td>\n",
              "      <td>21.919123</td>\n",
              "      <td>7125.865503</td>\n",
              "      <td>48.840089</td>\n",
              "      <td>199.943018</td>\n",
              "      <td>200.087254</td>\n",
              "      <td>14.463044</td>\n",
              "      <td>58.093508</td>\n",
              "    </tr>\n",
              "    <tr>\n",
              "      <th>min</th>\n",
              "      <td>-3152.000000</td>\n",
              "      <td>172.000000</td>\n",
              "      <td>0.000000</td>\n",
              "      <td>0.000000</td>\n",
              "      <td>0.000000</td>\n",
              "      <td>0.000000</td>\n",
              "      <td>0.000000</td>\n",
              "      <td>1.000000</td>\n",
              "      <td>0.035000</td>\n",
              "      <td>1.000000</td>\n",
              "      <td>0.000000</td>\n",
              "      <td>0.000000</td>\n",
              "      <td>171.000000</td>\n",
              "      <td>-202.000000</td>\n",
              "    </tr>\n",
              "    <tr>\n",
              "      <th>25%</th>\n",
              "      <td>23.000000</td>\n",
              "      <td>982.000000</td>\n",
              "      <td>1.846154</td>\n",
              "      <td>0.500000</td>\n",
              "      <td>0.333333</td>\n",
              "      <td>0.333333</td>\n",
              "      <td>11.909091</td>\n",
              "      <td>13.583333</td>\n",
              "      <td>3307.096357</td>\n",
              "      <td>30.000000</td>\n",
              "      <td>149.000000</td>\n",
              "      <td>149.000000</td>\n",
              "      <td>171.000000</td>\n",
              "      <td>-160.000000</td>\n",
              "    </tr>\n",
              "    <tr>\n",
              "      <th>50%</th>\n",
              "      <td>28.000000</td>\n",
              "      <td>1801.000000</td>\n",
              "      <td>3.650000</td>\n",
              "      <td>0.964286</td>\n",
              "      <td>0.647059</td>\n",
              "      <td>0.666667</td>\n",
              "      <td>19.666667</td>\n",
              "      <td>21.428571</td>\n",
              "      <td>5298.389700</td>\n",
              "      <td>30.000000</td>\n",
              "      <td>149.000000</td>\n",
              "      <td>149.000000</td>\n",
              "      <td>181.000000</td>\n",
              "      <td>-149.000000</td>\n",
              "    </tr>\n",
              "    <tr>\n",
              "      <th>75%</th>\n",
              "      <td>34.000000</td>\n",
              "      <td>2916.000000</td>\n",
              "      <td>6.880000</td>\n",
              "      <td>1.733333</td>\n",
              "      <td>1.100000</td>\n",
              "      <td>1.181818</td>\n",
              "      <td>33.000000</td>\n",
              "      <td>33.483871</td>\n",
              "      <td>8694.215362</td>\n",
              "      <td>30.000000</td>\n",
              "      <td>149.000000</td>\n",
              "      <td>149.000000</td>\n",
              "      <td>191.000000</td>\n",
              "      <td>-141.000000</td>\n",
              "    </tr>\n",
              "    <tr>\n",
              "      <th>max</th>\n",
              "      <td>1820.000000</td>\n",
              "      <td>4924.000000</td>\n",
              "      <td>442.000000</td>\n",
              "      <td>452.000000</td>\n",
              "      <td>149.000000</td>\n",
              "      <td>189.538462</td>\n",
              "      <td>1028.000000</td>\n",
              "      <td>591.000000</td>\n",
              "      <td>261927.342000</td>\n",
              "      <td>450.000000</td>\n",
              "      <td>2000.000000</td>\n",
              "      <td>2000.000000</td>\n",
              "      <td>984.000000</td>\n",
              "      <td>1789.000000</td>\n",
              "    </tr>\n",
              "  </tbody>\n",
              "</table>\n",
              "</div>\n",
              "      <button class=\"colab-df-convert\" onclick=\"convertToInteractive('df-0ea84891-8e4c-4f6b-9a60-fbe727076c15')\"\n",
              "              title=\"Convert this dataframe to an interactive table.\"\n",
              "              style=\"display:none;\">\n",
              "        \n",
              "  <svg xmlns=\"http://www.w3.org/2000/svg\" height=\"24px\"viewBox=\"0 0 24 24\"\n",
              "       width=\"24px\">\n",
              "    <path d=\"M0 0h24v24H0V0z\" fill=\"none\"/>\n",
              "    <path d=\"M18.56 5.44l.94 2.06.94-2.06 2.06-.94-2.06-.94-.94-2.06-.94 2.06-2.06.94zm-11 1L8.5 8.5l.94-2.06 2.06-.94-2.06-.94L8.5 2.5l-.94 2.06-2.06.94zm10 10l.94 2.06.94-2.06 2.06-.94-2.06-.94-.94-2.06-.94 2.06-2.06.94z\"/><path d=\"M17.41 7.96l-1.37-1.37c-.4-.4-.92-.59-1.43-.59-.52 0-1.04.2-1.43.59L10.3 9.45l-7.72 7.72c-.78.78-.78 2.05 0 2.83L4 21.41c.39.39.9.59 1.41.59.51 0 1.02-.2 1.41-.59l7.78-7.78 2.81-2.81c.8-.78.8-2.07 0-2.86zM5.41 20L4 18.59l7.72-7.72 1.47 1.35L5.41 20z\"/>\n",
              "  </svg>\n",
              "      </button>\n",
              "      \n",
              "  <style>\n",
              "    .colab-df-container {\n",
              "      display:flex;\n",
              "      flex-wrap:wrap;\n",
              "      gap: 12px;\n",
              "    }\n",
              "\n",
              "    .colab-df-convert {\n",
              "      background-color: #E8F0FE;\n",
              "      border: none;\n",
              "      border-radius: 50%;\n",
              "      cursor: pointer;\n",
              "      display: none;\n",
              "      fill: #1967D2;\n",
              "      height: 32px;\n",
              "      padding: 0 0 0 0;\n",
              "      width: 32px;\n",
              "    }\n",
              "\n",
              "    .colab-df-convert:hover {\n",
              "      background-color: #E2EBFA;\n",
              "      box-shadow: 0px 1px 2px rgba(60, 64, 67, 0.3), 0px 1px 3px 1px rgba(60, 64, 67, 0.15);\n",
              "      fill: #174EA6;\n",
              "    }\n",
              "\n",
              "    [theme=dark] .colab-df-convert {\n",
              "      background-color: #3B4455;\n",
              "      fill: #D2E3FC;\n",
              "    }\n",
              "\n",
              "    [theme=dark] .colab-df-convert:hover {\n",
              "      background-color: #434B5C;\n",
              "      box-shadow: 0px 1px 3px 1px rgba(0, 0, 0, 0.15);\n",
              "      filter: drop-shadow(0px 1px 2px rgba(0, 0, 0, 0.3));\n",
              "      fill: #FFFFFF;\n",
              "    }\n",
              "  </style>\n",
              "\n",
              "      <script>\n",
              "        const buttonEl =\n",
              "          document.querySelector('#df-0ea84891-8e4c-4f6b-9a60-fbe727076c15 button.colab-df-convert');\n",
              "        buttonEl.style.display =\n",
              "          google.colab.kernel.accessAllowed ? 'block' : 'none';\n",
              "\n",
              "        async function convertToInteractive(key) {\n",
              "          const element = document.querySelector('#df-0ea84891-8e4c-4f6b-9a60-fbe727076c15');\n",
              "          const dataTable =\n",
              "            await google.colab.kernel.invokeFunction('convertToInteractive',\n",
              "                                                     [key], {});\n",
              "          if (!dataTable) return;\n",
              "\n",
              "          const docLinkHtml = 'Like what you see? Visit the ' +\n",
              "            '<a target=\"_blank\" href=https://colab.research.google.com/notebooks/data_table.ipynb>data table notebook</a>'\n",
              "            + ' to learn more about interactive tables.';\n",
              "          element.innerHTML = '';\n",
              "          dataTable['output_type'] = 'display_data';\n",
              "          await google.colab.output.renderOutput(dataTable, element);\n",
              "          const docLink = document.createElement('div');\n",
              "          docLink.innerHTML = docLinkHtml;\n",
              "          element.appendChild(docLink);\n",
              "        }\n",
              "      </script>\n",
              "    </div>\n",
              "  </div>\n",
              "  "
            ]
          },
          "metadata": {},
          "execution_count": 13
        }
      ],
      "source": [
        "# understand Numerical feature\n",
        "# discrete/continuous\n",
        "data[num_cols].describe()"
      ]
    },
    {
      "cell_type": "code",
      "execution_count": null,
      "metadata": {
        "id": "uSWC_9arxlfk"
      },
      "outputs": [],
      "source": [
        "# check the feature distribution\n",
        "# pandas.DataFrame.describe()\n",
        "# boxplot, distplot, countplot\n",
        "import matplotlib.pyplot as plt\n",
        "import seaborn as sns"
      ]
    },
    {
      "cell_type": "markdown",
      "metadata": {
        "id": "PgnG69JiGHP6"
      },
      "source": [
        "##### What is boxplot? How to detect outliers?\n",
        "![image.png](data:image/png;base64,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)"
      ]
    },
    {
      "cell_type": "code",
      "execution_count": null,
      "metadata": {
        "colab": {
          "base_uri": "https://localhost:8080/",
          "height": 623
        },
        "id": "E6o4PlZbuSYy",
        "outputId": "e37bd6bb-3d76-4e98-b034-06a2f611c8cc"
      },
      "outputs": [
        {
          "data": {
            "image/png": "[encoded data removed]",
            "text/plain": [
              "<Figure size 1800x5760 with 14 Axes>"
            ]
          },
          "metadata": {
            "needs_background": "light"
          },
          "output_type": "display_data"
        }
      ],
      "source": [
        "# boxplot for numerical feature\n",
        "_,axss = plt.subplots(7,2, figsize=[25,80])\n",
        "for i in range(len(num_cols)):\n",
        "    row = i//2\n",
        "    col = i%2\n",
        "    sns.boxplot(x='is_churn', y=num_cols[i], data=data, ax=axss[row][col])\n",
        "# \"age\" has extreme outliers\n",
        "# users with late registration time have a higher chance of churn\n",
        "# users who spent more time on KKBox/music listening have a higher chance of retention\n",
        "# users with greater length of membership plan in days have a higher chance of churn\n",
        "# users with higher plan list price/actual amount paid have a higher risk of churn\n",
        "# users with early transaction date have a higher risk of churn"
      ]
    },
    {
      "cell_type": "code",
      "execution_count": null,
      "metadata": {
        "id": "ti74UpbMGHP6",
        "outputId": "5feca6bd-c1ac-4293-8e45-b6f323214371",
        "colab": {
          "base_uri": "https://localhost:8080/",
          "height": 403
        }
      },
      "outputs": [
        {
          "output_type": "execute_result",
          "data": {
            "text/plain": [
              "<matplotlib.axes._subplots.AxesSubplot at 0x7f6259a65650>"
            ]
          },
          "metadata": {},
          "execution_count": 15
        },
        {
          "output_type": "display_data",
          "data": {
            "text/plain": [
              "<Figure size 432x288 with 2 Axes>"
            ],
            "image/png": "[encoded data removed]"
          },
          "metadata": {
            "needs_background": "light"
          }
        }
      ],
      "source": [
        "# correlation between features\n",
        "corr_score = data[num_cols].corr()\n",
        "\n",
        "# show heatmap of correlations\n",
        "sns.heatmap(corr_score)"
      ]
    },
    {
      "cell_type": "code",
      "execution_count": null,
      "metadata": {
        "id": "ceNW4y0UGHP7",
        "outputId": "a147cc84-4cc4-4a12-e63d-261c3ee63e83",
        "colab": {
          "base_uri": "https://localhost:8080/",
          "height": 552
        }
      },
      "outputs": [
        {
          "output_type": "execute_result",
          "data": {
            "text/plain": [
              "                              bd  registration_init_time    num_25    num_50  \\\n",
              "bd                      1.000000                0.123861 -0.051805 -0.044218   \n",
              "registration_init_time  0.123861                1.000000 -0.059524 -0.042676   \n",
              "num_25                 -0.051805               -0.059524  1.000000  0.503021   \n",
              "num_50                 -0.044218               -0.042676  0.503021  1.000000   \n",
              "num_75                 -0.049694               -0.041931  0.515474  0.782882   \n",
              "num_985                -0.032023               -0.020516  0.278849  0.288169   \n",
              "num_100                 0.001897               -0.001443  0.055774  0.062760   \n",
              "num_unq                -0.025338               -0.021601  0.377777  0.297484   \n",
              "total_secs             -0.002798               -0.004343  0.101357  0.124141   \n",
              "payment_plan_days      -0.011631               -0.025385  0.014085  0.016374   \n",
              "plan_list_price        -0.011349               -0.010779  0.013811  0.016235   \n",
              "actual_amount_paid     -0.011144               -0.010334  0.013860  0.016267   \n",
              "transaction_date       -0.032866               -0.168888  0.011142  0.003379   \n",
              "membership_expire_date  0.001729                0.029514  0.004558  0.009871   \n",
              "\n",
              "                          num_75   num_985   num_100   num_unq  total_secs  \\\n",
              "bd                     -0.049694 -0.032023  0.001897 -0.025338   -0.002798   \n",
              "registration_init_time -0.041931 -0.020516 -0.001443 -0.021601   -0.004343   \n",
              "num_25                  0.515474  0.278849  0.055774  0.377777    0.101357   \n",
              "num_50                  0.782882  0.288169  0.062760  0.297484    0.124141   \n",
              "num_75                  1.000000  0.415093  0.119843  0.333758    0.188323   \n",
              "num_985                 0.415093  1.000000  0.155827  0.286787    0.224607   \n",
              "num_100                 0.119843  0.155827  1.000000  0.791780    0.982503   \n",
              "num_unq                 0.333758  0.286787  0.791780  1.000000    0.828393   \n",
              "total_secs              0.188323  0.224607  0.982503  0.828393    1.000000   \n",
              "payment_plan_days       0.019364  0.012392  0.017165  0.027586    0.018757   \n",
              "plan_list_price         0.019470  0.012944  0.019171  0.028933    0.021027   \n",
              "actual_amount_paid      0.019505  0.013040  0.018991  0.028771    0.020835   \n",
              "transaction_date        0.008304  0.004477 -0.003470  0.000142   -0.004036   \n",
              "membership_expire_date  0.011559  0.008830  0.017073  0.023834    0.018628   \n",
              "\n",
              "                        payment_plan_days  plan_list_price  \\\n",
              "bd                              -0.011631        -0.011349   \n",
              "registration_init_time          -0.025385        -0.010779   \n",
              "num_25                           0.014085         0.013811   \n",
              "num_50                           0.016374         0.016235   \n",
              "num_75                           0.019364         0.019470   \n",
              "num_985                          0.012392         0.012944   \n",
              "num_100                          0.017165         0.019171   \n",
              "num_unq                          0.027586         0.028933   \n",
              "total_secs                       0.018757         0.021027   \n",
              "payment_plan_days                1.000000         0.980939   \n",
              "plan_list_price                  0.980939         1.000000   \n",
              "actual_amount_paid               0.980488         0.999496   \n",
              "transaction_date                 0.142863         0.133828   \n",
              "membership_expire_date           0.822422         0.813050   \n",
              "\n",
              "                        actual_amount_paid  transaction_date  \\\n",
              "bd                               -0.011144         -0.032866   \n",
              "registration_init_time           -0.010334         -0.168888   \n",
              "num_25                            0.013860          0.011142   \n",
              "num_50                            0.016267          0.003379   \n",
              "num_75                            0.019505          0.008304   \n",
              "num_985                           0.013040          0.004477   \n",
              "num_100                           0.018991         -0.003470   \n",
              "num_unq                           0.028771          0.000142   \n",
              "total_secs                        0.020835         -0.004036   \n",
              "payment_plan_days                 0.980488          0.142863   \n",
              "plan_list_price                   0.999496          0.133828   \n",
              "actual_amount_paid                1.000000          0.133663   \n",
              "transaction_date                  0.133663          1.000000   \n",
              "membership_expire_date            0.812883          0.004255   \n",
              "\n",
              "                        membership_expire_date  \n",
              "bd                                    0.001729  \n",
              "registration_init_time                0.029514  \n",
              "num_25                                0.004558  \n",
              "num_50                                0.009871  \n",
              "num_75                                0.011559  \n",
              "num_985                               0.008830  \n",
              "num_100                               0.017073  \n",
              "num_unq                               0.023834  \n",
              "total_secs                            0.018628  \n",
              "payment_plan_days                     0.822422  \n",
              "plan_list_price                       0.813050  \n",
              "actual_amount_paid                    0.812883  \n",
              "transaction_date                      0.004255  \n",
              "membership_expire_date                1.000000  "
            ],
            "text/html": [
              "\n",
              "  <div id=\"df-5c943da5-f690-4c32-b589-f5d873d4eacd\">\n",
              "    <div class=\"colab-df-container\">\n",
              "      <div>\n",
              "<style scoped>\n",
              "    .dataframe tbody tr th:only-of-type {\n",
              "        vertical-align: middle;\n",
              "    }\n",
              "\n",
              "    .dataframe tbody tr th {\n",
              "        vertical-align: top;\n",
              "    }\n",
              "\n",
              "    .dataframe thead th {\n",
              "        text-align: right;\n",
              "    }\n",
              "</style>\n",
              "<table border=\"1\" class=\"dataframe\">\n",
              "  <thead>\n",
              "    <tr style=\"text-align: right;\">\n",
              "      <th></th>\n",
              "      <th>bd</th>\n",
              "      <th>registration_init_time</th>\n",
              "      <th>num_25</th>\n",
              "      <th>num_50</th>\n",
              "      <th>num_75</th>\n",
              "      <th>num_985</th>\n",
              "      <th>num_100</th>\n",
              "      <th>num_unq</th>\n",
              "      <th>total_secs</th>\n",
              "      <th>payment_plan_days</th>\n",
              "      <th>plan_list_price</th>\n",
              "      <th>actual_amount_paid</th>\n",
              "      <th>transaction_date</th>\n",
              "      <th>membership_expire_date</th>\n",
              "    </tr>\n",
              "  </thead>\n",
              "  <tbody>\n",
              "    <tr>\n",
              "      <th>bd</th>\n",
              "      <td>1.000000</td>\n",
              "      <td>0.123861</td>\n",
              "      <td>-0.051805</td>\n",
              "      <td>-0.044218</td>\n",
              "      <td>-0.049694</td>\n",
              "      <td>-0.032023</td>\n",
              "      <td>0.001897</td>\n",
              "      <td>-0.025338</td>\n",
              "      <td>-0.002798</td>\n",
              "      <td>-0.011631</td>\n",
              "      <td>-0.011349</td>\n",
              "      <td>-0.011144</td>\n",
              "      <td>-0.032866</td>\n",
              "      <td>0.001729</td>\n",
              "    </tr>\n",
              "    <tr>\n",
              "      <th>registration_init_time</th>\n",
              "      <td>0.123861</td>\n",
              "      <td>1.000000</td>\n",
              "      <td>-0.059524</td>\n",
              "      <td>-0.042676</td>\n",
              "      <td>-0.041931</td>\n",
              "      <td>-0.020516</td>\n",
              "      <td>-0.001443</td>\n",
              "      <td>-0.021601</td>\n",
              "      <td>-0.004343</td>\n",
              "      <td>-0.025385</td>\n",
              "      <td>-0.010779</td>\n",
              "      <td>-0.010334</td>\n",
              "      <td>-0.168888</td>\n",
              "      <td>0.029514</td>\n",
              "    </tr>\n",
              "    <tr>\n",
              "      <th>num_25</th>\n",
              "      <td>-0.051805</td>\n",
              "      <td>-0.059524</td>\n",
              "      <td>1.000000</td>\n",
              "      <td>0.503021</td>\n",
              "      <td>0.515474</td>\n",
              "      <td>0.278849</td>\n",
              "      <td>0.055774</td>\n",
              "      <td>0.377777</td>\n",
              "      <td>0.101357</td>\n",
              "      <td>0.014085</td>\n",
              "      <td>0.013811</td>\n",
              "      <td>0.013860</td>\n",
              "      <td>0.011142</td>\n",
              "      <td>0.004558</td>\n",
              "    </tr>\n",
              "    <tr>\n",
              "      <th>num_50</th>\n",
              "      <td>-0.044218</td>\n",
              "      <td>-0.042676</td>\n",
              "      <td>0.503021</td>\n",
              "      <td>1.000000</td>\n",
              "      <td>0.782882</td>\n",
              "      <td>0.288169</td>\n",
              "      <td>0.062760</td>\n",
              "      <td>0.297484</td>\n",
              "      <td>0.124141</td>\n",
              "      <td>0.016374</td>\n",
              "      <td>0.016235</td>\n",
              "      <td>0.016267</td>\n",
              "      <td>0.003379</td>\n",
              "      <td>0.009871</td>\n",
              "    </tr>\n",
              "    <tr>\n",
              "      <th>num_75</th>\n",
              "      <td>-0.049694</td>\n",
              "      <td>-0.041931</td>\n",
              "      <td>0.515474</td>\n",
              "      <td>0.782882</td>\n",
              "      <td>1.000000</td>\n",
              "      <td>0.415093</td>\n",
              "      <td>0.119843</td>\n",
              "      <td>0.333758</td>\n",
              "      <td>0.188323</td>\n",
              "      <td>0.019364</td>\n",
              "      <td>0.019470</td>\n",
              "      <td>0.019505</td>\n",
              "      <td>0.008304</td>\n",
              "      <td>0.011559</td>\n",
              "    </tr>\n",
              "    <tr>\n",
              "      <th>num_985</th>\n",
              "      <td>-0.032023</td>\n",
              "      <td>-0.020516</td>\n",
              "      <td>0.278849</td>\n",
              "      <td>0.288169</td>\n",
              "      <td>0.415093</td>\n",
              "      <td>1.000000</td>\n",
              "      <td>0.155827</td>\n",
              "      <td>0.286787</td>\n",
              "      <td>0.224607</td>\n",
              "      <td>0.012392</td>\n",
              "      <td>0.012944</td>\n",
              "      <td>0.013040</td>\n",
              "      <td>0.004477</td>\n",
              "      <td>0.008830</td>\n",
              "    </tr>\n",
              "    <tr>\n",
              "      <th>num_100</th>\n",
              "      <td>0.001897</td>\n",
              "      <td>-0.001443</td>\n",
              "      <td>0.055774</td>\n",
              "      <td>0.062760</td>\n",
              "      <td>0.119843</td>\n",
              "      <td>0.155827</td>\n",
              "      <td>1.000000</td>\n",
              "      <td>0.791780</td>\n",
              "      <td>0.982503</td>\n",
              "      <td>0.017165</td>\n",
              "      <td>0.019171</td>\n",
              "      <td>0.018991</td>\n",
              "      <td>-0.003470</td>\n",
              "      <td>0.017073</td>\n",
              "    </tr>\n",
              "    <tr>\n",
              "      <th>num_unq</th>\n",
              "      <td>-0.025338</td>\n",
              "      <td>-0.021601</td>\n",
              "      <td>0.377777</td>\n",
              "      <td>0.297484</td>\n",
              "      <td>0.333758</td>\n",
              "      <td>0.286787</td>\n",
              "      <td>0.791780</td>\n",
              "      <td>1.000000</td>\n",
              "      <td>0.828393</td>\n",
              "      <td>0.027586</td>\n",
              "      <td>0.028933</td>\n",
              "      <td>0.028771</td>\n",
              "      <td>0.000142</td>\n",
              "      <td>0.023834</td>\n",
              "    </tr>\n",
              "    <tr>\n",
              "      <th>total_secs</th>\n",
              "      <td>-0.002798</td>\n",
              "      <td>-0.004343</td>\n",
              "      <td>0.101357</td>\n",
              "      <td>0.124141</td>\n",
              "      <td>0.188323</td>\n",
              "      <td>0.224607</td>\n",
              "      <td>0.982503</td>\n",
              "      <td>0.828393</td>\n",
              "      <td>1.000000</td>\n",
              "      <td>0.018757</td>\n",
              "      <td>0.021027</td>\n",
              "      <td>0.020835</td>\n",
              "      <td>-0.004036</td>\n",
              "      <td>0.018628</td>\n",
              "    </tr>\n",
              "    <tr>\n",
              "      <th>payment_plan_days</th>\n",
              "      <td>-0.011631</td>\n",
              "      <td>-0.025385</td>\n",
              "      <td>0.014085</td>\n",
              "      <td>0.016374</td>\n",
              "      <td>0.019364</td>\n",
              "      <td>0.012392</td>\n",
              "      <td>0.017165</td>\n",
              "      <td>0.027586</td>\n",
              "      <td>0.018757</td>\n",
              "      <td>1.000000</td>\n",
              "      <td>0.980939</td>\n",
              "      <td>0.980488</td>\n",
              "      <td>0.142863</td>\n",
              "      <td>0.822422</td>\n",
              "    </tr>\n",
              "    <tr>\n",
              "      <th>plan_list_price</th>\n",
              "      <td>-0.011349</td>\n",
              "      <td>-0.010779</td>\n",
              "      <td>0.013811</td>\n",
              "      <td>0.016235</td>\n",
              "      <td>0.019470</td>\n",
              "      <td>0.012944</td>\n",
              "      <td>0.019171</td>\n",
              "      <td>0.028933</td>\n",
              "      <td>0.021027</td>\n",
              "      <td>0.980939</td>\n",
              "      <td>1.000000</td>\n",
              "      <td>0.999496</td>\n",
              "      <td>0.133828</td>\n",
              "      <td>0.813050</td>\n",
              "    </tr>\n",
              "    <tr>\n",
              "      <th>actual_amount_paid</th>\n",
              "      <td>-0.011144</td>\n",
              "      <td>-0.010334</td>\n",
              "      <td>0.013860</td>\n",
              "      <td>0.016267</td>\n",
              "      <td>0.019505</td>\n",
              "      <td>0.013040</td>\n",
              "      <td>0.018991</td>\n",
              "      <td>0.028771</td>\n",
              "      <td>0.020835</td>\n",
              "      <td>0.980488</td>\n",
              "      <td>0.999496</td>\n",
              "      <td>1.000000</td>\n",
              "      <td>0.133663</td>\n",
              "      <td>0.812883</td>\n",
              "    </tr>\n",
              "    <tr>\n",
              "      <th>transaction_date</th>\n",
              "      <td>-0.032866</td>\n",
              "      <td>-0.168888</td>\n",
              "      <td>0.011142</td>\n",
              "      <td>0.003379</td>\n",
              "      <td>0.008304</td>\n",
              "      <td>0.004477</td>\n",
              "      <td>-0.003470</td>\n",
              "      <td>0.000142</td>\n",
              "      <td>-0.004036</td>\n",
              "      <td>0.142863</td>\n",
              "      <td>0.133828</td>\n",
              "      <td>0.133663</td>\n",
              "      <td>1.000000</td>\n",
              "      <td>0.004255</td>\n",
              "    </tr>\n",
              "    <tr>\n",
              "      <th>membership_expire_date</th>\n",
              "      <td>0.001729</td>\n",
              "      <td>0.029514</td>\n",
              "      <td>0.004558</td>\n",
              "      <td>0.009871</td>\n",
              "      <td>0.011559</td>\n",
              "      <td>0.008830</td>\n",
              "      <td>0.017073</td>\n",
              "      <td>0.023834</td>\n",
              "      <td>0.018628</td>\n",
              "      <td>0.822422</td>\n",
              "      <td>0.813050</td>\n",
              "      <td>0.812883</td>\n",
              "      <td>0.004255</td>\n",
              "      <td>1.000000</td>\n",
              "    </tr>\n",
              "  </tbody>\n",
              "</table>\n",
              "</div>\n",
              "      <button class=\"colab-df-convert\" onclick=\"convertToInteractive('df-5c943da5-f690-4c32-b589-f5d873d4eacd')\"\n",
              "              title=\"Convert this dataframe to an interactive table.\"\n",
              "              style=\"display:none;\">\n",
              "        \n",
              "  <svg xmlns=\"http://www.w3.org/2000/svg\" height=\"24px\"viewBox=\"0 0 24 24\"\n",
              "       width=\"24px\">\n",
              "    <path d=\"M0 0h24v24H0V0z\" fill=\"none\"/>\n",
              "    <path d=\"M18.56 5.44l.94 2.06.94-2.06 2.06-.94-2.06-.94-.94-2.06-.94 2.06-2.06.94zm-11 1L8.5 8.5l.94-2.06 2.06-.94-2.06-.94L8.5 2.5l-.94 2.06-2.06.94zm10 10l.94 2.06.94-2.06 2.06-.94-2.06-.94-.94-2.06-.94 2.06-2.06.94z\"/><path d=\"M17.41 7.96l-1.37-1.37c-.4-.4-.92-.59-1.43-.59-.52 0-1.04.2-1.43.59L10.3 9.45l-7.72 7.72c-.78.78-.78 2.05 0 2.83L4 21.41c.39.39.9.59 1.41.59.51 0 1.02-.2 1.41-.59l7.78-7.78 2.81-2.81c.8-.78.8-2.07 0-2.86zM5.41 20L4 18.59l7.72-7.72 1.47 1.35L5.41 20z\"/>\n",
              "  </svg>\n",
              "      </button>\n",
              "      \n",
              "  <style>\n",
              "    .colab-df-container {\n",
              "      display:flex;\n",
              "      flex-wrap:wrap;\n",
              "      gap: 12px;\n",
              "    }\n",
              "\n",
              "    .colab-df-convert {\n",
              "      background-color: #E8F0FE;\n",
              "      border: none;\n",
              "      border-radius: 50%;\n",
              "      cursor: pointer;\n",
              "      display: none;\n",
              "      fill: #1967D2;\n",
              "      height: 32px;\n",
              "      padding: 0 0 0 0;\n",
              "      width: 32px;\n",
              "    }\n",
              "\n",
              "    .colab-df-convert:hover {\n",
              "      background-color: #E2EBFA;\n",
              "      box-shadow: 0px 1px 2px rgba(60, 64, 67, 0.3), 0px 1px 3px 1px rgba(60, 64, 67, 0.15);\n",
              "      fill: #174EA6;\n",
              "    }\n",
              "\n",
              "    [theme=dark] .colab-df-convert {\n",
              "      background-color: #3B4455;\n",
              "      fill: #D2E3FC;\n",
              "    }\n",
              "\n",
              "    [theme=dark] .colab-df-convert:hover {\n",
              "      background-color: #434B5C;\n",
              "      box-shadow: 0px 1px 3px 1px rgba(0, 0, 0, 0.15);\n",
              "      filter: drop-shadow(0px 1px 2px rgba(0, 0, 0, 0.3));\n",
              "      fill: #FFFFFF;\n",
              "    }\n",
              "  </style>\n",
              "\n",
              "      <script>\n",
              "        const buttonEl =\n",
              "          document.querySelector('#df-5c943da5-f690-4c32-b589-f5d873d4eacd button.colab-df-convert');\n",
              "        buttonEl.style.display =\n",
              "          google.colab.kernel.accessAllowed ? 'block' : 'none';\n",
              "\n",
              "        async function convertToInteractive(key) {\n",
              "          const element = document.querySelector('#df-5c943da5-f690-4c32-b589-f5d873d4eacd');\n",
              "          const dataTable =\n",
              "            await google.colab.kernel.invokeFunction('convertToInteractive',\n",
              "                                                     [key], {});\n",
              "          if (!dataTable) return;\n",
              "\n",
              "          const docLinkHtml = 'Like what you see? Visit the ' +\n",
              "            '<a target=\"_blank\" href=https://colab.research.google.com/notebooks/data_table.ipynb>data table notebook</a>'\n",
              "            + ' to learn more about interactive tables.';\n",
              "          element.innerHTML = '';\n",
              "          dataTable['output_type'] = 'display_data';\n",
              "          await google.colab.output.renderOutput(dataTable, element);\n",
              "          const docLink = document.createElement('div');\n",
              "          docLink.innerHTML = docLinkHtml;\n",
              "          element.appendChild(docLink);\n",
              "        }\n",
              "      </script>\n",
              "    </div>\n",
              "  </div>\n",
              "  "
            ]
          },
          "metadata": {},
          "execution_count": 16
        }
      ],
      "source": [
        "corr_score"
      ]
    },
    {
      "cell_type": "code",
      "execution_count": null,
      "metadata": {
        "colab": {
          "base_uri": "https://localhost:8080/",
          "height": 1000
        },
        "id": "U0xZ-y3cw8JJ",
        "outputId": "c8a42698-17fd-453f-ad7a-508714d678c1"
      },
      "outputs": [
        {
          "output_type": "execute_result",
          "data": {
            "text/plain": [
              "<matplotlib.axes._subplots.AxesSubplot at 0x7f625646b250>"
            ]
          },
          "metadata": {},
          "execution_count": 17
        },
        {
          "output_type": "display_data",
          "data": {
            "text/plain": [
              "<Figure size 2520x2880 with 6 Axes>"
            ],
            "image/png": "[encoded data removed]"
          },
          "metadata": {
            "needs_background": "light"
          }
        }
      ],
      "source": [
        "# understand categorical feature\n",
        "# \"city\", \"gender\", \"registered_via\", \"payment_method_id\", \"is_auto_renew\", \"is_cancal\"\n",
        "_,axss = plt.subplots(3,2, figsize=[35,40])\n",
        "sns.countplot(x='is_churn', hue='city', data=data, ax=axss[0][0])\n",
        "sns.countplot(x='is_churn', hue='gender', data=data, ax=axss[0][1])\n",
        "sns.countplot(x='is_churn', hue='registered_via', data=data, ax=axss[1][0])\n",
        "sns.countplot(x='is_churn', hue='payment_method_id', data=data, ax=axss[1][1])\n",
        "sns.countplot(x='is_churn', hue='is_auto_renew', data=data, ax=axss[2][0])\n",
        "sns.countplot(x='is_churn', hue='is_cancel', data=data, ax=axss[2][1])\n",
        "# female have a higher risk of churn\n",
        "# users who set auto renewal have a higher chance of retention\n",
        "# users who canceled the membership have a higher risk of churn"
      ]
    },
    {
      "cell_type": "markdown",
      "metadata": {
        "id": "aFa4d6t3i0NH"
      },
      "source": [
        "# Part 2: Feature Preprocessing"
      ]
    },
    {
      "cell_type": "code",
      "execution_count": null,
      "metadata": {
        "id": "3sfa2fQx2xXa"
      },
      "outputs": [],
      "source": [
        "# Get feature space by dropping useless feature\n",
        "to_drop = ['msno','is_churn', 'today']\n",
        "#idx = np.random.choice(300000, size=50000, replace=False)\n",
        "#X = data.drop(to_drop, axis=1).iloc[idx,:]\n",
        "# get target variable\n",
        "X = data.drop(to_drop, axis=1)\n",
        "#y = data[\"is_churn\"].iloc[idx]\n",
        "y = data[\"is_churn\"]"
      ]
    },
    {
      "cell_type": "code",
      "execution_count": null,
      "metadata": {
        "colab": {
          "base_uri": "https://localhost:8080/",
          "height": 270
        },
        "id": "lZFFVHUgftso",
        "outputId": "f553ef62-44a4-4a3d-e90d-c90c1bcbb2fd"
      },
      "outputs": [
        {
          "output_type": "execute_result",
          "data": {
            "text/plain": [
              "   city  bd  gender  registered_via  registration_init_time     num_25  \\\n",
              "1     4  30    male               9                    2194   2.333333   \n",
              "2    13  63    male               9                    2192   4.277778   \n",
              "4     4  28  female               9                    2190   1.200000   \n",
              "5     5  27    male               9                    2183  10.043478   \n",
              "6    22  38  female               9                    2181   1.666667   \n",
              "\n",
              "     num_50    num_75   num_985    num_100    num_unq    total_secs  \\\n",
              "1  1.333333  1.000000  1.833333  86.333333  11.166667  20611.449000   \n",
              "2  1.722222  0.722222  1.444444  14.944444  18.722222   4469.457500   \n",
              "4  0.100000  0.200000  0.200000  11.700000   6.800000   2249.476400   \n",
              "5  2.695652  1.130435  0.956522  27.347826  27.913043   7152.184609   \n",
              "6  0.333333  0.333333  0.333333   5.500000   5.833333   1518.184000   \n",
              "\n",
              "   payment_method_id  payment_plan_days  plan_list_price  actual_amount_paid  \\\n",
              "1                 39                 30              149                 149   \n",
              "2                 40                 30              149                 149   \n",
              "4                 36                 30              180                 180   \n",
              "5                 39                 30              149                 149   \n",
              "6                 40                 30              149                 149   \n",
              "\n",
              "   is_auto_renew  transaction_date  membership_expire_date  is_cancel  \n",
              "1              1               171                    -124          0  \n",
              "2              1               175                    -145          0  \n",
              "4              1               199                    -169          0  \n",
              "5              1               171                    -110          0  \n",
              "6              1               191                    -161          0  "
            ],
            "text/html": [
              "\n",
              "  <div id=\"df-52c59650-8101-4205-bc65-1b4a15fb9d84\">\n",
              "    <div class=\"colab-df-container\">\n",
              "      <div>\n",
              "<style scoped>\n",
              "    .dataframe tbody tr th:only-of-type {\n",
              "        vertical-align: middle;\n",
              "    }\n",
              "\n",
              "    .dataframe tbody tr th {\n",
              "        vertical-align: top;\n",
              "    }\n",
              "\n",
              "    .dataframe thead th {\n",
              "        text-align: right;\n",
              "    }\n",
              "</style>\n",
              "<table border=\"1\" class=\"dataframe\">\n",
              "  <thead>\n",
              "    <tr style=\"text-align: right;\">\n",
              "      <th></th>\n",
              "      <th>city</th>\n",
              "      <th>bd</th>\n",
              "      <th>gender</th>\n",
              "      <th>registered_via</th>\n",
              "      <th>registration_init_time</th>\n",
              "      <th>num_25</th>\n",
              "      <th>num_50</th>\n",
              "      <th>num_75</th>\n",
              "      <th>num_985</th>\n",
              "      <th>num_100</th>\n",
              "      <th>num_unq</th>\n",
              "      <th>total_secs</th>\n",
              "      <th>payment_method_id</th>\n",
              "      <th>payment_plan_days</th>\n",
              "      <th>plan_list_price</th>\n",
              "      <th>actual_amount_paid</th>\n",
              "      <th>is_auto_renew</th>\n",
              "      <th>transaction_date</th>\n",
              "      <th>membership_expire_date</th>\n",
              "      <th>is_cancel</th>\n",
              "    </tr>\n",
              "  </thead>\n",
              "  <tbody>\n",
              "    <tr>\n",
              "      <th>1</th>\n",
              "      <td>4</td>\n",
              "      <td>30</td>\n",
              "      <td>male</td>\n",
              "      <td>9</td>\n",
              "      <td>2194</td>\n",
              "      <td>2.333333</td>\n",
              "      <td>1.333333</td>\n",
              "      <td>1.000000</td>\n",
              "      <td>1.833333</td>\n",
              "      <td>86.333333</td>\n",
              "      <td>11.166667</td>\n",
              "      <td>20611.449000</td>\n",
              "      <td>39</td>\n",
              "      <td>30</td>\n",
              "      <td>149</td>\n",
              "      <td>149</td>\n",
              "      <td>1</td>\n",
              "      <td>171</td>\n",
              "      <td>-124</td>\n",
              "      <td>0</td>\n",
              "    </tr>\n",
              "    <tr>\n",
              "      <th>2</th>\n",
              "      <td>13</td>\n",
              "      <td>63</td>\n",
              "      <td>male</td>\n",
              "      <td>9</td>\n",
              "      <td>2192</td>\n",
              "      <td>4.277778</td>\n",
              "      <td>1.722222</td>\n",
              "      <td>0.722222</td>\n",
              "      <td>1.444444</td>\n",
              "      <td>14.944444</td>\n",
              "      <td>18.722222</td>\n",
              "      <td>4469.457500</td>\n",
              "      <td>40</td>\n",
              "      <td>30</td>\n",
              "      <td>149</td>\n",
              "      <td>149</td>\n",
              "      <td>1</td>\n",
              "      <td>175</td>\n",
              "      <td>-145</td>\n",
              "      <td>0</td>\n",
              "    </tr>\n",
              "    <tr>\n",
              "      <th>4</th>\n",
              "      <td>4</td>\n",
              "      <td>28</td>\n",
              "      <td>female</td>\n",
              "      <td>9</td>\n",
              "      <td>2190</td>\n",
              "      <td>1.200000</td>\n",
              "      <td>0.100000</td>\n",
              "      <td>0.200000</td>\n",
              "      <td>0.200000</td>\n",
              "      <td>11.700000</td>\n",
              "      <td>6.800000</td>\n",
              "      <td>2249.476400</td>\n",
              "      <td>36</td>\n",
              "      <td>30</td>\n",
              "      <td>180</td>\n",
              "      <td>180</td>\n",
              "      <td>1</td>\n",
              "      <td>199</td>\n",
              "      <td>-169</td>\n",
              "      <td>0</td>\n",
              "    </tr>\n",
              "    <tr>\n",
              "      <th>5</th>\n",
              "      <td>5</td>\n",
              "      <td>27</td>\n",
              "      <td>male</td>\n",
              "      <td>9</td>\n",
              "      <td>2183</td>\n",
              "      <td>10.043478</td>\n",
              "      <td>2.695652</td>\n",
              "      <td>1.130435</td>\n",
              "      <td>0.956522</td>\n",
              "      <td>27.347826</td>\n",
              "      <td>27.913043</td>\n",
              "      <td>7152.184609</td>\n",
              "      <td>39</td>\n",
              "      <td>30</td>\n",
              "      <td>149</td>\n",
              "      <td>149</td>\n",
              "      <td>1</td>\n",
              "      <td>171</td>\n",
              "      <td>-110</td>\n",
              "      <td>0</td>\n",
              "    </tr>\n",
              "    <tr>\n",
              "      <th>6</th>\n",
              "      <td>22</td>\n",
              "      <td>38</td>\n",
              "      <td>female</td>\n",
              "      <td>9</td>\n",
              "      <td>2181</td>\n",
              "      <td>1.666667</td>\n",
              "      <td>0.333333</td>\n",
              "      <td>0.333333</td>\n",
              "      <td>0.333333</td>\n",
              "      <td>5.500000</td>\n",
              "      <td>5.833333</td>\n",
              "      <td>1518.184000</td>\n",
              "      <td>40</td>\n",
              "      <td>30</td>\n",
              "      <td>149</td>\n",
              "      <td>149</td>\n",
              "      <td>1</td>\n",
              "      <td>191</td>\n",
              "      <td>-161</td>\n",
              "      <td>0</td>\n",
              "    </tr>\n",
              "  </tbody>\n",
              "</table>\n",
              "</div>\n",
              "      <button class=\"colab-df-convert\" onclick=\"convertToInteractive('df-52c59650-8101-4205-bc65-1b4a15fb9d84')\"\n",
              "              title=\"Convert this dataframe to an interactive table.\"\n",
              "              style=\"display:none;\">\n",
              "        \n",
              "  <svg xmlns=\"http://www.w3.org/2000/svg\" height=\"24px\"viewBox=\"0 0 24 24\"\n",
              "       width=\"24px\">\n",
              "    <path d=\"M0 0h24v24H0V0z\" fill=\"none\"/>\n",
              "    <path d=\"M18.56 5.44l.94 2.06.94-2.06 2.06-.94-2.06-.94-.94-2.06-.94 2.06-2.06.94zm-11 1L8.5 8.5l.94-2.06 2.06-.94-2.06-.94L8.5 2.5l-.94 2.06-2.06.94zm10 10l.94 2.06.94-2.06 2.06-.94-2.06-.94-.94-2.06-.94 2.06-2.06.94z\"/><path d=\"M17.41 7.96l-1.37-1.37c-.4-.4-.92-.59-1.43-.59-.52 0-1.04.2-1.43.59L10.3 9.45l-7.72 7.72c-.78.78-.78 2.05 0 2.83L4 21.41c.39.39.9.59 1.41.59.51 0 1.02-.2 1.41-.59l7.78-7.78 2.81-2.81c.8-.78.8-2.07 0-2.86zM5.41 20L4 18.59l7.72-7.72 1.47 1.35L5.41 20z\"/>\n",
              "  </svg>\n",
              "      </button>\n",
              "      \n",
              "  <style>\n",
              "    .colab-df-container {\n",
              "      display:flex;\n",
              "      flex-wrap:wrap;\n",
              "      gap: 12px;\n",
              "    }\n",
              "\n",
              "    .colab-df-convert {\n",
              "      background-color: #E8F0FE;\n",
              "      border: none;\n",
              "      border-radius: 50%;\n",
              "      cursor: pointer;\n",
              "      display: none;\n",
              "      fill: #1967D2;\n",
              "      height: 32px;\n",
              "      padding: 0 0 0 0;\n",
              "      width: 32px;\n",
              "    }\n",
              "\n",
              "    .colab-df-convert:hover {\n",
              "      background-color: #E2EBFA;\n",
              "      box-shadow: 0px 1px 2px rgba(60, 64, 67, 0.3), 0px 1px 3px 1px rgba(60, 64, 67, 0.15);\n",
              "      fill: #174EA6;\n",
              "    }\n",
              "\n",
              "    [theme=dark] .colab-df-convert {\n",
              "      background-color: #3B4455;\n",
              "      fill: #D2E3FC;\n",
              "    }\n",
              "\n",
              "    [theme=dark] .colab-df-convert:hover {\n",
              "      background-color: #434B5C;\n",
              "      box-shadow: 0px 1px 3px 1px rgba(0, 0, 0, 0.15);\n",
              "      filter: drop-shadow(0px 1px 2px rgba(0, 0, 0, 0.3));\n",
              "      fill: #FFFFFF;\n",
              "    }\n",
              "  </style>\n",
              "\n",
              "      <script>\n",
              "        const buttonEl =\n",
              "          document.querySelector('#df-52c59650-8101-4205-bc65-1b4a15fb9d84 button.colab-df-convert');\n",
              "        buttonEl.style.display =\n",
              "          google.colab.kernel.accessAllowed ? 'block' : 'none';\n",
              "\n",
              "        async function convertToInteractive(key) {\n",
              "          const element = document.querySelector('#df-52c59650-8101-4205-bc65-1b4a15fb9d84');\n",
              "          const dataTable =\n",
              "            await google.colab.kernel.invokeFunction('convertToInteractive',\n",
              "                                                     [key], {});\n",
              "          if (!dataTable) return;\n",
              "\n",
              "          const docLinkHtml = 'Like what you see? Visit the ' +\n",
              "            '<a target=\"_blank\" href=https://colab.research.google.com/notebooks/data_table.ipynb>data table notebook</a>'\n",
              "            + ' to learn more about interactive tables.';\n",
              "          element.innerHTML = '';\n",
              "          dataTable['output_type'] = 'display_data';\n",
              "          await google.colab.output.renderOutput(dataTable, element);\n",
              "          const docLink = document.createElement('div');\n",
              "          docLink.innerHTML = docLinkHtml;\n",
              "          element.appendChild(docLink);\n",
              "        }\n",
              "      </script>\n",
              "    </div>\n",
              "  </div>\n",
              "  "
            ]
          },
          "metadata": {},
          "execution_count": 19
        }
      ],
      "source": [
        "X.head()"
      ]
    },
    {
      "cell_type": "code",
      "execution_count": null,
      "metadata": {
        "colab": {
          "base_uri": "https://localhost:8080/"
        },
        "id": "i6WyuvNyxNeE",
        "outputId": "1a5c99b8-e30d-48c8-e6e0-7aba604fd263"
      },
      "outputs": [
        {
          "output_type": "execute_result",
          "data": {
            "text/plain": [
              "city                        int64\n",
              "bd                          int64\n",
              "gender                     object\n",
              "registered_via              int64\n",
              "registration_init_time      int64\n",
              "num_25                    float64\n",
              "num_50                    float64\n",
              "num_75                    float64\n",
              "num_985                   float64\n",
              "num_100                   float64\n",
              "num_unq                   float64\n",
              "total_secs                float64\n",
              "payment_method_id           int64\n",
              "payment_plan_days           int64\n",
              "plan_list_price             int64\n",
              "actual_amount_paid          int64\n",
              "is_auto_renew               int64\n",
              "transaction_date            int64\n",
              "membership_expire_date      int64\n",
              "is_cancel                   int64\n",
              "dtype: object"
            ]
          },
          "metadata": {},
          "execution_count": 20
        }
      ],
      "source": [
        "X.dtypes"
      ]
    },
    {
      "cell_type": "code",
      "execution_count": null,
      "metadata": {
        "colab": {
          "base_uri": "https://localhost:8080/"
        },
        "id": "XVAaLjGsgCPq",
        "outputId": "b9bd7d15-99fe-4a33-83d3-663b3927b4be"
      },
      "outputs": [
        {
          "output_type": "execute_result",
          "data": {
            "text/plain": [
              "['bd',\n",
              " 'registration_init_time',\n",
              " 'num_25',\n",
              " 'num_50',\n",
              " 'num_75',\n",
              " 'num_985',\n",
              " 'num_100',\n",
              " 'num_unq',\n",
              " 'total_secs',\n",
              " 'payment_plan_days',\n",
              " 'plan_list_price',\n",
              " 'actual_amount_paid',\n",
              " 'transaction_date',\n",
              " 'membership_expire_date']"
            ]
          },
          "metadata": {},
          "execution_count": 21
        }
      ],
      "source": [
        "num_cols"
      ]
    },
    {
      "cell_type": "code",
      "execution_count": null,
      "metadata": {
        "colab": {
          "base_uri": "https://localhost:8080/"
        },
        "id": "V784I6eGgAH4",
        "outputId": "91e015e1-2188-4f3e-9d4d-38935f5123f9"
      },
      "outputs": [
        {
          "output_type": "execute_result",
          "data": {
            "text/plain": [
              "['city',\n",
              " 'gender',\n",
              " 'registered_via',\n",
              " 'payment_method_id',\n",
              " 'is_auto_renew',\n",
              " 'is_cancel']"
            ]
          },
          "metadata": {},
          "execution_count": 22
        }
      ],
      "source": [
        "cat_cols"
      ]
    },
    {
      "cell_type": "markdown",
      "metadata": {
        "id": "77OjmSl9i0Nf"
      },
      "source": [
        "Split dataset"
      ]
    },
    {
      "cell_type": "code",
      "execution_count": null,
      "metadata": {
        "colab": {
          "base_uri": "https://localhost:8080/"
        },
        "id": "Uay8Md5li0Nh",
        "outputId": "9841cf93-d7df-4aa8-f5b7-27a1b49b4a02"
      },
      "outputs": [
        {
          "output_type": "stream",
          "name": "stdout",
          "text": [
            "training data has 333597 observation with 20 features\n",
            "test data has 10318 observation with 20 features\n"
          ]
        }
      ],
      "source": [
        "from sklearn import model_selection\n",
        "\n",
        "X_train, X_test, y_train, y_test = model_selection.train_test_split(X, y, test_size=0.03, \n",
        "                                                                    stratify = y, random_state=123) #stratified sampling\n",
        "\n",
        "print('training data has ' + str(X_train.shape[0]) + ' observation with ' + str(X_train.shape[1]) + ' features')\n",
        "print('test data has ' + str(X_test.shape[0]) + ' observation with ' + str(X_test.shape[1]) + ' features')"
      ]
    },
    {
      "cell_type": "code",
      "execution_count": null,
      "metadata": {
        "colab": {
          "base_uri": "https://localhost:8080/",
          "height": 270
        },
        "id": "apcEXk0Eh978",
        "outputId": "8deb791b-7fb9-45a3-bf1f-765c68cd2dc5"
      },
      "outputs": [
        {
          "output_type": "execute_result",
          "data": {
            "text/plain": [
              "        city  bd  gender  registered_via  registration_init_time    num_25  \\\n",
              "29962     13  24    male               9                    1674  3.500000   \n",
              "18064      5  23  female               4                     433  2.064516   \n",
              "405426     8  29    male               9                    2467  1.761905   \n",
              "98980     12  32  female               7                     302  8.000000   \n",
              "399979    13  24  female               7                    2211  3.133333   \n",
              "\n",
              "          num_50    num_75   num_985    num_100    num_unq   total_secs  \\\n",
              "29962   2.041667  1.166667  1.750000   9.166667  15.000000  3143.889458   \n",
              "18064   0.516129  0.387097  0.322581  31.774194  26.612903  8383.540935   \n",
              "405426  0.857143  0.619048  1.619048   8.333333  12.000000  2733.655952   \n",
              "98980   1.000000  0.166667  0.333333   7.000000  13.833333  1793.776667   \n",
              "399979  0.366667  0.300000  0.433333  14.166667  13.366667  3781.284033   \n",
              "\n",
              "        payment_method_id  payment_plan_days  plan_list_price  \\\n",
              "29962                  37                 30              149   \n",
              "18064                  36                 30              180   \n",
              "405426                 37                 30              149   \n",
              "98980                  41                 30              149   \n",
              "399979                 41                 30              149   \n",
              "\n",
              "        actual_amount_paid  is_auto_renew  transaction_date  \\\n",
              "29962                  149              1               193   \n",
              "18064                  180              1               186   \n",
              "405426                 149              1               185   \n",
              "98980                  149              1               192   \n",
              "399979                 149              1               175   \n",
              "\n",
              "        membership_expire_date  is_cancel  \n",
              "29962                     -157          0  \n",
              "18064                     -156          0  \n",
              "405426                    -155          0  \n",
              "98980                     -192          1  \n",
              "399979                    -143          0  "
            ],
            "text/html": [
              "\n",
              "  <div id=\"df-dcfde87d-19ad-4b88-bdf4-bdb12dc59617\">\n",
              "    <div class=\"colab-df-container\">\n",
              "      <div>\n",
              "<style scoped>\n",
              "    .dataframe tbody tr th:only-of-type {\n",
              "        vertical-align: middle;\n",
              "    }\n",
              "\n",
              "    .dataframe tbody tr th {\n",
              "        vertical-align: top;\n",
              "    }\n",
              "\n",
              "    .dataframe thead th {\n",
              "        text-align: right;\n",
              "    }\n",
              "</style>\n",
              "<table border=\"1\" class=\"dataframe\">\n",
              "  <thead>\n",
              "    <tr style=\"text-align: right;\">\n",
              "      <th></th>\n",
              "      <th>city</th>\n",
              "      <th>bd</th>\n",
              "      <th>gender</th>\n",
              "      <th>registered_via</th>\n",
              "      <th>registration_init_time</th>\n",
              "      <th>num_25</th>\n",
              "      <th>num_50</th>\n",
              "      <th>num_75</th>\n",
              "      <th>num_985</th>\n",
              "      <th>num_100</th>\n",
              "      <th>num_unq</th>\n",
              "      <th>total_secs</th>\n",
              "      <th>payment_method_id</th>\n",
              "      <th>payment_plan_days</th>\n",
              "      <th>plan_list_price</th>\n",
              "      <th>actual_amount_paid</th>\n",
              "      <th>is_auto_renew</th>\n",
              "      <th>transaction_date</th>\n",
              "      <th>membership_expire_date</th>\n",
              "      <th>is_cancel</th>\n",
              "    </tr>\n",
              "  </thead>\n",
              "  <tbody>\n",
              "    <tr>\n",
              "      <th>29962</th>\n",
              "      <td>13</td>\n",
              "      <td>24</td>\n",
              "      <td>male</td>\n",
              "      <td>9</td>\n",
              "      <td>1674</td>\n",
              "      <td>3.500000</td>\n",
              "      <td>2.041667</td>\n",
              "      <td>1.166667</td>\n",
              "      <td>1.750000</td>\n",
              "      <td>9.166667</td>\n",
              "      <td>15.000000</td>\n",
              "      <td>3143.889458</td>\n",
              "      <td>37</td>\n",
              "      <td>30</td>\n",
              "      <td>149</td>\n",
              "      <td>149</td>\n",
              "      <td>1</td>\n",
              "      <td>193</td>\n",
              "      <td>-157</td>\n",
              "      <td>0</td>\n",
              "    </tr>\n",
              "    <tr>\n",
              "      <th>18064</th>\n",
              "      <td>5</td>\n",
              "      <td>23</td>\n",
              "      <td>female</td>\n",
              "      <td>4</td>\n",
              "      <td>433</td>\n",
              "      <td>2.064516</td>\n",
              "      <td>0.516129</td>\n",
              "      <td>0.387097</td>\n",
              "      <td>0.322581</td>\n",
              "      <td>31.774194</td>\n",
              "      <td>26.612903</td>\n",
              "      <td>8383.540935</td>\n",
              "      <td>36</td>\n",
              "      <td>30</td>\n",
              "      <td>180</td>\n",
              "      <td>180</td>\n",
              "      <td>1</td>\n",
              "      <td>186</td>\n",
              "      <td>-156</td>\n",
              "      <td>0</td>\n",
              "    </tr>\n",
              "    <tr>\n",
              "      <th>405426</th>\n",
              "      <td>8</td>\n",
              "      <td>29</td>\n",
              "      <td>male</td>\n",
              "      <td>9</td>\n",
              "      <td>2467</td>\n",
              "      <td>1.761905</td>\n",
              "      <td>0.857143</td>\n",
              "      <td>0.619048</td>\n",
              "      <td>1.619048</td>\n",
              "      <td>8.333333</td>\n",
              "      <td>12.000000</td>\n",
              "      <td>2733.655952</td>\n",
              "      <td>37</td>\n",
              "      <td>30</td>\n",
              "      <td>149</td>\n",
              "      <td>149</td>\n",
              "      <td>1</td>\n",
              "      <td>185</td>\n",
              "      <td>-155</td>\n",
              "      <td>0</td>\n",
              "    </tr>\n",
              "    <tr>\n",
              "      <th>98980</th>\n",
              "      <td>12</td>\n",
              "      <td>32</td>\n",
              "      <td>female</td>\n",
              "      <td>7</td>\n",
              "      <td>302</td>\n",
              "      <td>8.000000</td>\n",
              "      <td>1.000000</td>\n",
              "      <td>0.166667</td>\n",
              "      <td>0.333333</td>\n",
              "      <td>7.000000</td>\n",
              "      <td>13.833333</td>\n",
              "      <td>1793.776667</td>\n",
              "      <td>41</td>\n",
              "      <td>30</td>\n",
              "      <td>149</td>\n",
              "      <td>149</td>\n",
              "      <td>1</td>\n",
              "      <td>192</td>\n",
              "      <td>-192</td>\n",
              "      <td>1</td>\n",
              "    </tr>\n",
              "    <tr>\n",
              "      <th>399979</th>\n",
              "      <td>13</td>\n",
              "      <td>24</td>\n",
              "      <td>female</td>\n",
              "      <td>7</td>\n",
              "      <td>2211</td>\n",
              "      <td>3.133333</td>\n",
              "      <td>0.366667</td>\n",
              "      <td>0.300000</td>\n",
              "      <td>0.433333</td>\n",
              "      <td>14.166667</td>\n",
              "      <td>13.366667</td>\n",
              "      <td>3781.284033</td>\n",
              "      <td>41</td>\n",
              "      <td>30</td>\n",
              "      <td>149</td>\n",
              "      <td>149</td>\n",
              "      <td>1</td>\n",
              "      <td>175</td>\n",
              "      <td>-143</td>\n",
              "      <td>0</td>\n",
              "    </tr>\n",
              "  </tbody>\n",
              "</table>\n",
              "</div>\n",
              "      <button class=\"colab-df-convert\" onclick=\"convertToInteractive('df-dcfde87d-19ad-4b88-bdf4-bdb12dc59617')\"\n",
              "              title=\"Convert this dataframe to an interactive table.\"\n",
              "              style=\"display:none;\">\n",
              "        \n",
              "  <svg xmlns=\"http://www.w3.org/2000/svg\" height=\"24px\"viewBox=\"0 0 24 24\"\n",
              "       width=\"24px\">\n",
              "    <path d=\"M0 0h24v24H0V0z\" fill=\"none\"/>\n",
              "    <path d=\"M18.56 5.44l.94 2.06.94-2.06 2.06-.94-2.06-.94-.94-2.06-.94 2.06-2.06.94zm-11 1L8.5 8.5l.94-2.06 2.06-.94-2.06-.94L8.5 2.5l-.94 2.06-2.06.94zm10 10l.94 2.06.94-2.06 2.06-.94-2.06-.94-.94-2.06-.94 2.06-2.06.94z\"/><path d=\"M17.41 7.96l-1.37-1.37c-.4-.4-.92-.59-1.43-.59-.52 0-1.04.2-1.43.59L10.3 9.45l-7.72 7.72c-.78.78-.78 2.05 0 2.83L4 21.41c.39.39.9.59 1.41.59.51 0 1.02-.2 1.41-.59l7.78-7.78 2.81-2.81c.8-.78.8-2.07 0-2.86zM5.41 20L4 18.59l7.72-7.72 1.47 1.35L5.41 20z\"/>\n",
              "  </svg>\n",
              "      </button>\n",
              "      \n",
              "  <style>\n",
              "    .colab-df-container {\n",
              "      display:flex;\n",
              "      flex-wrap:wrap;\n",
              "      gap: 12px;\n",
              "    }\n",
              "\n",
              "    .colab-df-convert {\n",
              "      background-color: #E8F0FE;\n",
              "      border: none;\n",
              "      border-radius: 50%;\n",
              "      cursor: pointer;\n",
              "      display: none;\n",
              "      fill: #1967D2;\n",
              "      height: 32px;\n",
              "      padding: 0 0 0 0;\n",
              "      width: 32px;\n",
              "    }\n",
              "\n",
              "    .colab-df-convert:hover {\n",
              "      background-color: #E2EBFA;\n",
              "      box-shadow: 0px 1px 2px rgba(60, 64, 67, 0.3), 0px 1px 3px 1px rgba(60, 64, 67, 0.15);\n",
              "      fill: #174EA6;\n",
              "    }\n",
              "\n",
              "    [theme=dark] .colab-df-convert {\n",
              "      background-color: #3B4455;\n",
              "      fill: #D2E3FC;\n",
              "    }\n",
              "\n",
              "    [theme=dark] .colab-df-convert:hover {\n",
              "      background-color: #434B5C;\n",
              "      box-shadow: 0px 1px 3px 1px rgba(0, 0, 0, 0.15);\n",
              "      filter: drop-shadow(0px 1px 2px rgba(0, 0, 0, 0.3));\n",
              "      fill: #FFFFFF;\n",
              "    }\n",
              "  </style>\n",
              "\n",
              "      <script>\n",
              "        const buttonEl =\n",
              "          document.querySelector('#df-dcfde87d-19ad-4b88-bdf4-bdb12dc59617 button.colab-df-convert');\n",
              "        buttonEl.style.display =\n",
              "          google.colab.kernel.accessAllowed ? 'block' : 'none';\n",
              "\n",
              "        async function convertToInteractive(key) {\n",
              "          const element = document.querySelector('#df-dcfde87d-19ad-4b88-bdf4-bdb12dc59617');\n",
              "          const dataTable =\n",
              "            await google.colab.kernel.invokeFunction('convertToInteractive',\n",
              "                                                     [key], {});\n",
              "          if (!dataTable) return;\n",
              "\n",
              "          const docLinkHtml = 'Like what you see? Visit the ' +\n",
              "            '<a target=\"_blank\" href=https://colab.research.google.com/notebooks/data_table.ipynb>data table notebook</a>'\n",
              "            + ' to learn more about interactive tables.';\n",
              "          element.innerHTML = '';\n",
              "          dataTable['output_type'] = 'display_data';\n",
              "          await google.colab.output.renderOutput(dataTable, element);\n",
              "          const docLink = document.createElement('div');\n",
              "          docLink.innerHTML = docLinkHtml;\n",
              "          element.appendChild(docLink);\n",
              "        }\n",
              "      </script>\n",
              "    </div>\n",
              "  </div>\n",
              "  "
            ]
          },
          "metadata": {},
          "execution_count": 24
        }
      ],
      "source": [
        "X_train.head()"
      ]
    },
    {
      "cell_type": "code",
      "execution_count": null,
      "metadata": {
        "id": "iWEjSK9leWyH"
      },
      "outputs": [],
      "source": [
        "# One hot encoding\n",
        "from sklearn.preprocessing import OneHotEncoder\n",
        "\n",
        "def OneHotEncoding(df, enc, categories):  \n",
        "    transformed = pd.DataFrame(enc.transform(df[categories]).toarray(), columns=enc.get_feature_names_out(categories))\n",
        "    return pd.concat([df.reset_index(drop=True), transformed], axis=1).drop(categories, axis=1)\n",
        "\n",
        "categories = ['city', 'registered_via', 'payment_method_id']\n",
        "enc_ohe = OneHotEncoder()\n",
        "enc_ohe.fit(X_train[categories])\n",
        "\n",
        "X_train = OneHotEncoding(X_train, enc_ohe, categories)\n",
        "X_test = OneHotEncoding(X_test, enc_ohe, categories)"
      ]
    },
    {
      "cell_type": "code",
      "execution_count": null,
      "metadata": {
        "colab": {
          "base_uri": "https://localhost:8080/",
          "height": 300
        },
        "id": "txvvIi_Y1G1_",
        "outputId": "245f50aa-e61e-456f-9283-327a8c46d284"
      },
      "outputs": [
        {
          "output_type": "execute_result",
          "data": {
            "text/plain": [
              "   bd  gender  registration_init_time    num_25    num_50    num_75   num_985  \\\n",
              "0  24    male                    1674  3.500000  2.041667  1.166667  1.750000   \n",
              "1  23  female                     433  2.064516  0.516129  0.387097  0.322581   \n",
              "2  29    male                    2467  1.761905  0.857143  0.619048  1.619048   \n",
              "3  32  female                     302  8.000000  1.000000  0.166667  0.333333   \n",
              "4  24  female                    2211  3.133333  0.366667  0.300000  0.433333   \n",
              "\n",
              "     num_100    num_unq   total_secs  ...  payment_method_id_32  \\\n",
              "0   9.166667  15.000000  3143.889458  ...                   0.0   \n",
              "1  31.774194  26.612903  8383.540935  ...                   0.0   \n",
              "2   8.333333  12.000000  2733.655952  ...                   0.0   \n",
              "3   7.000000  13.833333  1793.776667  ...                   0.0   \n",
              "4  14.166667  13.366667  3781.284033  ...                   0.0   \n",
              "\n",
              "   payment_method_id_33  payment_method_id_34  payment_method_id_35  \\\n",
              "0                   0.0                   0.0                   0.0   \n",
              "1                   0.0                   0.0                   0.0   \n",
              "2                   0.0                   0.0                   0.0   \n",
              "3                   0.0                   0.0                   0.0   \n",
              "4                   0.0                   0.0                   0.0   \n",
              "\n",
              "   payment_method_id_36  payment_method_id_37  payment_method_id_38  \\\n",
              "0                   0.0                   1.0                   0.0   \n",
              "1                   1.0                   0.0                   0.0   \n",
              "2                   0.0                   1.0                   0.0   \n",
              "3                   0.0                   0.0                   0.0   \n",
              "4                   0.0                   0.0                   0.0   \n",
              "\n",
              "   payment_method_id_39  payment_method_id_40  payment_method_id_41  \n",
              "0                   0.0                   0.0                   0.0  \n",
              "1                   0.0                   0.0                   0.0  \n",
              "2                   0.0                   0.0                   0.0  \n",
              "3                   0.0                   0.0                   1.0  \n",
              "4                   0.0                   0.0                   1.0  \n",
              "\n",
              "[5 rows x 76 columns]"
            ],
            "text/html": [
              "\n",
              "  <div id=\"df-9f0b0f81-77b6-4bbd-91ba-9680623dc3ff\">\n",
              "    <div class=\"colab-df-container\">\n",
              "      <div>\n",
              "<style scoped>\n",
              "    .dataframe tbody tr th:only-of-type {\n",
              "        vertical-align: middle;\n",
              "    }\n",
              "\n",
              "    .dataframe tbody tr th {\n",
              "        vertical-align: top;\n",
              "    }\n",
              "\n",
              "    .dataframe thead th {\n",
              "        text-align: right;\n",
              "    }\n",
              "</style>\n",
              "<table border=\"1\" class=\"dataframe\">\n",
              "  <thead>\n",
              "    <tr style=\"text-align: right;\">\n",
              "      <th></th>\n",
              "      <th>bd</th>\n",
              "      <th>gender</th>\n",
              "      <th>registration_init_time</th>\n",
              "      <th>num_25</th>\n",
              "      <th>num_50</th>\n",
              "      <th>num_75</th>\n",
              "      <th>num_985</th>\n",
              "      <th>num_100</th>\n",
              "      <th>num_unq</th>\n",
              "      <th>total_secs</th>\n",
              "      <th>...</th>\n",
              "      <th>payment_method_id_32</th>\n",
              "      <th>payment_method_id_33</th>\n",
              "      <th>payment_method_id_34</th>\n",
              "      <th>payment_method_id_35</th>\n",
              "      <th>payment_method_id_36</th>\n",
              "      <th>payment_method_id_37</th>\n",
              "      <th>payment_method_id_38</th>\n",
              "      <th>payment_method_id_39</th>\n",
              "      <th>payment_method_id_40</th>\n",
              "      <th>payment_method_id_41</th>\n",
              "    </tr>\n",
              "  </thead>\n",
              "  <tbody>\n",
              "    <tr>\n",
              "      <th>0</th>\n",
              "      <td>24</td>\n",
              "      <td>male</td>\n",
              "      <td>1674</td>\n",
              "      <td>3.500000</td>\n",
              "      <td>2.041667</td>\n",
              "      <td>1.166667</td>\n",
              "      <td>1.750000</td>\n",
              "      <td>9.166667</td>\n",
              "      <td>15.000000</td>\n",
              "      <td>3143.889458</td>\n",
              "      <td>...</td>\n",
              "      <td>0.0</td>\n",
              "      <td>0.0</td>\n",
              "      <td>0.0</td>\n",
              "      <td>0.0</td>\n",
              "      <td>0.0</td>\n",
              "      <td>1.0</td>\n",
              "      <td>0.0</td>\n",
              "      <td>0.0</td>\n",
              "      <td>0.0</td>\n",
              "      <td>0.0</td>\n",
              "    </tr>\n",
              "    <tr>\n",
              "      <th>1</th>\n",
              "      <td>23</td>\n",
              "      <td>female</td>\n",
              "      <td>433</td>\n",
              "      <td>2.064516</td>\n",
              "      <td>0.516129</td>\n",
              "      <td>0.387097</td>\n",
              "      <td>0.322581</td>\n",
              "      <td>31.774194</td>\n",
              "      <td>26.612903</td>\n",
              "      <td>8383.540935</td>\n",
              "      <td>...</td>\n",
              "      <td>0.0</td>\n",
              "      <td>0.0</td>\n",
              "      <td>0.0</td>\n",
              "      <td>0.0</td>\n",
              "      <td>1.0</td>\n",
              "      <td>0.0</td>\n",
              "      <td>0.0</td>\n",
              "      <td>0.0</td>\n",
              "      <td>0.0</td>\n",
              "      <td>0.0</td>\n",
              "    </tr>\n",
              "    <tr>\n",
              "      <th>2</th>\n",
              "      <td>29</td>\n",
              "      <td>male</td>\n",
              "      <td>2467</td>\n",
              "      <td>1.761905</td>\n",
              "      <td>0.857143</td>\n",
              "      <td>0.619048</td>\n",
              "      <td>1.619048</td>\n",
              "      <td>8.333333</td>\n",
              "      <td>12.000000</td>\n",
              "      <td>2733.655952</td>\n",
              "      <td>...</td>\n",
              "      <td>0.0</td>\n",
              "      <td>0.0</td>\n",
              "      <td>0.0</td>\n",
              "      <td>0.0</td>\n",
              "      <td>0.0</td>\n",
              "      <td>1.0</td>\n",
              "      <td>0.0</td>\n",
              "      <td>0.0</td>\n",
              "      <td>0.0</td>\n",
              "      <td>0.0</td>\n",
              "    </tr>\n",
              "    <tr>\n",
              "      <th>3</th>\n",
              "      <td>32</td>\n",
              "      <td>female</td>\n",
              "      <td>302</td>\n",
              "      <td>8.000000</td>\n",
              "      <td>1.000000</td>\n",
              "      <td>0.166667</td>\n",
              "      <td>0.333333</td>\n",
              "      <td>7.000000</td>\n",
              "      <td>13.833333</td>\n",
              "      <td>1793.776667</td>\n",
              "      <td>...</td>\n",
              "      <td>0.0</td>\n",
              "      <td>0.0</td>\n",
              "      <td>0.0</td>\n",
              "      <td>0.0</td>\n",
              "      <td>0.0</td>\n",
              "      <td>0.0</td>\n",
              "      <td>0.0</td>\n",
              "      <td>0.0</td>\n",
              "      <td>0.0</td>\n",
              "      <td>1.0</td>\n",
              "    </tr>\n",
              "    <tr>\n",
              "      <th>4</th>\n",
              "      <td>24</td>\n",
              "      <td>female</td>\n",
              "      <td>2211</td>\n",
              "      <td>3.133333</td>\n",
              "      <td>0.366667</td>\n",
              "      <td>0.300000</td>\n",
              "      <td>0.433333</td>\n",
              "      <td>14.166667</td>\n",
              "      <td>13.366667</td>\n",
              "      <td>3781.284033</td>\n",
              "      <td>...</td>\n",
              "      <td>0.0</td>\n",
              "      <td>0.0</td>\n",
              "      <td>0.0</td>\n",
              "      <td>0.0</td>\n",
              "      <td>0.0</td>\n",
              "      <td>0.0</td>\n",
              "      <td>0.0</td>\n",
              "      <td>0.0</td>\n",
              "      <td>0.0</td>\n",
              "      <td>1.0</td>\n",
              "    </tr>\n",
              "  </tbody>\n",
              "</table>\n",
              "<p>5 rows × 76 columns</p>\n",
              "</div>\n",
              "      <button class=\"colab-df-convert\" onclick=\"convertToInteractive('df-9f0b0f81-77b6-4bbd-91ba-9680623dc3ff')\"\n",
              "              title=\"Convert this dataframe to an interactive table.\"\n",
              "              style=\"display:none;\">\n",
              "        \n",
              "  <svg xmlns=\"http://www.w3.org/2000/svg\" height=\"24px\"viewBox=\"0 0 24 24\"\n",
              "       width=\"24px\">\n",
              "    <path d=\"M0 0h24v24H0V0z\" fill=\"none\"/>\n",
              "    <path d=\"M18.56 5.44l.94 2.06.94-2.06 2.06-.94-2.06-.94-.94-2.06-.94 2.06-2.06.94zm-11 1L8.5 8.5l.94-2.06 2.06-.94-2.06-.94L8.5 2.5l-.94 2.06-2.06.94zm10 10l.94 2.06.94-2.06 2.06-.94-2.06-.94-.94-2.06-.94 2.06-2.06.94z\"/><path d=\"M17.41 7.96l-1.37-1.37c-.4-.4-.92-.59-1.43-.59-.52 0-1.04.2-1.43.59L10.3 9.45l-7.72 7.72c-.78.78-.78 2.05 0 2.83L4 21.41c.39.39.9.59 1.41.59.51 0 1.02-.2 1.41-.59l7.78-7.78 2.81-2.81c.8-.78.8-2.07 0-2.86zM5.41 20L4 18.59l7.72-7.72 1.47 1.35L5.41 20z\"/>\n",
              "  </svg>\n",
              "      </button>\n",
              "      \n",
              "  <style>\n",
              "    .colab-df-container {\n",
              "      display:flex;\n",
              "      flex-wrap:wrap;\n",
              "      gap: 12px;\n",
              "    }\n",
              "\n",
              "    .colab-df-convert {\n",
              "      background-color: #E8F0FE;\n",
              "      border: none;\n",
              "      border-radius: 50%;\n",
              "      cursor: pointer;\n",
              "      display: none;\n",
              "      fill: #1967D2;\n",
              "      height: 32px;\n",
              "      padding: 0 0 0 0;\n",
              "      width: 32px;\n",
              "    }\n",
              "\n",
              "    .colab-df-convert:hover {\n",
              "      background-color: #E2EBFA;\n",
              "      box-shadow: 0px 1px 2px rgba(60, 64, 67, 0.3), 0px 1px 3px 1px rgba(60, 64, 67, 0.15);\n",
              "      fill: #174EA6;\n",
              "    }\n",
              "\n",
              "    [theme=dark] .colab-df-convert {\n",
              "      background-color: #3B4455;\n",
              "      fill: #D2E3FC;\n",
              "    }\n",
              "\n",
              "    [theme=dark] .colab-df-convert:hover {\n",
              "      background-color: #434B5C;\n",
              "      box-shadow: 0px 1px 3px 1px rgba(0, 0, 0, 0.15);\n",
              "      filter: drop-shadow(0px 1px 2px rgba(0, 0, 0, 0.3));\n",
              "      fill: #FFFFFF;\n",
              "    }\n",
              "  </style>\n",
              "\n",
              "      <script>\n",
              "        const buttonEl =\n",
              "          document.querySelector('#df-9f0b0f81-77b6-4bbd-91ba-9680623dc3ff button.colab-df-convert');\n",
              "        buttonEl.style.display =\n",
              "          google.colab.kernel.accessAllowed ? 'block' : 'none';\n",
              "\n",
              "        async function convertToInteractive(key) {\n",
              "          const element = document.querySelector('#df-9f0b0f81-77b6-4bbd-91ba-9680623dc3ff');\n",
              "          const dataTable =\n",
              "            await google.colab.kernel.invokeFunction('convertToInteractive',\n",
              "                                                     [key], {});\n",
              "          if (!dataTable) return;\n",
              "\n",
              "          const docLinkHtml = 'Like what you see? Visit the ' +\n",
              "            '<a target=\"_blank\" href=https://colab.research.google.com/notebooks/data_table.ipynb>data table notebook</a>'\n",
              "            + ' to learn more about interactive tables.';\n",
              "          element.innerHTML = '';\n",
              "          dataTable['output_type'] = 'display_data';\n",
              "          await google.colab.output.renderOutput(dataTable, element);\n",
              "          const docLink = document.createElement('div');\n",
              "          docLink.innerHTML = docLinkHtml;\n",
              "          element.appendChild(docLink);\n",
              "        }\n",
              "      </script>\n",
              "    </div>\n",
              "  </div>\n",
              "  "
            ]
          },
          "metadata": {},
          "execution_count": 26
        }
      ],
      "source": [
        "X_train.head()"
      ]
    },
    {
      "cell_type": "code",
      "execution_count": null,
      "metadata": {
        "id": "6f3JCVj3ouWj"
      },
      "outputs": [],
      "source": [
        "# Ordinal encoding\n",
        "from sklearn.preprocessing import OrdinalEncoder\n",
        "\n",
        "categories = ['gender']\n",
        "enc_oe = OrdinalEncoder()\n",
        "enc_oe.fit(X_train[categories])\n",
        "\n",
        "X_train[categories] = enc_oe.transform(X_train[categories])\n",
        "X_test[categories] = enc_oe.transform(X_test[categories])"
      ]
    },
    {
      "cell_type": "code",
      "execution_count": null,
      "metadata": {
        "colab": {
          "base_uri": "https://localhost:8080/",
          "height": 300
        },
        "id": "qFaSPAc7sP8W",
        "outputId": "2699e735-9298-4cb1-c60d-2fa7b764b07a"
      },
      "outputs": [
        {
          "output_type": "execute_result",
          "data": {
            "text/plain": [
              "   bd  gender  registration_init_time    num_25    num_50    num_75   num_985  \\\n",
              "0  24     1.0                    1674  3.500000  2.041667  1.166667  1.750000   \n",
              "1  23     0.0                     433  2.064516  0.516129  0.387097  0.322581   \n",
              "2  29     1.0                    2467  1.761905  0.857143  0.619048  1.619048   \n",
              "3  32     0.0                     302  8.000000  1.000000  0.166667  0.333333   \n",
              "4  24     0.0                    2211  3.133333  0.366667  0.300000  0.433333   \n",
              "\n",
              "     num_100    num_unq   total_secs  ...  payment_method_id_32  \\\n",
              "0   9.166667  15.000000  3143.889458  ...                   0.0   \n",
              "1  31.774194  26.612903  8383.540935  ...                   0.0   \n",
              "2   8.333333  12.000000  2733.655952  ...                   0.0   \n",
              "3   7.000000  13.833333  1793.776667  ...                   0.0   \n",
              "4  14.166667  13.366667  3781.284033  ...                   0.0   \n",
              "\n",
              "   payment_method_id_33  payment_method_id_34  payment_method_id_35  \\\n",
              "0                   0.0                   0.0                   0.0   \n",
              "1                   0.0                   0.0                   0.0   \n",
              "2                   0.0                   0.0                   0.0   \n",
              "3                   0.0                   0.0                   0.0   \n",
              "4                   0.0                   0.0                   0.0   \n",
              "\n",
              "   payment_method_id_36  payment_method_id_37  payment_method_id_38  \\\n",
              "0                   0.0                   1.0                   0.0   \n",
              "1                   1.0                   0.0                   0.0   \n",
              "2                   0.0                   1.0                   0.0   \n",
              "3                   0.0                   0.0                   0.0   \n",
              "4                   0.0                   0.0                   0.0   \n",
              "\n",
              "   payment_method_id_39  payment_method_id_40  payment_method_id_41  \n",
              "0                   0.0                   0.0                   0.0  \n",
              "1                   0.0                   0.0                   0.0  \n",
              "2                   0.0                   0.0                   0.0  \n",
              "3                   0.0                   0.0                   1.0  \n",
              "4                   0.0                   0.0                   1.0  \n",
              "\n",
              "[5 rows x 76 columns]"
            ],
            "text/html": [
              "\n",
              "  <div id=\"df-9fadc52d-e657-4fa8-961f-41d03558dadf\">\n",
              "    <div class=\"colab-df-container\">\n",
              "      <div>\n",
              "<style scoped>\n",
              "    .dataframe tbody tr th:only-of-type {\n",
              "        vertical-align: middle;\n",
              "    }\n",
              "\n",
              "    .dataframe tbody tr th {\n",
              "        vertical-align: top;\n",
              "    }\n",
              "\n",
              "    .dataframe thead th {\n",
              "        text-align: right;\n",
              "    }\n",
              "</style>\n",
              "<table border=\"1\" class=\"dataframe\">\n",
              "  <thead>\n",
              "    <tr style=\"text-align: right;\">\n",
              "      <th></th>\n",
              "      <th>bd</th>\n",
              "      <th>gender</th>\n",
              "      <th>registration_init_time</th>\n",
              "      <th>num_25</th>\n",
              "      <th>num_50</th>\n",
              "      <th>num_75</th>\n",
              "      <th>num_985</th>\n",
              "      <th>num_100</th>\n",
              "      <th>num_unq</th>\n",
              "      <th>total_secs</th>\n",
              "      <th>...</th>\n",
              "      <th>payment_method_id_32</th>\n",
              "      <th>payment_method_id_33</th>\n",
              "      <th>payment_method_id_34</th>\n",
              "      <th>payment_method_id_35</th>\n",
              "      <th>payment_method_id_36</th>\n",
              "      <th>payment_method_id_37</th>\n",
              "      <th>payment_method_id_38</th>\n",
              "      <th>payment_method_id_39</th>\n",
              "      <th>payment_method_id_40</th>\n",
              "      <th>payment_method_id_41</th>\n",
              "    </tr>\n",
              "  </thead>\n",
              "  <tbody>\n",
              "    <tr>\n",
              "      <th>0</th>\n",
              "      <td>24</td>\n",
              "      <td>1.0</td>\n",
              "      <td>1674</td>\n",
              "      <td>3.500000</td>\n",
              "      <td>2.041667</td>\n",
              "      <td>1.166667</td>\n",
              "      <td>1.750000</td>\n",
              "      <td>9.166667</td>\n",
              "      <td>15.000000</td>\n",
              "      <td>3143.889458</td>\n",
              "      <td>...</td>\n",
              "      <td>0.0</td>\n",
              "      <td>0.0</td>\n",
              "      <td>0.0</td>\n",
              "      <td>0.0</td>\n",
              "      <td>0.0</td>\n",
              "      <td>1.0</td>\n",
              "      <td>0.0</td>\n",
              "      <td>0.0</td>\n",
              "      <td>0.0</td>\n",
              "      <td>0.0</td>\n",
              "    </tr>\n",
              "    <tr>\n",
              "      <th>1</th>\n",
              "      <td>23</td>\n",
              "      <td>0.0</td>\n",
              "      <td>433</td>\n",
              "      <td>2.064516</td>\n",
              "      <td>0.516129</td>\n",
              "      <td>0.387097</td>\n",
              "      <td>0.322581</td>\n",
              "      <td>31.774194</td>\n",
              "      <td>26.612903</td>\n",
              "      <td>8383.540935</td>\n",
              "      <td>...</td>\n",
              "      <td>0.0</td>\n",
              "      <td>0.0</td>\n",
              "      <td>0.0</td>\n",
              "      <td>0.0</td>\n",
              "      <td>1.0</td>\n",
              "      <td>0.0</td>\n",
              "      <td>0.0</td>\n",
              "      <td>0.0</td>\n",
              "      <td>0.0</td>\n",
              "      <td>0.0</td>\n",
              "    </tr>\n",
              "    <tr>\n",
              "      <th>2</th>\n",
              "      <td>29</td>\n",
              "      <td>1.0</td>\n",
              "      <td>2467</td>\n",
              "      <td>1.761905</td>\n",
              "      <td>0.857143</td>\n",
              "      <td>0.619048</td>\n",
              "      <td>1.619048</td>\n",
              "      <td>8.333333</td>\n",
              "      <td>12.000000</td>\n",
              "      <td>2733.655952</td>\n",
              "      <td>...</td>\n",
              "      <td>0.0</td>\n",
              "      <td>0.0</td>\n",
              "      <td>0.0</td>\n",
              "      <td>0.0</td>\n",
              "      <td>0.0</td>\n",
              "      <td>1.0</td>\n",
              "      <td>0.0</td>\n",
              "      <td>0.0</td>\n",
              "      <td>0.0</td>\n",
              "      <td>0.0</td>\n",
              "    </tr>\n",
              "    <tr>\n",
              "      <th>3</th>\n",
              "      <td>32</td>\n",
              "      <td>0.0</td>\n",
              "      <td>302</td>\n",
              "      <td>8.000000</td>\n",
              "      <td>1.000000</td>\n",
              "      <td>0.166667</td>\n",
              "      <td>0.333333</td>\n",
              "      <td>7.000000</td>\n",
              "      <td>13.833333</td>\n",
              "      <td>1793.776667</td>\n",
              "      <td>...</td>\n",
              "      <td>0.0</td>\n",
              "      <td>0.0</td>\n",
              "      <td>0.0</td>\n",
              "      <td>0.0</td>\n",
              "      <td>0.0</td>\n",
              "      <td>0.0</td>\n",
              "      <td>0.0</td>\n",
              "      <td>0.0</td>\n",
              "      <td>0.0</td>\n",
              "      <td>1.0</td>\n",
              "    </tr>\n",
              "    <tr>\n",
              "      <th>4</th>\n",
              "      <td>24</td>\n",
              "      <td>0.0</td>\n",
              "      <td>2211</td>\n",
              "      <td>3.133333</td>\n",
              "      <td>0.366667</td>\n",
              "      <td>0.300000</td>\n",
              "      <td>0.433333</td>\n",
              "      <td>14.166667</td>\n",
              "      <td>13.366667</td>\n",
              "      <td>3781.284033</td>\n",
              "      <td>...</td>\n",
              "      <td>0.0</td>\n",
              "      <td>0.0</td>\n",
              "      <td>0.0</td>\n",
              "      <td>0.0</td>\n",
              "      <td>0.0</td>\n",
              "      <td>0.0</td>\n",
              "      <td>0.0</td>\n",
              "      <td>0.0</td>\n",
              "      <td>0.0</td>\n",
              "      <td>1.0</td>\n",
              "    </tr>\n",
              "  </tbody>\n",
              "</table>\n",
              "<p>5 rows × 76 columns</p>\n",
              "</div>\n",
              "      <button class=\"colab-df-convert\" onclick=\"convertToInteractive('df-9fadc52d-e657-4fa8-961f-41d03558dadf')\"\n",
              "              title=\"Convert this dataframe to an interactive table.\"\n",
              "              style=\"display:none;\">\n",
              "        \n",
              "  <svg xmlns=\"http://www.w3.org/2000/svg\" height=\"24px\"viewBox=\"0 0 24 24\"\n",
              "       width=\"24px\">\n",
              "    <path d=\"M0 0h24v24H0V0z\" fill=\"none\"/>\n",
              "    <path d=\"M18.56 5.44l.94 2.06.94-2.06 2.06-.94-2.06-.94-.94-2.06-.94 2.06-2.06.94zm-11 1L8.5 8.5l.94-2.06 2.06-.94-2.06-.94L8.5 2.5l-.94 2.06-2.06.94zm10 10l.94 2.06.94-2.06 2.06-.94-2.06-.94-.94-2.06-.94 2.06-2.06.94z\"/><path d=\"M17.41 7.96l-1.37-1.37c-.4-.4-.92-.59-1.43-.59-.52 0-1.04.2-1.43.59L10.3 9.45l-7.72 7.72c-.78.78-.78 2.05 0 2.83L4 21.41c.39.39.9.59 1.41.59.51 0 1.02-.2 1.41-.59l7.78-7.78 2.81-2.81c.8-.78.8-2.07 0-2.86zM5.41 20L4 18.59l7.72-7.72 1.47 1.35L5.41 20z\"/>\n",
              "  </svg>\n",
              "      </button>\n",
              "      \n",
              "  <style>\n",
              "    .colab-df-container {\n",
              "      display:flex;\n",
              "      flex-wrap:wrap;\n",
              "      gap: 12px;\n",
              "    }\n",
              "\n",
              "    .colab-df-convert {\n",
              "      background-color: #E8F0FE;\n",
              "      border: none;\n",
              "      border-radius: 50%;\n",
              "      cursor: pointer;\n",
              "      display: none;\n",
              "      fill: #1967D2;\n",
              "      height: 32px;\n",
              "      padding: 0 0 0 0;\n",
              "      width: 32px;\n",
              "    }\n",
              "\n",
              "    .colab-df-convert:hover {\n",
              "      background-color: #E2EBFA;\n",
              "      box-shadow: 0px 1px 2px rgba(60, 64, 67, 0.3), 0px 1px 3px 1px rgba(60, 64, 67, 0.15);\n",
              "      fill: #174EA6;\n",
              "    }\n",
              "\n",
              "    [theme=dark] .colab-df-convert {\n",
              "      background-color: #3B4455;\n",
              "      fill: #D2E3FC;\n",
              "    }\n",
              "\n",
              "    [theme=dark] .colab-df-convert:hover {\n",
              "      background-color: #434B5C;\n",
              "      box-shadow: 0px 1px 3px 1px rgba(0, 0, 0, 0.15);\n",
              "      filter: drop-shadow(0px 1px 2px rgba(0, 0, 0, 0.3));\n",
              "      fill: #FFFFFF;\n",
              "    }\n",
              "  </style>\n",
              "\n",
              "      <script>\n",
              "        const buttonEl =\n",
              "          document.querySelector('#df-9fadc52d-e657-4fa8-961f-41d03558dadf button.colab-df-convert');\n",
              "        buttonEl.style.display =\n",
              "          google.colab.kernel.accessAllowed ? 'block' : 'none';\n",
              "\n",
              "        async function convertToInteractive(key) {\n",
              "          const element = document.querySelector('#df-9fadc52d-e657-4fa8-961f-41d03558dadf');\n",
              "          const dataTable =\n",
              "            await google.colab.kernel.invokeFunction('convertToInteractive',\n",
              "                                                     [key], {});\n",
              "          if (!dataTable) return;\n",
              "\n",
              "          const docLinkHtml = 'Like what you see? Visit the ' +\n",
              "            '<a target=\"_blank\" href=https://colab.research.google.com/notebooks/data_table.ipynb>data table notebook</a>'\n",
              "            + ' to learn more about interactive tables.';\n",
              "          element.innerHTML = '';\n",
              "          dataTable['output_type'] = 'display_data';\n",
              "          await google.colab.output.renderOutput(dataTable, element);\n",
              "          const docLink = document.createElement('div');\n",
              "          docLink.innerHTML = docLinkHtml;\n",
              "          element.appendChild(docLink);\n",
              "        }\n",
              "      </script>\n",
              "    </div>\n",
              "  </div>\n",
              "  "
            ]
          },
          "metadata": {},
          "execution_count": 28
        }
      ],
      "source": [
        "X_train.head()"
      ]
    },
    {
      "cell_type": "code",
      "execution_count": null,
      "metadata": {
        "id": "jXvnvLQXGHP-"
      },
      "outputs": [],
      "source": [
        "# deal with outliers in \"age\"\n",
        "X_train['bd'] = np.where(X_train['bd'] < 10, 10, X_train['bd'])\n",
        "X_train['bd'] = np.where(X_train['bd'] > 100, 100, X_train['bd'])"
      ]
    },
    {
      "cell_type": "code",
      "execution_count": null,
      "metadata": {
        "id": "x58DfQ8KGHP-",
        "outputId": "bbfb7269-3ff7-4901-ca31-93fe32d2f5f9",
        "colab": {
          "base_uri": "https://localhost:8080/",
          "height": 300
        }
      },
      "outputs": [
        {
          "output_type": "execute_result",
          "data": {
            "text/plain": [
              "   bd  gender  registration_init_time    num_25    num_50    num_75   num_985  \\\n",
              "0  24     1.0                    1674  3.500000  2.041667  1.166667  1.750000   \n",
              "1  23     0.0                     433  2.064516  0.516129  0.387097  0.322581   \n",
              "2  29     1.0                    2467  1.761905  0.857143  0.619048  1.619048   \n",
              "3  32     0.0                     302  8.000000  1.000000  0.166667  0.333333   \n",
              "4  24     0.0                    2211  3.133333  0.366667  0.300000  0.433333   \n",
              "\n",
              "     num_100    num_unq   total_secs  ...  payment_method_id_32  \\\n",
              "0   9.166667  15.000000  3143.889458  ...                   0.0   \n",
              "1  31.774194  26.612903  8383.540935  ...                   0.0   \n",
              "2   8.333333  12.000000  2733.655952  ...                   0.0   \n",
              "3   7.000000  13.833333  1793.776667  ...                   0.0   \n",
              "4  14.166667  13.366667  3781.284033  ...                   0.0   \n",
              "\n",
              "   payment_method_id_33  payment_method_id_34  payment_method_id_35  \\\n",
              "0                   0.0                   0.0                   0.0   \n",
              "1                   0.0                   0.0                   0.0   \n",
              "2                   0.0                   0.0                   0.0   \n",
              "3                   0.0                   0.0                   0.0   \n",
              "4                   0.0                   0.0                   0.0   \n",
              "\n",
              "   payment_method_id_36  payment_method_id_37  payment_method_id_38  \\\n",
              "0                   0.0                   1.0                   0.0   \n",
              "1                   1.0                   0.0                   0.0   \n",
              "2                   0.0                   1.0                   0.0   \n",
              "3                   0.0                   0.0                   0.0   \n",
              "4                   0.0                   0.0                   0.0   \n",
              "\n",
              "   payment_method_id_39  payment_method_id_40  payment_method_id_41  \n",
              "0                   0.0                   0.0                   0.0  \n",
              "1                   0.0                   0.0                   0.0  \n",
              "2                   0.0                   0.0                   0.0  \n",
              "3                   0.0                   0.0                   1.0  \n",
              "4                   0.0                   0.0                   1.0  \n",
              "\n",
              "[5 rows x 76 columns]"
            ],
            "text/html": [
              "\n",
              "  <div id=\"df-c230e028-e460-49bd-af3d-4e9abf2f132b\">\n",
              "    <div class=\"colab-df-container\">\n",
              "      <div>\n",
              "<style scoped>\n",
              "    .dataframe tbody tr th:only-of-type {\n",
              "        vertical-align: middle;\n",
              "    }\n",
              "\n",
              "    .dataframe tbody tr th {\n",
              "        vertical-align: top;\n",
              "    }\n",
              "\n",
              "    .dataframe thead th {\n",
              "        text-align: right;\n",
              "    }\n",
              "</style>\n",
              "<table border=\"1\" class=\"dataframe\">\n",
              "  <thead>\n",
              "    <tr style=\"text-align: right;\">\n",
              "      <th></th>\n",
              "      <th>bd</th>\n",
              "      <th>gender</th>\n",
              "      <th>registration_init_time</th>\n",
              "      <th>num_25</th>\n",
              "      <th>num_50</th>\n",
              "      <th>num_75</th>\n",
              "      <th>num_985</th>\n",
              "      <th>num_100</th>\n",
              "      <th>num_unq</th>\n",
              "      <th>total_secs</th>\n",
              "      <th>...</th>\n",
              "      <th>payment_method_id_32</th>\n",
              "      <th>payment_method_id_33</th>\n",
              "      <th>payment_method_id_34</th>\n",
              "      <th>payment_method_id_35</th>\n",
              "      <th>payment_method_id_36</th>\n",
              "      <th>payment_method_id_37</th>\n",
              "      <th>payment_method_id_38</th>\n",
              "      <th>payment_method_id_39</th>\n",
              "      <th>payment_method_id_40</th>\n",
              "      <th>payment_method_id_41</th>\n",
              "    </tr>\n",
              "  </thead>\n",
              "  <tbody>\n",
              "    <tr>\n",
              "      <th>0</th>\n",
              "      <td>24</td>\n",
              "      <td>1.0</td>\n",
              "      <td>1674</td>\n",
              "      <td>3.500000</td>\n",
              "      <td>2.041667</td>\n",
              "      <td>1.166667</td>\n",
              "      <td>1.750000</td>\n",
              "      <td>9.166667</td>\n",
              "      <td>15.000000</td>\n",
              "      <td>3143.889458</td>\n",
              "      <td>...</td>\n",
              "      <td>0.0</td>\n",
              "      <td>0.0</td>\n",
              "      <td>0.0</td>\n",
              "      <td>0.0</td>\n",
              "      <td>0.0</td>\n",
              "      <td>1.0</td>\n",
              "      <td>0.0</td>\n",
              "      <td>0.0</td>\n",
              "      <td>0.0</td>\n",
              "      <td>0.0</td>\n",
              "    </tr>\n",
              "    <tr>\n",
              "      <th>1</th>\n",
              "      <td>23</td>\n",
              "      <td>0.0</td>\n",
              "      <td>433</td>\n",
              "      <td>2.064516</td>\n",
              "      <td>0.516129</td>\n",
              "      <td>0.387097</td>\n",
              "      <td>0.322581</td>\n",
              "      <td>31.774194</td>\n",
              "      <td>26.612903</td>\n",
              "      <td>8383.540935</td>\n",
              "      <td>...</td>\n",
              "      <td>0.0</td>\n",
              "      <td>0.0</td>\n",
              "      <td>0.0</td>\n",
              "      <td>0.0</td>\n",
              "      <td>1.0</td>\n",
              "      <td>0.0</td>\n",
              "      <td>0.0</td>\n",
              "      <td>0.0</td>\n",
              "      <td>0.0</td>\n",
              "      <td>0.0</td>\n",
              "    </tr>\n",
              "    <tr>\n",
              "      <th>2</th>\n",
              "      <td>29</td>\n",
              "      <td>1.0</td>\n",
              "      <td>2467</td>\n",
              "      <td>1.761905</td>\n",
              "      <td>0.857143</td>\n",
              "      <td>0.619048</td>\n",
              "      <td>1.619048</td>\n",
              "      <td>8.333333</td>\n",
              "      <td>12.000000</td>\n",
              "      <td>2733.655952</td>\n",
              "      <td>...</td>\n",
              "      <td>0.0</td>\n",
              "      <td>0.0</td>\n",
              "      <td>0.0</td>\n",
              "      <td>0.0</td>\n",
              "      <td>0.0</td>\n",
              "      <td>1.0</td>\n",
              "      <td>0.0</td>\n",
              "      <td>0.0</td>\n",
              "      <td>0.0</td>\n",
              "      <td>0.0</td>\n",
              "    </tr>\n",
              "    <tr>\n",
              "      <th>3</th>\n",
              "      <td>32</td>\n",
              "      <td>0.0</td>\n",
              "      <td>302</td>\n",
              "      <td>8.000000</td>\n",
              "      <td>1.000000</td>\n",
              "      <td>0.166667</td>\n",
              "      <td>0.333333</td>\n",
              "      <td>7.000000</td>\n",
              "      <td>13.833333</td>\n",
              "      <td>1793.776667</td>\n",
              "      <td>...</td>\n",
              "      <td>0.0</td>\n",
              "      <td>0.0</td>\n",
              "      <td>0.0</td>\n",
              "      <td>0.0</td>\n",
              "      <td>0.0</td>\n",
              "      <td>0.0</td>\n",
              "      <td>0.0</td>\n",
              "      <td>0.0</td>\n",
              "      <td>0.0</td>\n",
              "      <td>1.0</td>\n",
              "    </tr>\n",
              "    <tr>\n",
              "      <th>4</th>\n",
              "      <td>24</td>\n",
              "      <td>0.0</td>\n",
              "      <td>2211</td>\n",
              "      <td>3.133333</td>\n",
              "      <td>0.366667</td>\n",
              "      <td>0.300000</td>\n",
              "      <td>0.433333</td>\n",
              "      <td>14.166667</td>\n",
              "      <td>13.366667</td>\n",
              "      <td>3781.284033</td>\n",
              "      <td>...</td>\n",
              "      <td>0.0</td>\n",
              "      <td>0.0</td>\n",
              "      <td>0.0</td>\n",
              "      <td>0.0</td>\n",
              "      <td>0.0</td>\n",
              "      <td>0.0</td>\n",
              "      <td>0.0</td>\n",
              "      <td>0.0</td>\n",
              "      <td>0.0</td>\n",
              "      <td>1.0</td>\n",
              "    </tr>\n",
              "  </tbody>\n",
              "</table>\n",
              "<p>5 rows × 76 columns</p>\n",
              "</div>\n",
              "      <button class=\"colab-df-convert\" onclick=\"convertToInteractive('df-c230e028-e460-49bd-af3d-4e9abf2f132b')\"\n",
              "              title=\"Convert this dataframe to an interactive table.\"\n",
              "              style=\"display:none;\">\n",
              "        \n",
              "  <svg xmlns=\"http://www.w3.org/2000/svg\" height=\"24px\"viewBox=\"0 0 24 24\"\n",
              "       width=\"24px\">\n",
              "    <path d=\"M0 0h24v24H0V0z\" fill=\"none\"/>\n",
              "    <path d=\"M18.56 5.44l.94 2.06.94-2.06 2.06-.94-2.06-.94-.94-2.06-.94 2.06-2.06.94zm-11 1L8.5 8.5l.94-2.06 2.06-.94-2.06-.94L8.5 2.5l-.94 2.06-2.06.94zm10 10l.94 2.06.94-2.06 2.06-.94-2.06-.94-.94-2.06-.94 2.06-2.06.94z\"/><path d=\"M17.41 7.96l-1.37-1.37c-.4-.4-.92-.59-1.43-.59-.52 0-1.04.2-1.43.59L10.3 9.45l-7.72 7.72c-.78.78-.78 2.05 0 2.83L4 21.41c.39.39.9.59 1.41.59.51 0 1.02-.2 1.41-.59l7.78-7.78 2.81-2.81c.8-.78.8-2.07 0-2.86zM5.41 20L4 18.59l7.72-7.72 1.47 1.35L5.41 20z\"/>\n",
              "  </svg>\n",
              "      </button>\n",
              "      \n",
              "  <style>\n",
              "    .colab-df-container {\n",
              "      display:flex;\n",
              "      flex-wrap:wrap;\n",
              "      gap: 12px;\n",
              "    }\n",
              "\n",
              "    .colab-df-convert {\n",
              "      background-color: #E8F0FE;\n",
              "      border: none;\n",
              "      border-radius: 50%;\n",
              "      cursor: pointer;\n",
              "      display: none;\n",
              "      fill: #1967D2;\n",
              "      height: 32px;\n",
              "      padding: 0 0 0 0;\n",
              "      width: 32px;\n",
              "    }\n",
              "\n",
              "    .colab-df-convert:hover {\n",
              "      background-color: #E2EBFA;\n",
              "      box-shadow: 0px 1px 2px rgba(60, 64, 67, 0.3), 0px 1px 3px 1px rgba(60, 64, 67, 0.15);\n",
              "      fill: #174EA6;\n",
              "    }\n",
              "\n",
              "    [theme=dark] .colab-df-convert {\n",
              "      background-color: #3B4455;\n",
              "      fill: #D2E3FC;\n",
              "    }\n",
              "\n",
              "    [theme=dark] .colab-df-convert:hover {\n",
              "      background-color: #434B5C;\n",
              "      box-shadow: 0px 1px 3px 1px rgba(0, 0, 0, 0.15);\n",
              "      filter: drop-shadow(0px 1px 2px rgba(0, 0, 0, 0.3));\n",
              "      fill: #FFFFFF;\n",
              "    }\n",
              "  </style>\n",
              "\n",
              "      <script>\n",
              "        const buttonEl =\n",
              "          document.querySelector('#df-c230e028-e460-49bd-af3d-4e9abf2f132b button.colab-df-convert');\n",
              "        buttonEl.style.display =\n",
              "          google.colab.kernel.accessAllowed ? 'block' : 'none';\n",
              "\n",
              "        async function convertToInteractive(key) {\n",
              "          const element = document.querySelector('#df-c230e028-e460-49bd-af3d-4e9abf2f132b');\n",
              "          const dataTable =\n",
              "            await google.colab.kernel.invokeFunction('convertToInteractive',\n",
              "                                                     [key], {});\n",
              "          if (!dataTable) return;\n",
              "\n",
              "          const docLinkHtml = 'Like what you see? Visit the ' +\n",
              "            '<a target=\"_blank\" href=https://colab.research.google.com/notebooks/data_table.ipynb>data table notebook</a>'\n",
              "            + ' to learn more about interactive tables.';\n",
              "          element.innerHTML = '';\n",
              "          dataTable['output_type'] = 'display_data';\n",
              "          await google.colab.output.renderOutput(dataTable, element);\n",
              "          const docLink = document.createElement('div');\n",
              "          docLink.innerHTML = docLinkHtml;\n",
              "          element.appendChild(docLink);\n",
              "        }\n",
              "      </script>\n",
              "    </div>\n",
              "  </div>\n",
              "  "
            ]
          },
          "metadata": {},
          "execution_count": 30
        }
      ],
      "source": [
        "X_train.head()"
      ]
    },
    {
      "cell_type": "markdown",
      "metadata": {
        "id": "vecyDzf8eXgg"
      },
      "source": [
        "Standardize/Normalize Data"
      ]
    },
    {
      "cell_type": "code",
      "execution_count": null,
      "metadata": {
        "id": "JuPhtUkJi0NW"
      },
      "outputs": [],
      "source": [
        "# pay more attention to features with larger values, especially for the models that we have to compute the distance\n",
        "# such as linear regression, knn\n",
        "\n",
        "from sklearn.preprocessing import StandardScaler\n",
        "scaler = StandardScaler()\n",
        "scaler.fit(X_train[num_cols])\n",
        "X_train[num_cols] = scaler.transform(X_train[num_cols])\n",
        "X_test[num_cols] = scaler.transform(X_test[num_cols])"
      ]
    },
    {
      "cell_type": "code",
      "execution_count": null,
      "metadata": {
        "id": "gJpDG9jyGHP_",
        "outputId": "b9430ce3-c1c6-461f-b739-d146c0418391",
        "colab": {
          "base_uri": "https://localhost:8080/",
          "height": 300
        }
      },
      "outputs": [
        {
          "output_type": "execute_result",
          "data": {
            "text/plain": [
              "              bd  gender  registration_init_time    num_25    num_50  \\\n",
              "217373 -0.980460     0.0               -1.113004  0.400454  0.277835   \n",
              "156296 -0.664513     1.0                0.032884 -0.480995 -0.208665   \n",
              "81237   1.863065     0.0                0.292120 -0.340450 -0.291694   \n",
              "237406  0.072698     0.0               -1.419953 -0.667631 -0.208665   \n",
              "1378    1.125855     1.0                1.412561  2.556187  3.924271   \n",
              "\n",
              "          num_75   num_985   num_100   num_unq  total_secs  ...  \\\n",
              "217373  0.013947 -0.021846 -0.582135 -0.354202   -0.569127  ...   \n",
              "156296 -0.029472 -0.259338 -0.869749 -0.982261   -0.906089  ...   \n",
              "81237   0.060840 -0.057600 -0.458435 -0.445304   -0.485623  ...   \n",
              "237406 -0.897858 -0.604781 -0.671682 -0.784627   -0.758963  ...   \n",
              "1378    5.317307  1.105162  0.997875  1.912752    1.174666  ...   \n",
              "\n",
              "        payment_method_id_32  payment_method_id_33  payment_method_id_34  \\\n",
              "217373                   0.0                   0.0                   0.0   \n",
              "156296                   0.0                   0.0                   0.0   \n",
              "81237                    0.0                   0.0                   0.0   \n",
              "237406                   0.0                   0.0                   0.0   \n",
              "1378                     0.0                   0.0                   0.0   \n",
              "\n",
              "        payment_method_id_35  payment_method_id_36  payment_method_id_37  \\\n",
              "217373                   0.0                   0.0                   0.0   \n",
              "156296                   0.0                   1.0                   0.0   \n",
              "81237                    0.0                   0.0                   0.0   \n",
              "237406                   0.0                   0.0                   0.0   \n",
              "1378                     0.0                   0.0                   0.0   \n",
              "\n",
              "        payment_method_id_38  payment_method_id_39  payment_method_id_40  \\\n",
              "217373                   0.0                   0.0                   0.0   \n",
              "156296                   0.0                   0.0                   0.0   \n",
              "81237                    0.0                   1.0                   0.0   \n",
              "237406                   0.0                   0.0                   0.0   \n",
              "1378                     0.0                   1.0                   0.0   \n",
              "\n",
              "        payment_method_id_41  \n",
              "217373                   1.0  \n",
              "156296                   0.0  \n",
              "81237                    0.0  \n",
              "237406                   1.0  \n",
              "1378                     0.0  \n",
              "\n",
              "[5 rows x 76 columns]"
            ],
            "text/html": [
              "\n",
              "  <div id=\"df-44e1e5a1-75ac-4489-9127-74f598c29ba1\">\n",
              "    <div class=\"colab-df-container\">\n",
              "      <div>\n",
              "<style scoped>\n",
              "    .dataframe tbody tr th:only-of-type {\n",
              "        vertical-align: middle;\n",
              "    }\n",
              "\n",
              "    .dataframe tbody tr th {\n",
              "        vertical-align: top;\n",
              "    }\n",
              "\n",
              "    .dataframe thead th {\n",
              "        text-align: right;\n",
              "    }\n",
              "</style>\n",
              "<table border=\"1\" class=\"dataframe\">\n",
              "  <thead>\n",
              "    <tr style=\"text-align: right;\">\n",
              "      <th></th>\n",
              "      <th>bd</th>\n",
              "      <th>gender</th>\n",
              "      <th>registration_init_time</th>\n",
              "      <th>num_25</th>\n",
              "      <th>num_50</th>\n",
              "      <th>num_75</th>\n",
              "      <th>num_985</th>\n",
              "      <th>num_100</th>\n",
              "      <th>num_unq</th>\n",
              "      <th>total_secs</th>\n",
              "      <th>...</th>\n",
              "      <th>payment_method_id_32</th>\n",
              "      <th>payment_method_id_33</th>\n",
              "      <th>payment_method_id_34</th>\n",
              "      <th>payment_method_id_35</th>\n",
              "      <th>payment_method_id_36</th>\n",
              "      <th>payment_method_id_37</th>\n",
              "      <th>payment_method_id_38</th>\n",
              "      <th>payment_method_id_39</th>\n",
              "      <th>payment_method_id_40</th>\n",
              "      <th>payment_method_id_41</th>\n",
              "    </tr>\n",
              "  </thead>\n",
              "  <tbody>\n",
              "    <tr>\n",
              "      <th>217373</th>\n",
              "      <td>-0.980460</td>\n",
              "      <td>0.0</td>\n",
              "      <td>-1.113004</td>\n",
              "      <td>0.400454</td>\n",
              "      <td>0.277835</td>\n",
              "      <td>0.013947</td>\n",
              "      <td>-0.021846</td>\n",
              "      <td>-0.582135</td>\n",
              "      <td>-0.354202</td>\n",
              "      <td>-0.569127</td>\n",
              "      <td>...</td>\n",
              "      <td>0.0</td>\n",
              "      <td>0.0</td>\n",
              "      <td>0.0</td>\n",
              "      <td>0.0</td>\n",
              "      <td>0.0</td>\n",
              "      <td>0.0</td>\n",
              "      <td>0.0</td>\n",
              "      <td>0.0</td>\n",
              "      <td>0.0</td>\n",
              "      <td>1.0</td>\n",
              "    </tr>\n",
              "    <tr>\n",
              "      <th>156296</th>\n",
              "      <td>-0.664513</td>\n",
              "      <td>1.0</td>\n",
              "      <td>0.032884</td>\n",
              "      <td>-0.480995</td>\n",
              "      <td>-0.208665</td>\n",
              "      <td>-0.029472</td>\n",
              "      <td>-0.259338</td>\n",
              "      <td>-0.869749</td>\n",
              "      <td>-0.982261</td>\n",
              "      <td>-0.906089</td>\n",
              "      <td>...</td>\n",
              "      <td>0.0</td>\n",
              "      <td>0.0</td>\n",
              "      <td>0.0</td>\n",
              "      <td>0.0</td>\n",
              "      <td>1.0</td>\n",
              "      <td>0.0</td>\n",
              "      <td>0.0</td>\n",
              "      <td>0.0</td>\n",
              "      <td>0.0</td>\n",
              "      <td>0.0</td>\n",
              "    </tr>\n",
              "    <tr>\n",
              "      <th>81237</th>\n",
              "      <td>1.863065</td>\n",
              "      <td>0.0</td>\n",
              "      <td>0.292120</td>\n",
              "      <td>-0.340450</td>\n",
              "      <td>-0.291694</td>\n",
              "      <td>0.060840</td>\n",
              "      <td>-0.057600</td>\n",
              "      <td>-0.458435</td>\n",
              "      <td>-0.445304</td>\n",
              "      <td>-0.485623</td>\n",
              "      <td>...</td>\n",
              "      <td>0.0</td>\n",
              "      <td>0.0</td>\n",
              "      <td>0.0</td>\n",
              "      <td>0.0</td>\n",
              "      <td>0.0</td>\n",
              "      <td>0.0</td>\n",
              "      <td>0.0</td>\n",
              "      <td>1.0</td>\n",
              "      <td>0.0</td>\n",
              "      <td>0.0</td>\n",
              "    </tr>\n",
              "    <tr>\n",
              "      <th>237406</th>\n",
              "      <td>0.072698</td>\n",
              "      <td>0.0</td>\n",
              "      <td>-1.419953</td>\n",
              "      <td>-0.667631</td>\n",
              "      <td>-0.208665</td>\n",
              "      <td>-0.897858</td>\n",
              "      <td>-0.604781</td>\n",
              "      <td>-0.671682</td>\n",
              "      <td>-0.784627</td>\n",
              "      <td>-0.758963</td>\n",
              "      <td>...</td>\n",
              "      <td>0.0</td>\n",
              "      <td>0.0</td>\n",
              "      <td>0.0</td>\n",
              "      <td>0.0</td>\n",
              "      <td>0.0</td>\n",
              "      <td>0.0</td>\n",
              "      <td>0.0</td>\n",
              "      <td>0.0</td>\n",
              "      <td>0.0</td>\n",
              "      <td>1.0</td>\n",
              "    </tr>\n",
              "    <tr>\n",
              "      <th>1378</th>\n",
              "      <td>1.125855</td>\n",
              "      <td>1.0</td>\n",
              "      <td>1.412561</td>\n",
              "      <td>2.556187</td>\n",
              "      <td>3.924271</td>\n",
              "      <td>5.317307</td>\n",
              "      <td>1.105162</td>\n",
              "      <td>0.997875</td>\n",
              "      <td>1.912752</td>\n",
              "      <td>1.174666</td>\n",
              "      <td>...</td>\n",
              "      <td>0.0</td>\n",
              "      <td>0.0</td>\n",
              "      <td>0.0</td>\n",
              "      <td>0.0</td>\n",
              "      <td>0.0</td>\n",
              "      <td>0.0</td>\n",
              "      <td>0.0</td>\n",
              "      <td>1.0</td>\n",
              "      <td>0.0</td>\n",
              "      <td>0.0</td>\n",
              "    </tr>\n",
              "  </tbody>\n",
              "</table>\n",
              "<p>5 rows × 76 columns</p>\n",
              "</div>\n",
              "      <button class=\"colab-df-convert\" onclick=\"convertToInteractive('df-44e1e5a1-75ac-4489-9127-74f598c29ba1')\"\n",
              "              title=\"Convert this dataframe to an interactive table.\"\n",
              "              style=\"display:none;\">\n",
              "        \n",
              "  <svg xmlns=\"http://www.w3.org/2000/svg\" height=\"24px\"viewBox=\"0 0 24 24\"\n",
              "       width=\"24px\">\n",
              "    <path d=\"M0 0h24v24H0V0z\" fill=\"none\"/>\n",
              "    <path d=\"M18.56 5.44l.94 2.06.94-2.06 2.06-.94-2.06-.94-.94-2.06-.94 2.06-2.06.94zm-11 1L8.5 8.5l.94-2.06 2.06-.94-2.06-.94L8.5 2.5l-.94 2.06-2.06.94zm10 10l.94 2.06.94-2.06 2.06-.94-2.06-.94-.94-2.06-.94 2.06-2.06.94z\"/><path d=\"M17.41 7.96l-1.37-1.37c-.4-.4-.92-.59-1.43-.59-.52 0-1.04.2-1.43.59L10.3 9.45l-7.72 7.72c-.78.78-.78 2.05 0 2.83L4 21.41c.39.39.9.59 1.41.59.51 0 1.02-.2 1.41-.59l7.78-7.78 2.81-2.81c.8-.78.8-2.07 0-2.86zM5.41 20L4 18.59l7.72-7.72 1.47 1.35L5.41 20z\"/>\n",
              "  </svg>\n",
              "      </button>\n",
              "      \n",
              "  <style>\n",
              "    .colab-df-container {\n",
              "      display:flex;\n",
              "      flex-wrap:wrap;\n",
              "      gap: 12px;\n",
              "    }\n",
              "\n",
              "    .colab-df-convert {\n",
              "      background-color: #E8F0FE;\n",
              "      border: none;\n",
              "      border-radius: 50%;\n",
              "      cursor: pointer;\n",
              "      display: none;\n",
              "      fill: #1967D2;\n",
              "      height: 32px;\n",
              "      padding: 0 0 0 0;\n",
              "      width: 32px;\n",
              "    }\n",
              "\n",
              "    .colab-df-convert:hover {\n",
              "      background-color: #E2EBFA;\n",
              "      box-shadow: 0px 1px 2px rgba(60, 64, 67, 0.3), 0px 1px 3px 1px rgba(60, 64, 67, 0.15);\n",
              "      fill: #174EA6;\n",
              "    }\n",
              "\n",
              "    [theme=dark] .colab-df-convert {\n",
              "      background-color: #3B4455;\n",
              "      fill: #D2E3FC;\n",
              "    }\n",
              "\n",
              "    [theme=dark] .colab-df-convert:hover {\n",
              "      background-color: #434B5C;\n",
              "      box-shadow: 0px 1px 3px 1px rgba(0, 0, 0, 0.15);\n",
              "      filter: drop-shadow(0px 1px 2px rgba(0, 0, 0, 0.3));\n",
              "      fill: #FFFFFF;\n",
              "    }\n",
              "  </style>\n",
              "\n",
              "      <script>\n",
              "        const buttonEl =\n",
              "          document.querySelector('#df-44e1e5a1-75ac-4489-9127-74f598c29ba1 button.colab-df-convert');\n",
              "        buttonEl.style.display =\n",
              "          google.colab.kernel.accessAllowed ? 'block' : 'none';\n",
              "\n",
              "        async function convertToInteractive(key) {\n",
              "          const element = document.querySelector('#df-44e1e5a1-75ac-4489-9127-74f598c29ba1');\n",
              "          const dataTable =\n",
              "            await google.colab.kernel.invokeFunction('convertToInteractive',\n",
              "                                                     [key], {});\n",
              "          if (!dataTable) return;\n",
              "\n",
              "          const docLinkHtml = 'Like what you see? Visit the ' +\n",
              "            '<a target=\"_blank\" href=https://colab.research.google.com/notebooks/data_table.ipynb>data table notebook</a>'\n",
              "            + ' to learn more about interactive tables.';\n",
              "          element.innerHTML = '';\n",
              "          dataTable['output_type'] = 'display_data';\n",
              "          await google.colab.output.renderOutput(dataTable, element);\n",
              "          const docLink = document.createElement('div');\n",
              "          docLink.innerHTML = docLinkHtml;\n",
              "          element.appendChild(docLink);\n",
              "        }\n",
              "      </script>\n",
              "    </div>\n",
              "  </div>\n",
              "  "
            ]
          },
          "metadata": {},
          "execution_count": 33
        }
      ],
      "source": [
        "X_train.sample(5)"
      ]
    },
    {
      "cell_type": "code",
      "execution_count": null,
      "metadata": {
        "colab": {
          "base_uri": "https://localhost:8080/"
        },
        "id": "Mw-pETkWGHQA",
        "outputId": "5c19a70d-f11e-4a34-969a-c646881a7a6f"
      },
      "outputs": [
        {
          "output_type": "execute_result",
          "data": {
            "text/plain": [
              "0    303999\n",
              "1     29598\n",
              "Name: is_churn, dtype: int64"
            ]
          },
          "metadata": {},
          "execution_count": 35
        }
      ],
      "source": [
        "# check imbalanced data\n",
        "y_train.value_counts()"
      ]
    },
    {
      "cell_type": "code",
      "execution_count": null,
      "metadata": {
        "colab": {
          "base_uri": "https://localhost:8080/"
        },
        "id": "0YrAtLXUGHQA",
        "outputId": "0d8c727b-1821-4828-87d5-a870c96e5cbc"
      },
      "outputs": [
        {
          "output_type": "execute_result",
          "data": {
            "text/plain": [
              "0    86854\n",
              "1    30399\n",
              "Name: is_churn, dtype: int64"
            ]
          },
          "metadata": {},
          "execution_count": 36
        }
      ],
      "source": [
        "from imblearn.over_sampling import SMOTE\n",
        "from imblearn.under_sampling import RandomUnderSampler\n",
        "from imblearn.pipeline import Pipeline\n",
        "over = SMOTE(sampling_strategy=0.1)\n",
        "under = RandomUnderSampler(sampling_strategy=0.35)\n",
        "steps = [('o', over), ('u', under)]\n",
        "pipeline = Pipeline(steps=steps)\n",
        "X_train, y_train = pipeline.fit_resample(X_train, y_train)\n",
        "y_train.value_counts()"
      ]
    },
    {
      "cell_type": "markdown",
      "metadata": {
        "id": "q3x9ySX_i0Nd"
      },
      "source": [
        "# Part 3: Model Training and Result Evaluation"
      ]
    },
    {
      "cell_type": "markdown",
      "metadata": {
        "id": "c4UTtCQTi0Nl"
      },
      "source": [
        "### Part 3.1: Model Training"
      ]
    },
    {
      "cell_type": "code",
      "execution_count": null,
      "metadata": {
        "id": "EAhSxINLi0Nl"
      },
      "outputs": [],
      "source": [
        "#@title build models\n",
        "from sklearn.ensemble import RandomForestClassifier\n",
        "from sklearn.neighbors import KNeighborsClassifier \n",
        "from sklearn.linear_model import LogisticRegression\n",
        "\n",
        "# Logistic Regression\n",
        "classifier_logistic = LogisticRegression(max_iter=500)\n",
        "\n",
        "# K Nearest Neighbors\n",
        "classifier_KNN = KNeighborsClassifier()\n",
        "\n",
        "# Random Forest\n",
        "classifier_RF = RandomForestClassifier()"
      ]
    },
    {
      "cell_type": "code",
      "execution_count": null,
      "metadata": {
        "colab": {
          "base_uri": "https://localhost:8080/"
        },
        "id": "Av0IRSoBQ3pe",
        "outputId": "b75156be-997e-4dbd-e677-08ad56cbf4cd"
      },
      "outputs": [
        {
          "output_type": "execute_result",
          "data": {
            "text/plain": [
              "LogisticRegression(max_iter=500)"
            ]
          },
          "metadata": {},
          "execution_count": 38
        }
      ],
      "source": [
        "# Train the model\n",
        "classifier_logistic.fit(X_train, y_train)"
      ]
    },
    {
      "cell_type": "code",
      "execution_count": null,
      "metadata": {
        "colab": {
          "base_uri": "https://localhost:8080/"
        },
        "id": "EiLuzUDJRBNi",
        "outputId": "a7bb3c4e-bb4e-45f5-f2cd-a9470eb546c9"
      },
      "outputs": [
        {
          "output_type": "execute_result",
          "data": {
            "text/plain": [
              "array([0, 0, 0, ..., 0, 0, 0])"
            ]
          },
          "metadata": {},
          "execution_count": 39
        }
      ],
      "source": [
        "# Prediction of test data\n",
        "classifier_logistic.predict(X_test)"
      ]
    },
    {
      "cell_type": "code",
      "execution_count": null,
      "metadata": {
        "colab": {
          "base_uri": "https://localhost:8080/"
        },
        "id": "XjMV04mKRJ30",
        "outputId": "1f87f052-2c44-4a73-b165-4cb6d638595a"
      },
      "outputs": [
        {
          "output_type": "execute_result",
          "data": {
            "text/plain": [
              "0.9507656522581895"
            ]
          },
          "metadata": {},
          "execution_count": 40
        }
      ],
      "source": [
        "# Accuracy of test data\n",
        "classifier_logistic.score(X_test, y_test)"
      ]
    },
    {
      "cell_type": "code",
      "execution_count": null,
      "metadata": {
        "id": "1OCgNSNri0Nn",
        "scrolled": true
      },
      "outputs": [],
      "source": [
        "# Use 5-fold Cross Validation to get the accuracy for different models\n",
        "model_names = ['Logistic Regression','KNN','Random Forest']\n",
        "model_list = [classifier_logistic, classifier_KNN, classifier_RF]\n",
        "count = 0\n",
        "\n",
        "for classifier in model_list:\n",
        "    cv_score = model_selection.cross_val_score(classifier, X_train, y_train, cv=5)\n",
        "    print(cv_score)\n",
        "    print('Model accuracy of ' + model_names[count] + ' is ' + str(cv_score.mean()))\n",
        "    count += 1"
      ]
    },
    {
      "cell_type": "markdown",
      "metadata": {
        "id": "7J-23z78i0Ns"
      },
      "source": [
        "### Part 3.2: Use Grid Search to Find Optimal Hyperparameters\n",
        "alternative: random search"
      ]
    },
    {
      "cell_type": "code",
      "execution_count": null,
      "metadata": {
        "id": "Hpe9PEAAi0Nt"
      },
      "outputs": [],
      "source": [
        "from sklearn.model_selection import GridSearchCV\n",
        "\n",
        "# helper function for printing out grid search results \n",
        "def print_grid_search_metrics(gs):\n",
        "    print (\"Best score: \" + str(gs.best_score_))\n",
        "    print (\"Best parameters set:\")\n",
        "    best_parameters = gs.best_params_\n",
        "    for param_name in sorted(best_parameters.keys()):\n",
        "        print(param_name + ':' + str(best_parameters[param_name]))"
      ]
    },
    {
      "cell_type": "markdown",
      "metadata": {
        "id": "qvYo9I5Ti0Nv"
      },
      "source": [
        "### Part 3.2.1: Find Optimal Hyperparameters - LogisticRegression"
      ]
    },
    {
      "cell_type": "code",
      "execution_count": null,
      "metadata": {
        "colab": {
          "base_uri": "https://localhost:8080/"
        },
        "id": "wOc48syxi0Nx",
        "outputId": "efece51d-bdca-43a6-a547-8cf9fb94d10a",
        "scrolled": true
      },
      "outputs": [
        {
          "output_type": "execute_result",
          "data": {
            "text/plain": [
              "GridSearchCV(cv=5,\n",
              "             estimator=LogisticRegression(max_iter=500, solver='liblinear'),\n",
              "             param_grid={'C': (0.01, 0.05, 0.1, 0.2, 1),\n",
              "                         'penalty': ('l1', 'l2')})"
            ]
          },
          "metadata": {},
          "execution_count": 42
        }
      ],
      "source": [
        "# Possible hyperparamter options for Logistic Regression Regularization\n",
        "# Penalty is choosed from L1 or L2\n",
        "# C is the 1/lambda value(weight) for L1 and L2\n",
        "# solver: algorithm to find the weights that minimize the cost function\n",
        "\n",
        "# ('l1', 0.01)('l1', 0.05) ('l1', 0.1) ('l1', 0.2)('l1', 1)\n",
        "# ('12', 0.01)('l2', 0.05) ('l2', 0.1) ('l2', 0.2)('l2', 1)\n",
        "parameters = {\n",
        "    'penalty':('l1', 'l2'), \n",
        "    'C':(0.01, 0.05, 0.1, 0.2, 1)\n",
        "}\n",
        "Grid_LR = GridSearchCV(LogisticRegression(solver='liblinear', max_iter=500), parameters, cv=5)\n",
        "Grid_LR.fit(X_train, y_train)"
      ]
    },
    {
      "cell_type": "code",
      "execution_count": null,
      "metadata": {
        "colab": {
          "base_uri": "https://localhost:8080/"
        },
        "id": "nN5rU0e-i0N1",
        "outputId": "2766a360-3f27-4ece-f019-b5ae732db642"
      },
      "outputs": [
        {
          "output_type": "stream",
          "name": "stdout",
          "text": [
            "Best score: 0.9027146447626266\n",
            "Best parameters set:\n",
            "C:0.1\n",
            "penalty:l1\n"
          ]
        }
      ],
      "source": [
        "# the best hyperparameter combination\n",
        "# C = 1/lambda\n",
        "print_grid_search_metrics(Grid_LR)"
      ]
    },
    {
      "cell_type": "code",
      "execution_count": null,
      "metadata": {
        "id": "TtkDsXgui0N3"
      },
      "outputs": [],
      "source": [
        "# best model\n",
        "best_LR_model = Grid_LR.best_estimator_"
      ]
    },
    {
      "cell_type": "code",
      "execution_count": null,
      "metadata": {
        "colab": {
          "base_uri": "https://localhost:8080/"
        },
        "id": "epIrhEO3DimN",
        "outputId": "f0739b0d-a90e-4af9-d448-e8f935b64f9e"
      },
      "outputs": [
        {
          "data": {
            "text/plain": [
              "array([1, 0, 0, ..., 0, 0, 0])"
            ]
          },
          "execution_count": 231,
          "metadata": {},
          "output_type": "execute_result"
        }
      ],
      "source": [
        "best_LR_model.predict(X_test)"
      ]
    },
    {
      "cell_type": "code",
      "execution_count": null,
      "metadata": {
        "colab": {
          "base_uri": "https://localhost:8080/"
        },
        "id": "zF6EfOVaDZvH",
        "outputId": "4a51415b-6928-46bd-8327-01f943ce3d7f"
      },
      "outputs": [
        {
          "output_type": "execute_result",
          "data": {
            "text/plain": [
              "0.9506687342508238"
            ]
          },
          "metadata": {},
          "execution_count": 45
        }
      ],
      "source": [
        "best_LR_model.score(X_test, y_test)"
      ]
    },
    {
      "cell_type": "code",
      "execution_count": null,
      "metadata": {
        "id": "Z-AdQ5ucGHQE",
        "outputId": "9764d2aa-9e0b-48f4-fa47-51e39f2bc267"
      },
      "outputs": [
        {
          "data": {
            "text/plain": [
              "3.019438441189066"
            ]
          },
          "execution_count": 206,
          "metadata": {},
          "output_type": "execute_result"
        }
      ],
      "source": [
        "# membership_expire_date\n",
        "best_LR_model.coef_[0][15]"
      ]
    },
    {
      "cell_type": "code",
      "execution_count": null,
      "metadata": {
        "colab": {
          "base_uri": "https://localhost:8080/",
          "height": 280
        },
        "id": "Jy5hU5KymPT7",
        "outputId": "d4ef50a4-a5a8-45b5-e68f-994a0b792fb5"
      },
      "outputs": [
        {
          "output_type": "display_data",
          "data": {
            "text/plain": [
              "<Figure size 432x288 with 2 Axes>"
            ],
            "image/png": "[encoded data removed]"
          },
          "metadata": {
            "needs_background": "light"
          }
        }
      ],
      "source": [
        "LR_models = pd.DataFrame(Grid_LR.cv_results_)\n",
        "res = LR_models.pivot(index='param_penalty', columns='param_C', values='mean_test_score')\n",
        "# Return reshaped DataFrame organized by given index / column values\n",
        "_ = sns.heatmap(res, cmap='viridis')"
      ]
    },
    {
      "cell_type": "markdown",
      "metadata": {
        "id": "9u9YFedOi0N6"
      },
      "source": [
        "#### Part 3.2.2: Find Optimal Hyperparameters: KNN"
      ]
    },
    {
      "cell_type": "code",
      "execution_count": null,
      "metadata": {
        "colab": {
          "base_uri": "https://localhost:8080/"
        },
        "id": "o78422XVi0N6",
        "outputId": "60dcc913-f7b2-425c-a0d7-aeb657561144"
      },
      "outputs": [
        {
          "output_type": "execute_result",
          "data": {
            "text/plain": [
              "GridSearchCV(cv=5, estimator=KNeighborsClassifier(),\n",
              "             param_grid={'n_neighbors': [1, 3, 5, 7, 9]})"
            ]
          },
          "metadata": {},
          "execution_count": 47
        }
      ],
      "source": [
        "# Possible hyperparamter options for KNN\n",
        "# Choose k\n",
        "parameters = {\n",
        "    'n_neighbors':[1,3,5,7,9]\n",
        "}\n",
        "Grid_KNN = GridSearchCV(KNeighborsClassifier(),parameters, cv=5)\n",
        "Grid_KNN.fit(X_train, y_train)"
      ]
    },
    {
      "cell_type": "code",
      "execution_count": null,
      "metadata": {
        "colab": {
          "base_uri": "https://localhost:8080/"
        },
        "id": "ydaRZVAIi0N_",
        "outputId": "7d09ca34-7a70-4926-a688-d273a15fe64f",
        "scrolled": true
      },
      "outputs": [
        {
          "output_type": "stream",
          "name": "stdout",
          "text": [
            "Best score: 0.8829454303802177\n",
            "Best parameters set:\n",
            "n_neighbors:7\n"
          ]
        }
      ],
      "source": [
        "# best k\n",
        "print_grid_search_metrics(Grid_KNN)"
      ]
    },
    {
      "cell_type": "code",
      "execution_count": null,
      "metadata": {
        "id": "Nq_qfVpXUJcx"
      },
      "outputs": [],
      "source": [
        "best_KNN_model = Grid_KNN.best_estimator_"
      ]
    },
    {
      "cell_type": "markdown",
      "metadata": {
        "id": "nKn_oKLSi0OB"
      },
      "source": [
        "#### Part 3.2.3: Find Optimal Hyperparameters: Random Forest"
      ]
    },
    {
      "cell_type": "code",
      "execution_count": null,
      "metadata": {
        "colab": {
          "base_uri": "https://localhost:8080/"
        },
        "id": "NniAZIPfi0OC",
        "outputId": "967d1d34-3fd9-425d-ac33-72a235690ceb"
      },
      "outputs": [
        {
          "output_type": "execute_result",
          "data": {
            "text/plain": [
              "GridSearchCV(cv=5, estimator=RandomForestClassifier(),\n",
              "             param_grid={'max_depth': [20, 25, 30, 35],\n",
              "                         'n_estimators': [100, 200, 500]})"
            ]
          },
          "metadata": {},
          "execution_count": 51
        }
      ],
      "source": [
        "# Possible hyperparamter options for Random Forest\n",
        "# Choose the number of trees\n",
        "parameters = {\n",
        "    'n_estimators' : [100,200,500],\n",
        "    'max_depth': [20,25,30,35]\n",
        "}\n",
        "Grid_RF = GridSearchCV(RandomForestClassifier(),parameters, cv=5)\n",
        "Grid_RF.fit(X_train, y_train)"
      ]
    },
    {
      "cell_type": "code",
      "execution_count": null,
      "metadata": {
        "colab": {
          "base_uri": "https://localhost:8080/"
        },
        "id": "ScPiI-Bfi0OE",
        "outputId": "e9ba7fe1-41ab-44d9-ed75-a2878ff3709e",
        "scrolled": true
      },
      "outputs": [
        {
          "output_type": "stream",
          "name": "stdout",
          "text": [
            "Best score: 0.9449737110969213\n",
            "Best parameters set:\n",
            "max_depth:35\n",
            "n_estimators:500\n"
          ]
        }
      ],
      "source": [
        "# best number of tress\n",
        "print_grid_search_metrics(Grid_RF)"
      ]
    },
    {
      "cell_type": "code",
      "execution_count": null,
      "metadata": {
        "id": "xJgfri_Mi0OG"
      },
      "outputs": [],
      "source": [
        "# best random forest\n",
        "best_RF_model = Grid_RF.best_estimator_"
      ]
    },
    {
      "cell_type": "markdown",
      "metadata": {
        "id": "xxDAOrGIi0OI"
      },
      "source": [
        "#### Part 3.3: Model Evaluation - Confusion Matrix (Precision, Recall, Accuracy)\n",
        "\n",
        "class of interest as positive\n",
        "\n",
        "TP: correctly labeled real churn\n",
        "\n",
        "Precision(PPV, positive predictive value): tp / (tp + fp);\n",
        "Total number of true predictive churn divided by the total number of predictive churn;\n",
        "High Precision means low fp, not many return users were predicted as churn users. \n",
        "\n",
        "\n",
        "Recall(sensitivity, hit rate, true positive rate): tp / (tp + fn)\n",
        "Predict most postive or churn user correctly. High recall means low fn, not many churn users were predicted as return users."
      ]
    },
    {
      "cell_type": "code",
      "execution_count": null,
      "metadata": {
        "id": "o-tP94iFi0OI"
      },
      "outputs": [],
      "source": [
        "from sklearn.metrics import confusion_matrix\n",
        "from sklearn.metrics import classification_report\n",
        "from sklearn.metrics import precision_score\n",
        "from sklearn.metrics import recall_score\n",
        "\n",
        "# calculate accuracy, precision and recall, [[tn, fp],[]]\n",
        "def cal_evaluation(classifier, cm):\n",
        "    tn = cm[0][0]\n",
        "    fp = cm[0][1]\n",
        "    fn = cm[1][0]\n",
        "    tp = cm[1][1]\n",
        "    accuracy  = (tp + tn) / (tp + fp + fn + tn + 0.0)\n",
        "    precision = tp / (tp + fp + 0.0)\n",
        "    recall = tp / (tp + fn + 0.0)\n",
        "    f1 = 2*(precision*recall) / (precision+recall)\n",
        "    print (classifier)\n",
        "    print (\"Accuracy is: \" + str(accuracy))\n",
        "    print (\"Precision is: \" + str(precision))\n",
        "    print (\"Recall is: \" + str(recall))\n",
        "    print (\"F1 is: \" + str(f1))\n",
        "    print ()\n",
        "\n",
        "# print out confusion matrices\n",
        "def draw_confusion_matrices(confusion_matricies):\n",
        "    class_names = ['Not','Churn']\n",
        "    for cm in confusion_matrices:\n",
        "        classifier, cm = cm[0], cm[1]\n",
        "        cal_evaluation(classifier, cm)"
      ]
    },
    {
      "cell_type": "code",
      "execution_count": null,
      "metadata": {
        "id": "OpSGaN49i0OL",
        "colab": {
          "base_uri": "https://localhost:8080/"
        },
        "outputId": "24cc8fbe-2c4e-4662-8a70-eaf36a00b430"
      },
      "outputs": [
        {
          "output_type": "stream",
          "name": "stdout",
          "text": [
            "Random Forest\n",
            "Accuracy is: 0.9710215157976352\n",
            "Precision is: 0.8429844097995546\n",
            "Recall is: 0.8273224043715847\n",
            "F1 is: 0.8350799779371209\n",
            "\n",
            "Logistic Regression\n",
            "Accuracy is: 0.9506687342508238\n",
            "Precision is: 0.736046511627907\n",
            "Recall is: 0.6918032786885245\n",
            "F1 is: 0.7132394366197183\n",
            "\n",
            "K nearest neighbor\n",
            "Accuracy is: 0.9467920139561931\n",
            "Precision is: 0.7707100591715976\n",
            "Recall is: 0.5693989071038251\n",
            "F1 is: 0.6549340037712131\n",
            "\n"
          ]
        }
      ],
      "source": [
        "# Confusion matrix, accuracy, precison and recall for random forest and logistic regression\n",
        "confusion_matrices = [\n",
        "    (\"Random Forest\", confusion_matrix(y_test,best_RF_model.predict(X_test))),\n",
        "    (\"Logistic Regression\", confusion_matrix(y_test,best_LR_model.predict(X_test))),\n",
        "    (\"K nearest neighbor\", confusion_matrix(y_test, best_KNN_model.predict(X_test)))\n",
        "]\n",
        "\n",
        "draw_confusion_matrices(confusion_matrices)"
      ]
    },
    {
      "cell_type": "markdown",
      "metadata": {
        "id": "OvHlyhPBi0OT"
      },
      "source": [
        "### Part 3.4: Model Evaluation - ROC & AUC"
      ]
    },
    {
      "cell_type": "markdown",
      "metadata": {
        "id": "jx_3XkgKi0OW"
      },
      "source": [
        "RandomForestClassifier, KNeighborsClassifier and LogisticRegression have predict_prob() function "
      ]
    },
    {
      "cell_type": "markdown",
      "metadata": {
        "id": "-Os_ZLTvi0OX"
      },
      "source": [
        "#### Part 3.4.1: ROC of RF Model"
      ]
    },
    {
      "cell_type": "code",
      "execution_count": null,
      "metadata": {
        "id": "UypvQMVBi0OY"
      },
      "outputs": [],
      "source": [
        "from sklearn.metrics import roc_curve\n",
        "from sklearn import metrics\n",
        "\n",
        "# Use predict_proba to get the probability results of Random Forest\n",
        "y_pred_rf = best_RF_model.predict_proba(X_test)[:, 1]\n",
        "fpr_rf, tpr_rf, _ = roc_curve(y_test, y_pred_rf)"
      ]
    },
    {
      "cell_type": "code",
      "execution_count": null,
      "metadata": {
        "colab": {
          "base_uri": "https://localhost:8080/"
        },
        "id": "RyADmHiPTtln",
        "outputId": "455afabc-18ed-42c2-c769-2b1c7b6124ef"
      },
      "outputs": [
        {
          "data": {
            "text/plain": [
              "array([[0.98481954, 0.01518046],\n",
              "       [0.96981437, 0.03018563],\n",
              "       [0.98163993, 0.01836007],\n",
              "       ...,\n",
              "       [0.98926666, 0.01073334],\n",
              "       [0.97779247, 0.02220753],\n",
              "       [0.9853599 , 0.0146401 ]])"
            ]
          },
          "execution_count": 78,
          "metadata": {},
          "output_type": "execute_result"
        }
      ],
      "source": [
        "best_RF_model.predict_proba(X_test)"
      ]
    },
    {
      "cell_type": "code",
      "execution_count": null,
      "metadata": {
        "colab": {
          "base_uri": "https://localhost:8080/",
          "height": 295
        },
        "id": "s3PR-PdPi0Ob",
        "outputId": "9c23ce8c-fe33-4a78-ed01-19f28dedf8b3"
      },
      "outputs": [
        {
          "output_type": "display_data",
          "data": {
            "text/plain": [
              "<Figure size 432x288 with 1 Axes>"
            ],
            "image/png": "[encoded data removed]"
          },
          "metadata": {
            "needs_background": "light"
          }
        }
      ],
      "source": [
        "# ROC curve of Random Forest result\n",
        "import matplotlib.pyplot as plt\n",
        "plt.figure()\n",
        "plt.plot([0, 1], [0, 1], 'k--')\n",
        "plt.plot(fpr_rf, tpr_rf, label='RF')\n",
        "plt.xlabel('False positive rate')\n",
        "plt.ylabel('True positive rate')\n",
        "plt.title('ROC curve - RF model')\n",
        "plt.legend(loc='best')\n",
        "plt.show()"
      ]
    },
    {
      "cell_type": "code",
      "execution_count": null,
      "metadata": {
        "colab": {
          "base_uri": "https://localhost:8080/"
        },
        "id": "R89IUMYDi0Oe",
        "outputId": "1c934b5e-b1bf-4137-bef2-d25bd5744897"
      },
      "outputs": [
        {
          "output_type": "execute_result",
          "data": {
            "text/plain": [
              "0.980647787678505"
            ]
          },
          "metadata": {},
          "execution_count": 59
        }
      ],
      "source": [
        "from sklearn import metrics\n",
        "\n",
        "# AUC score\n",
        "metrics.auc(fpr_rf,tpr_rf)"
      ]
    },
    {
      "cell_type": "markdown",
      "metadata": {
        "id": "-1DVqnJVi0Oh"
      },
      "source": [
        "#### Part 3.4.1: ROC of LR Model"
      ]
    },
    {
      "cell_type": "code",
      "execution_count": null,
      "metadata": {
        "id": "t-q5XJPoi0Oi"
      },
      "outputs": [],
      "source": [
        "# Use predict_proba to get the probability results of Logistic Regression\n",
        "y_pred_lr = best_LR_model.predict_proba(X_test)[:, 1]\n",
        "fpr_lr, tpr_lr, thresh = roc_curve(y_test, y_pred_lr)"
      ]
    },
    {
      "cell_type": "code",
      "execution_count": null,
      "metadata": {
        "colab": {
          "base_uri": "https://localhost:8080/"
        },
        "id": "zc4k8gUYcpNE",
        "outputId": "00208b26-0ddc-4f9e-9967-743ec59694ef"
      },
      "outputs": [
        {
          "output_type": "execute_result",
          "data": {
            "text/plain": [
              "array([[0.9652651 , 0.0347349 ],\n",
              "       [0.75672233, 0.24327767],\n",
              "       [0.87960189, 0.12039811],\n",
              "       ...,\n",
              "       [0.91073853, 0.08926147],\n",
              "       [0.92702502, 0.07297498],\n",
              "       [0.91640149, 0.08359851]])"
            ]
          },
          "metadata": {},
          "execution_count": 61
        }
      ],
      "source": [
        "best_LR_model.predict_proba(X_test)"
      ]
    },
    {
      "cell_type": "code",
      "execution_count": null,
      "metadata": {
        "colab": {
          "base_uri": "https://localhost:8080/",
          "height": 295
        },
        "id": "KZSrN-1Mi0Ok",
        "outputId": "e102f14b-0cb3-4b23-9e2a-7f3342be300d"
      },
      "outputs": [
        {
          "output_type": "display_data",
          "data": {
            "text/plain": [
              "<Figure size 432x288 with 1 Axes>"
            ],
            "image/png": "[encoded data removed]"
          },
          "metadata": {
            "needs_background": "light"
          }
        }
      ],
      "source": [
        "# ROC Curve\n",
        "plt.figure(1)\n",
        "plt.plot([0, 1], [0, 1], 'k--')\n",
        "plt.plot(fpr_lr, tpr_lr, label='LR')\n",
        "plt.xlabel('False positive rate')\n",
        "plt.ylabel('True positive rate')\n",
        "plt.title('ROC curve - LR Model')\n",
        "plt.legend(loc='best')\n",
        "plt.show()"
      ]
    },
    {
      "cell_type": "code",
      "execution_count": null,
      "metadata": {
        "colab": {
          "base_uri": "https://localhost:8080/"
        },
        "id": "LHAyxishi0On",
        "outputId": "d25972c8-df1e-4d45-b8df-f238d6529b73"
      },
      "outputs": [
        {
          "output_type": "execute_result",
          "data": {
            "text/plain": [
              "0.9390166723909181"
            ]
          },
          "metadata": {},
          "execution_count": 63
        }
      ],
      "source": [
        "# AUC score\n",
        "metrics.auc(fpr_lr,tpr_lr)"
      ]
    },
    {
      "cell_type": "markdown",
      "metadata": {
        "id": "gHHurD8Ii0Oq"
      },
      "source": [
        "# Part 4: Model Extra Functionality"
      ]
    },
    {
      "cell_type": "markdown",
      "metadata": {
        "id": "uqs41ydLi0O_"
      },
      "source": [
        "### Part 4.1:  Random Forest Model - Feature Importance Discussion"
      ]
    },
    {
      "cell_type": "code",
      "execution_count": null,
      "metadata": {
        "colab": {
          "base_uri": "https://localhost:8080/",
          "height": 300
        },
        "id": "z6HNnaBRvE1T",
        "outputId": "7444ba65-2165-494c-fbdb-54cd0e4e511b"
      },
      "outputs": [
        {
          "output_type": "execute_result",
          "data": {
            "text/plain": [
              "   bd  gender  registration_init_time     num_25    num_50    num_75  \\\n",
              "0  30     1.0                    2194   2.333333  1.333333  1.000000   \n",
              "1  63     1.0                    2192   4.277778  1.722222  0.722222   \n",
              "2  28     0.0                    2190   1.200000  0.100000  0.200000   \n",
              "3  27     1.0                    2183  10.043478  2.695652  1.130435   \n",
              "4  38     0.0                    2181   1.666667  0.333333  0.333333   \n",
              "\n",
              "    num_985    num_100    num_unq    total_secs  ...  payment_method_id_32  \\\n",
              "0  1.833333  86.333333  11.166667  20611.449000  ...                   0.0   \n",
              "1  1.444444  14.944444  18.722222   4469.457500  ...                   0.0   \n",
              "2  0.200000  11.700000   6.800000   2249.476400  ...                   0.0   \n",
              "3  0.956522  27.347826  27.913043   7152.184609  ...                   0.0   \n",
              "4  0.333333   5.500000   5.833333   1518.184000  ...                   0.0   \n",
              "\n",
              "   payment_method_id_33  payment_method_id_34  payment_method_id_35  \\\n",
              "0                   0.0                   0.0                   0.0   \n",
              "1                   0.0                   0.0                   0.0   \n",
              "2                   0.0                   0.0                   0.0   \n",
              "3                   0.0                   0.0                   0.0   \n",
              "4                   0.0                   0.0                   0.0   \n",
              "\n",
              "   payment_method_id_36  payment_method_id_37  payment_method_id_38  \\\n",
              "0                   0.0                   0.0                   0.0   \n",
              "1                   0.0                   0.0                   0.0   \n",
              "2                   1.0                   0.0                   0.0   \n",
              "3                   0.0                   0.0                   0.0   \n",
              "4                   0.0                   0.0                   0.0   \n",
              "\n",
              "   payment_method_id_39  payment_method_id_40  payment_method_id_41  \n",
              "0                   1.0                   0.0                   0.0  \n",
              "1                   0.0                   1.0                   0.0  \n",
              "2                   0.0                   0.0                   0.0  \n",
              "3                   1.0                   0.0                   0.0  \n",
              "4                   0.0                   1.0                   0.0  \n",
              "\n",
              "[5 rows x 76 columns]"
            ],
            "text/html": [
              "\n",
              "  <div id=\"df-02c1a702-a44b-4262-be2b-fddd863ebd82\">\n",
              "    <div class=\"colab-df-container\">\n",
              "      <div>\n",
              "<style scoped>\n",
              "    .dataframe tbody tr th:only-of-type {\n",
              "        vertical-align: middle;\n",
              "    }\n",
              "\n",
              "    .dataframe tbody tr th {\n",
              "        vertical-align: top;\n",
              "    }\n",
              "\n",
              "    .dataframe thead th {\n",
              "        text-align: right;\n",
              "    }\n",
              "</style>\n",
              "<table border=\"1\" class=\"dataframe\">\n",
              "  <thead>\n",
              "    <tr style=\"text-align: right;\">\n",
              "      <th></th>\n",
              "      <th>bd</th>\n",
              "      <th>gender</th>\n",
              "      <th>registration_init_time</th>\n",
              "      <th>num_25</th>\n",
              "      <th>num_50</th>\n",
              "      <th>num_75</th>\n",
              "      <th>num_985</th>\n",
              "      <th>num_100</th>\n",
              "      <th>num_unq</th>\n",
              "      <th>total_secs</th>\n",
              "      <th>...</th>\n",
              "      <th>payment_method_id_32</th>\n",
              "      <th>payment_method_id_33</th>\n",
              "      <th>payment_method_id_34</th>\n",
              "      <th>payment_method_id_35</th>\n",
              "      <th>payment_method_id_36</th>\n",
              "      <th>payment_method_id_37</th>\n",
              "      <th>payment_method_id_38</th>\n",
              "      <th>payment_method_id_39</th>\n",
              "      <th>payment_method_id_40</th>\n",
              "      <th>payment_method_id_41</th>\n",
              "    </tr>\n",
              "  </thead>\n",
              "  <tbody>\n",
              "    <tr>\n",
              "      <th>0</th>\n",
              "      <td>30</td>\n",
              "      <td>1.0</td>\n",
              "      <td>2194</td>\n",
              "      <td>2.333333</td>\n",
              "      <td>1.333333</td>\n",
              "      <td>1.000000</td>\n",
              "      <td>1.833333</td>\n",
              "      <td>86.333333</td>\n",
              "      <td>11.166667</td>\n",
              "      <td>20611.449000</td>\n",
              "      <td>...</td>\n",
              "      <td>0.0</td>\n",
              "      <td>0.0</td>\n",
              "      <td>0.0</td>\n",
              "      <td>0.0</td>\n",
              "      <td>0.0</td>\n",
              "      <td>0.0</td>\n",
              "      <td>0.0</td>\n",
              "      <td>1.0</td>\n",
              "      <td>0.0</td>\n",
              "      <td>0.0</td>\n",
              "    </tr>\n",
              "    <tr>\n",
              "      <th>1</th>\n",
              "      <td>63</td>\n",
              "      <td>1.0</td>\n",
              "      <td>2192</td>\n",
              "      <td>4.277778</td>\n",
              "      <td>1.722222</td>\n",
              "      <td>0.722222</td>\n",
              "      <td>1.444444</td>\n",
              "      <td>14.944444</td>\n",
              "      <td>18.722222</td>\n",
              "      <td>4469.457500</td>\n",
              "      <td>...</td>\n",
              "      <td>0.0</td>\n",
              "      <td>0.0</td>\n",
              "      <td>0.0</td>\n",
              "      <td>0.0</td>\n",
              "      <td>0.0</td>\n",
              "      <td>0.0</td>\n",
              "      <td>0.0</td>\n",
              "      <td>0.0</td>\n",
              "      <td>1.0</td>\n",
              "      <td>0.0</td>\n",
              "    </tr>\n",
              "    <tr>\n",
              "      <th>2</th>\n",
              "      <td>28</td>\n",
              "      <td>0.0</td>\n",
              "      <td>2190</td>\n",
              "      <td>1.200000</td>\n",
              "      <td>0.100000</td>\n",
              "      <td>0.200000</td>\n",
              "      <td>0.200000</td>\n",
              "      <td>11.700000</td>\n",
              "      <td>6.800000</td>\n",
              "      <td>2249.476400</td>\n",
              "      <td>...</td>\n",
              "      <td>0.0</td>\n",
              "      <td>0.0</td>\n",
              "      <td>0.0</td>\n",
              "      <td>0.0</td>\n",
              "      <td>1.0</td>\n",
              "      <td>0.0</td>\n",
              "      <td>0.0</td>\n",
              "      <td>0.0</td>\n",
              "      <td>0.0</td>\n",
              "      <td>0.0</td>\n",
              "    </tr>\n",
              "    <tr>\n",
              "      <th>3</th>\n",
              "      <td>27</td>\n",
              "      <td>1.0</td>\n",
              "      <td>2183</td>\n",
              "      <td>10.043478</td>\n",
              "      <td>2.695652</td>\n",
              "      <td>1.130435</td>\n",
              "      <td>0.956522</td>\n",
              "      <td>27.347826</td>\n",
              "      <td>27.913043</td>\n",
              "      <td>7152.184609</td>\n",
              "      <td>...</td>\n",
              "      <td>0.0</td>\n",
              "      <td>0.0</td>\n",
              "      <td>0.0</td>\n",
              "      <td>0.0</td>\n",
              "      <td>0.0</td>\n",
              "      <td>0.0</td>\n",
              "      <td>0.0</td>\n",
              "      <td>1.0</td>\n",
              "      <td>0.0</td>\n",
              "      <td>0.0</td>\n",
              "    </tr>\n",
              "    <tr>\n",
              "      <th>4</th>\n",
              "      <td>38</td>\n",
              "      <td>0.0</td>\n",
              "      <td>2181</td>\n",
              "      <td>1.666667</td>\n",
              "      <td>0.333333</td>\n",
              "      <td>0.333333</td>\n",
              "      <td>0.333333</td>\n",
              "      <td>5.500000</td>\n",
              "      <td>5.833333</td>\n",
              "      <td>1518.184000</td>\n",
              "      <td>...</td>\n",
              "      <td>0.0</td>\n",
              "      <td>0.0</td>\n",
              "      <td>0.0</td>\n",
              "      <td>0.0</td>\n",
              "      <td>0.0</td>\n",
              "      <td>0.0</td>\n",
              "      <td>0.0</td>\n",
              "      <td>0.0</td>\n",
              "      <td>1.0</td>\n",
              "      <td>0.0</td>\n",
              "    </tr>\n",
              "  </tbody>\n",
              "</table>\n",
              "<p>5 rows × 76 columns</p>\n",
              "</div>\n",
              "      <button class=\"colab-df-convert\" onclick=\"convertToInteractive('df-02c1a702-a44b-4262-be2b-fddd863ebd82')\"\n",
              "              title=\"Convert this dataframe to an interactive table.\"\n",
              "              style=\"display:none;\">\n",
              "        \n",
              "  <svg xmlns=\"http://www.w3.org/2000/svg\" height=\"24px\"viewBox=\"0 0 24 24\"\n",
              "       width=\"24px\">\n",
              "    <path d=\"M0 0h24v24H0V0z\" fill=\"none\"/>\n",
              "    <path d=\"M18.56 5.44l.94 2.06.94-2.06 2.06-.94-2.06-.94-.94-2.06-.94 2.06-2.06.94zm-11 1L8.5 8.5l.94-2.06 2.06-.94-2.06-.94L8.5 2.5l-.94 2.06-2.06.94zm10 10l.94 2.06.94-2.06 2.06-.94-2.06-.94-.94-2.06-.94 2.06-2.06.94z\"/><path d=\"M17.41 7.96l-1.37-1.37c-.4-.4-.92-.59-1.43-.59-.52 0-1.04.2-1.43.59L10.3 9.45l-7.72 7.72c-.78.78-.78 2.05 0 2.83L4 21.41c.39.39.9.59 1.41.59.51 0 1.02-.2 1.41-.59l7.78-7.78 2.81-2.81c.8-.78.8-2.07 0-2.86zM5.41 20L4 18.59l7.72-7.72 1.47 1.35L5.41 20z\"/>\n",
              "  </svg>\n",
              "      </button>\n",
              "      \n",
              "  <style>\n",
              "    .colab-df-container {\n",
              "      display:flex;\n",
              "      flex-wrap:wrap;\n",
              "      gap: 12px;\n",
              "    }\n",
              "\n",
              "    .colab-df-convert {\n",
              "      background-color: #E8F0FE;\n",
              "      border: none;\n",
              "      border-radius: 50%;\n",
              "      cursor: pointer;\n",
              "      display: none;\n",
              "      fill: #1967D2;\n",
              "      height: 32px;\n",
              "      padding: 0 0 0 0;\n",
              "      width: 32px;\n",
              "    }\n",
              "\n",
              "    .colab-df-convert:hover {\n",
              "      background-color: #E2EBFA;\n",
              "      box-shadow: 0px 1px 2px rgba(60, 64, 67, 0.3), 0px 1px 3px 1px rgba(60, 64, 67, 0.15);\n",
              "      fill: #174EA6;\n",
              "    }\n",
              "\n",
              "    [theme=dark] .colab-df-convert {\n",
              "      background-color: #3B4455;\n",
              "      fill: #D2E3FC;\n",
              "    }\n",
              "\n",
              "    [theme=dark] .colab-df-convert:hover {\n",
              "      background-color: #434B5C;\n",
              "      box-shadow: 0px 1px 3px 1px rgba(0, 0, 0, 0.15);\n",
              "      filter: drop-shadow(0px 1px 2px rgba(0, 0, 0, 0.3));\n",
              "      fill: #FFFFFF;\n",
              "    }\n",
              "  </style>\n",
              "\n",
              "      <script>\n",
              "        const buttonEl =\n",
              "          document.querySelector('#df-02c1a702-a44b-4262-be2b-fddd863ebd82 button.colab-df-convert');\n",
              "        buttonEl.style.display =\n",
              "          google.colab.kernel.accessAllowed ? 'block' : 'none';\n",
              "\n",
              "        async function convertToInteractive(key) {\n",
              "          const element = document.querySelector('#df-02c1a702-a44b-4262-be2b-fddd863ebd82');\n",
              "          const dataTable =\n",
              "            await google.colab.kernel.invokeFunction('convertToInteractive',\n",
              "                                                     [key], {});\n",
              "          if (!dataTable) return;\n",
              "\n",
              "          const docLinkHtml = 'Like what you see? Visit the ' +\n",
              "            '<a target=\"_blank\" href=https://colab.research.google.com/notebooks/data_table.ipynb>data table notebook</a>'\n",
              "            + ' to learn more about interactive tables.';\n",
              "          element.innerHTML = '';\n",
              "          dataTable['output_type'] = 'display_data';\n",
              "          await google.colab.output.renderOutput(dataTable, element);\n",
              "          const docLink = document.createElement('div');\n",
              "          docLink.innerHTML = docLinkHtml;\n",
              "          element.appendChild(docLink);\n",
              "        }\n",
              "      </script>\n",
              "    </div>\n",
              "  </div>\n",
              "  "
            ]
          },
          "metadata": {},
          "execution_count": 64
        }
      ],
      "source": [
        "X_RF = X.copy()\n",
        "\n",
        "X_RF = OneHotEncoding(X_RF, enc_ohe, ['city', 'registered_via', 'payment_method_id'])\n",
        "X_RF['gender'] = enc_oe.transform(X_RF[['gender']])\n",
        "X_RF['bd'] = np.where(X_RF['bd'] < 10, 10, X_RF['bd'])\n",
        "X_RF['bd'] = np.where(X_RF['bd'] > 100, 100, X_RF['bd'])\n",
        "\n",
        "X_RF.head()"
      ]
    },
    {
      "cell_type": "code",
      "execution_count": null,
      "metadata": {
        "colab": {
          "base_uri": "https://localhost:8080/"
        },
        "id": "MPxUM2lei0PA",
        "outputId": "dd3f3add-eb62-4a87-b2b1-5244050deca3"
      },
      "outputs": [
        {
          "output_type": "stream",
          "name": "stdout",
          "text": [
            "Feature importance ranking by Random Forest Model:\n",
            "membership_expire_date : 0.2567\n",
            "payment_plan_days : 0.1054\n",
            "actual_amount_paid : 0.0942\n",
            "plan_list_price : 0.0865\n",
            "transaction_date : 0.0715\n",
            "is_cancel : 0.054\n",
            "registration_init_time : 0.0289\n",
            "total_secs : 0.0247\n",
            "num_unq : 0.0243\n",
            "num_25 : 0.0243\n",
            "num_100 : 0.0243\n",
            "payment_method_id_32 : 0.0242\n",
            "num_50 : 0.023\n",
            "num_985 : 0.0227\n",
            "num_75 : 0.0226\n",
            "bd : 0.0191\n",
            "is_auto_renew : 0.0175\n",
            "payment_method_id_39 : 0.0103\n",
            "payment_method_id_17 : 0.0054\n",
            "gender : 0.0043\n",
            "payment_method_id_38 : 0.0038\n",
            "payment_method_id_41 : 0.0037\n",
            "city_13 : 0.0029\n",
            "payment_method_id_40 : 0.0028\n",
            "registered_via_9 : 0.0027\n",
            "registered_via_7 : 0.0027\n",
            "city_5 : 0.0026\n",
            "registered_via_3 : 0.0024\n",
            "city_4 : 0.0024\n",
            "city_22 : 0.0022\n",
            "city_15 : 0.002\n",
            "payment_method_id_36 : 0.002\n",
            "city_6 : 0.0017\n",
            "registered_via_4 : 0.0015\n",
            "payment_method_id_15 : 0.0014\n",
            "city_1 : 0.0014\n",
            "payment_method_id_37 : 0.0014\n",
            "city_14 : 0.0013\n",
            "city_12 : 0.0011\n",
            "payment_method_id_29 : 0.001\n",
            "city_9 : 0.001\n",
            "payment_method_id_22 : 0.0009\n",
            "city_8 : 0.0009\n",
            "city_11 : 0.0009\n",
            "payment_method_id_20 : 0.0009\n",
            "city_18 : 0.0008\n",
            "city_10 : 0.0008\n",
            "payment_method_id_35 : 0.0007\n",
            "payment_method_id_33 : 0.0007\n",
            "city_21 : 0.0007\n",
            "city_3 : 0.0007\n",
            "payment_method_id_30 : 0.0006\n",
            "city_17 : 0.0006\n",
            "payment_method_id_34 : 0.0005\n",
            "payment_method_id_13 : 0.0004\n",
            "city_7 : 0.0004\n",
            "payment_method_id_28 : 0.0003\n",
            "city_16 : 0.0002\n",
            "payment_method_id_31 : 0.0002\n",
            "payment_method_id_27 : 0.0002\n",
            "payment_method_id_12 : 0.0002\n",
            "payment_method_id_21 : 0.0001\n",
            "payment_method_id_16 : 0.0001\n",
            "city_20 : 0.0001\n",
            "payment_method_id_19 : 0.0001\n",
            "payment_method_id_23 : 0.0\n",
            "payment_method_id_26 : 0.0\n",
            "city_19 : 0.0\n",
            "registered_via_13 : 0.0\n",
            "payment_method_id_18 : 0.0\n",
            "payment_method_id_14 : 0.0\n",
            "payment_method_id_10 : 0.0\n",
            "payment_method_id_11 : 0.0\n",
            "payment_method_id_8 : 0.0\n",
            "payment_method_id_3 : 0.0\n",
            "payment_method_id_6 : 0.0\n"
          ]
        }
      ],
      "source": [
        "# check feature importance of random forest for feature selection\n",
        "forest = RandomForestClassifier()\n",
        "forest.fit(X_RF, y)\n",
        "\n",
        "importances = forest.feature_importances_\n",
        "\n",
        "indices = np.argsort(importances)[::-1]\n",
        "\n",
        "# Print the feature ranking\n",
        "print(\"Feature importance ranking by Random Forest Model:\")\n",
        "for ind in range(X_RF.shape[1]):\n",
        "    print (\"{0} : {1}\".format(X_RF.columns[indices[ind]],round(importances[indices[ind]], 4)))"
      ]
    }
  ],
  "metadata": {
    "colab": {
      "collapsed_sections": [],
      "name": "Project_User_Churn_Prediction.ipynb",
      "provenance": []
    },
    "kernelspec": {
      "display_name": "Python 3 (ipykernel)",
      "language": "python",
      "name": "python3"
    },
    "language_info": {
      "codemirror_mode": {
        "name": "ipython",
        "version": 3
      },
      "file_extension": ".py",
      "mimetype": "text/x-python",
      "name": "python",
      "nbconvert_exporter": "python",
      "pygments_lexer": "ipython3",
      "version": "3.8.8"
    },
    "accelerator": "GPU",
    "gpuClass": "standard"
  },
  "nbformat": 4,
  "nbformat_minor": 0
}